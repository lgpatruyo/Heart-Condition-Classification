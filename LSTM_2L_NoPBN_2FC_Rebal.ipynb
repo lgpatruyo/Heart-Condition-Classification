{
  "nbformat": 4,
  "nbformat_minor": 0,
  "metadata": {
    "colab": {
      "name": "LSTM_2L_NoPBN_2FC_Rebal",
      "provenance": [],
      "collapsed_sections": [],
      "toc_visible": true,
      "mount_file_id": "1Xrqw5h4LGB8b5-Ws_1BTgUYBn1Hd615e",
      "authorship_tag": "ABX9TyP5Cpwcq7xcG8Yhqv+cENvZ",
      "include_colab_link": true
    },
    "kernelspec": {
      "name": "python3",
      "display_name": "Python 3"
    }
  },
  "cells": [
    {
      "cell_type": "markdown",
      "metadata": {
        "id": "view-in-github",
        "colab_type": "text"
      },
      "source": [
        "<a href=\"https://colab.research.google.com/github/lgpatruyo/Heart-Condition-Classification/blob/main/LSTM_2L_NoPBN_2FC_Rebal.ipynb\" target=\"_parent\"><img src=\"https://colab.research.google.com/assets/colab-badge.svg\" alt=\"Open In Colab\"/></a>"
      ]
    },
    {
      "cell_type": "code",
      "metadata": {
        "colab": {
          "base_uri": "https://localhost:8080/"
        },
        "id": "uSCwZ7ejf4MQ",
        "outputId": "e84cfec5-cd71-4fc4-a295-95f706b0c8af"
      },
      "source": [
        "from google.colab import drive\n",
        "drive.mount('/content/drive')"
      ],
      "execution_count": null,
      "outputs": [
        {
          "output_type": "stream",
          "text": [
            "Mounted at /content/drive\n"
          ],
          "name": "stdout"
        }
      ]
    },
    {
      "cell_type": "code",
      "metadata": {
        "id": "WUzkDbd-Ydr6"
      },
      "source": [
        ""
      ],
      "execution_count": null,
      "outputs": []
    },
    {
      "cell_type": "markdown",
      "metadata": {
        "id": "mOzsosXnagSl"
      },
      "source": [
        "# Modules"
      ]
    },
    {
      "cell_type": "code",
      "metadata": {
        "id": "N4PKyiR5EPf0"
      },
      "source": [
        "from keras.layers import Dense, Convolution1D, MaxPool1D, Flatten, Dropout, LSTM\n",
        "from keras.layers import Input\n",
        "from keras.models import Model\n",
        "from keras.layers.normalization import BatchNormalization\n",
        "import keras\n",
        "from keras.callbacks import EarlyStopping, ModelCheckpoint\n",
        "from keras.utils.np_utils import to_categorical"
      ],
      "execution_count": null,
      "outputs": []
    },
    {
      "cell_type": "code",
      "metadata": {
        "id": "1xIIfdtAgwkD"
      },
      "source": [
        "# Modules\n",
        "import pandas as pd\n",
        "import numpy as np\n",
        "from sklearn.model_selection import train_test_split\n",
        "# Importing metrics\n",
        "from sklearn.metrics import mean_squared_error\n",
        "from sklearn.metrics import accuracy_score\n",
        "from sklearn.metrics import confusion_matrix\n",
        "from sklearn.metrics import plot_confusion_matrix\n",
        "from sklearn.metrics import classification_report\n",
        "from sklearn.preprocessing import MinMaxScaler\n",
        "\n",
        "import plotly.express as px\n",
        "import matplotlib.pyplot as plt\n",
        "%matplotlib inline\n"
      ],
      "execution_count": null,
      "outputs": []
    },
    {
      "cell_type": "markdown",
      "metadata": {
        "id": "VcV6nVuvacg3"
      },
      "source": [
        "# Collecting Data"
      ]
    },
    {
      "cell_type": "code",
      "metadata": {
        "id": "q6VA2M8pQMVY"
      },
      "source": [
        ""
      ],
      "execution_count": null,
      "outputs": []
    },
    {
      "cell_type": "code",
      "metadata": {
        "id": "ow0bzciYLW0j"
      },
      "source": [
        "# IMPORTING DATA WITH NO HEART CONDITION (NORMAL) FROM MY DRIVE\n",
        "df_normal = pd.read_csv('/content/drive/MyDrive/Colab Notebooks/Final_Project/Data/ptbdb_normal.csv', header=None)"
      ],
      "execution_count": null,
      "outputs": []
    },
    {
      "cell_type": "code",
      "metadata": {
        "id": "CPGFxLDGN9xV"
      },
      "source": [
        "# IMPORTING DATA WITH HEART CONDITION (ABNORMAL) FROM MY DRIVE\n",
        "df_abnormal = pd.read_csv('/content/drive/MyDrive/Colab Notebooks/Final_Project/Data/ptbdb_abnormal.csv', header=None)"
      ],
      "execution_count": null,
      "outputs": []
    },
    {
      "cell_type": "code",
      "metadata": {
        "colab": {
          "base_uri": "https://localhost:8080/",
          "height": 161
        },
        "id": "1iHKH0hJROKR",
        "outputId": "8abed4c7-8da8-4963-ef66-dd762a586c3d"
      },
      "source": [
        "df_abnormal.head(2)"
      ],
      "execution_count": null,
      "outputs": [
        {
          "output_type": "execute_result",
          "data": {
            "text/html": [
              "<div>\n",
              "<style scoped>\n",
              "    .dataframe tbody tr th:only-of-type {\n",
              "        vertical-align: middle;\n",
              "    }\n",
              "\n",
              "    .dataframe tbody tr th {\n",
              "        vertical-align: top;\n",
              "    }\n",
              "\n",
              "    .dataframe thead th {\n",
              "        text-align: right;\n",
              "    }\n",
              "</style>\n",
              "<table border=\"1\" class=\"dataframe\">\n",
              "  <thead>\n",
              "    <tr style=\"text-align: right;\">\n",
              "      <th></th>\n",
              "      <th>0</th>\n",
              "      <th>1</th>\n",
              "      <th>2</th>\n",
              "      <th>3</th>\n",
              "      <th>4</th>\n",
              "      <th>5</th>\n",
              "      <th>6</th>\n",
              "      <th>7</th>\n",
              "      <th>8</th>\n",
              "      <th>9</th>\n",
              "      <th>10</th>\n",
              "      <th>11</th>\n",
              "      <th>12</th>\n",
              "      <th>13</th>\n",
              "      <th>14</th>\n",
              "      <th>15</th>\n",
              "      <th>16</th>\n",
              "      <th>17</th>\n",
              "      <th>18</th>\n",
              "      <th>19</th>\n",
              "      <th>20</th>\n",
              "      <th>21</th>\n",
              "      <th>22</th>\n",
              "      <th>23</th>\n",
              "      <th>24</th>\n",
              "      <th>25</th>\n",
              "      <th>26</th>\n",
              "      <th>27</th>\n",
              "      <th>28</th>\n",
              "      <th>29</th>\n",
              "      <th>30</th>\n",
              "      <th>31</th>\n",
              "      <th>32</th>\n",
              "      <th>33</th>\n",
              "      <th>34</th>\n",
              "      <th>35</th>\n",
              "      <th>36</th>\n",
              "      <th>37</th>\n",
              "      <th>38</th>\n",
              "      <th>39</th>\n",
              "      <th>...</th>\n",
              "      <th>148</th>\n",
              "      <th>149</th>\n",
              "      <th>150</th>\n",
              "      <th>151</th>\n",
              "      <th>152</th>\n",
              "      <th>153</th>\n",
              "      <th>154</th>\n",
              "      <th>155</th>\n",
              "      <th>156</th>\n",
              "      <th>157</th>\n",
              "      <th>158</th>\n",
              "      <th>159</th>\n",
              "      <th>160</th>\n",
              "      <th>161</th>\n",
              "      <th>162</th>\n",
              "      <th>163</th>\n",
              "      <th>164</th>\n",
              "      <th>165</th>\n",
              "      <th>166</th>\n",
              "      <th>167</th>\n",
              "      <th>168</th>\n",
              "      <th>169</th>\n",
              "      <th>170</th>\n",
              "      <th>171</th>\n",
              "      <th>172</th>\n",
              "      <th>173</th>\n",
              "      <th>174</th>\n",
              "      <th>175</th>\n",
              "      <th>176</th>\n",
              "      <th>177</th>\n",
              "      <th>178</th>\n",
              "      <th>179</th>\n",
              "      <th>180</th>\n",
              "      <th>181</th>\n",
              "      <th>182</th>\n",
              "      <th>183</th>\n",
              "      <th>184</th>\n",
              "      <th>185</th>\n",
              "      <th>186</th>\n",
              "      <th>187</th>\n",
              "    </tr>\n",
              "  </thead>\n",
              "  <tbody>\n",
              "    <tr>\n",
              "      <th>0</th>\n",
              "      <td>0.932233</td>\n",
              "      <td>0.869679</td>\n",
              "      <td>0.886186</td>\n",
              "      <td>0.929626</td>\n",
              "      <td>0.908775</td>\n",
              "      <td>0.933970</td>\n",
              "      <td>0.801043</td>\n",
              "      <td>0.749783</td>\n",
              "      <td>0.687229</td>\n",
              "      <td>0.635100</td>\n",
              "      <td>0.649870</td>\n",
              "      <td>0.635100</td>\n",
              "      <td>0.655083</td>\n",
              "      <td>0.664639</td>\n",
              "      <td>0.633362</td>\n",
              "      <td>0.746308</td>\n",
              "      <td>0.871416</td>\n",
              "      <td>0.938314</td>\n",
              "      <td>1.000000</td>\n",
              "      <td>0.948740</td>\n",
              "      <td>0.396177</td>\n",
              "      <td>0.000000</td>\n",
              "      <td>0.039096</td>\n",
              "      <td>0.128584</td>\n",
              "      <td>0.305821</td>\n",
              "      <td>0.640313</td>\n",
              "      <td>0.617724</td>\n",
              "      <td>0.537793</td>\n",
              "      <td>0.352737</td>\n",
              "      <td>0.220678</td>\n",
              "      <td>0.256299</td>\n",
              "      <td>0.357950</td>\n",
              "      <td>0.482189</td>\n",
              "      <td>0.570808</td>\n",
              "      <td>0.577758</td>\n",
              "      <td>0.620330</td>\n",
              "      <td>0.622068</td>\n",
              "      <td>0.618593</td>\n",
              "      <td>0.626412</td>\n",
              "      <td>0.612511</td>\n",
              "      <td>...</td>\n",
              "      <td>0.0</td>\n",
              "      <td>0.0</td>\n",
              "      <td>0.0</td>\n",
              "      <td>0.0</td>\n",
              "      <td>0.0</td>\n",
              "      <td>0.0</td>\n",
              "      <td>0.0</td>\n",
              "      <td>0.0</td>\n",
              "      <td>0.0</td>\n",
              "      <td>0.0</td>\n",
              "      <td>0.0</td>\n",
              "      <td>0.0</td>\n",
              "      <td>0.0</td>\n",
              "      <td>0.0</td>\n",
              "      <td>0.0</td>\n",
              "      <td>0.0</td>\n",
              "      <td>0.0</td>\n",
              "      <td>0.0</td>\n",
              "      <td>0.0</td>\n",
              "      <td>0.0</td>\n",
              "      <td>0.0</td>\n",
              "      <td>0.0</td>\n",
              "      <td>0.0</td>\n",
              "      <td>0.0</td>\n",
              "      <td>0.0</td>\n",
              "      <td>0.0</td>\n",
              "      <td>0.0</td>\n",
              "      <td>0.0</td>\n",
              "      <td>0.0</td>\n",
              "      <td>0.0</td>\n",
              "      <td>0.0</td>\n",
              "      <td>0.0</td>\n",
              "      <td>0.0</td>\n",
              "      <td>0.0</td>\n",
              "      <td>0.0</td>\n",
              "      <td>0.0</td>\n",
              "      <td>0.0</td>\n",
              "      <td>0.0</td>\n",
              "      <td>0.0</td>\n",
              "      <td>1.0</td>\n",
              "    </tr>\n",
              "    <tr>\n",
              "      <th>1</th>\n",
              "      <td>1.000000</td>\n",
              "      <td>0.606941</td>\n",
              "      <td>0.384181</td>\n",
              "      <td>0.254237</td>\n",
              "      <td>0.223567</td>\n",
              "      <td>0.276836</td>\n",
              "      <td>0.253430</td>\n",
              "      <td>0.184826</td>\n",
              "      <td>0.153349</td>\n",
              "      <td>0.121872</td>\n",
              "      <td>0.125101</td>\n",
              "      <td>0.129136</td>\n",
              "      <td>0.137207</td>\n",
              "      <td>0.137207</td>\n",
              "      <td>0.132365</td>\n",
              "      <td>0.126715</td>\n",
              "      <td>0.158192</td>\n",
              "      <td>0.152542</td>\n",
              "      <td>0.132365</td>\n",
              "      <td>0.168684</td>\n",
              "      <td>0.156578</td>\n",
              "      <td>0.183212</td>\n",
              "      <td>0.191283</td>\n",
              "      <td>0.204197</td>\n",
              "      <td>0.230024</td>\n",
              "      <td>0.244552</td>\n",
              "      <td>0.285714</td>\n",
              "      <td>0.307506</td>\n",
              "      <td>0.321227</td>\n",
              "      <td>0.327684</td>\n",
              "      <td>0.351897</td>\n",
              "      <td>0.373688</td>\n",
              "      <td>0.397094</td>\n",
              "      <td>0.363196</td>\n",
              "      <td>0.340597</td>\n",
              "      <td>0.307506</td>\n",
              "      <td>0.258273</td>\n",
              "      <td>0.197740</td>\n",
              "      <td>0.199354</td>\n",
              "      <td>0.173527</td>\n",
              "      <td>...</td>\n",
              "      <td>0.0</td>\n",
              "      <td>0.0</td>\n",
              "      <td>0.0</td>\n",
              "      <td>0.0</td>\n",
              "      <td>0.0</td>\n",
              "      <td>0.0</td>\n",
              "      <td>0.0</td>\n",
              "      <td>0.0</td>\n",
              "      <td>0.0</td>\n",
              "      <td>0.0</td>\n",
              "      <td>0.0</td>\n",
              "      <td>0.0</td>\n",
              "      <td>0.0</td>\n",
              "      <td>0.0</td>\n",
              "      <td>0.0</td>\n",
              "      <td>0.0</td>\n",
              "      <td>0.0</td>\n",
              "      <td>0.0</td>\n",
              "      <td>0.0</td>\n",
              "      <td>0.0</td>\n",
              "      <td>0.0</td>\n",
              "      <td>0.0</td>\n",
              "      <td>0.0</td>\n",
              "      <td>0.0</td>\n",
              "      <td>0.0</td>\n",
              "      <td>0.0</td>\n",
              "      <td>0.0</td>\n",
              "      <td>0.0</td>\n",
              "      <td>0.0</td>\n",
              "      <td>0.0</td>\n",
              "      <td>0.0</td>\n",
              "      <td>0.0</td>\n",
              "      <td>0.0</td>\n",
              "      <td>0.0</td>\n",
              "      <td>0.0</td>\n",
              "      <td>0.0</td>\n",
              "      <td>0.0</td>\n",
              "      <td>0.0</td>\n",
              "      <td>0.0</td>\n",
              "      <td>1.0</td>\n",
              "    </tr>\n",
              "  </tbody>\n",
              "</table>\n",
              "<p>2 rows × 188 columns</p>\n",
              "</div>"
            ],
            "text/plain": [
              "        0         1         2         3         4    ...  183  184  185  186  187\n",
              "0  0.932233  0.869679  0.886186  0.929626  0.908775  ...  0.0  0.0  0.0  0.0  1.0\n",
              "1  1.000000  0.606941  0.384181  0.254237  0.223567  ...  0.0  0.0  0.0  0.0  1.0\n",
              "\n",
              "[2 rows x 188 columns]"
            ]
          },
          "metadata": {
            "tags": []
          },
          "execution_count": 6
        }
      ]
    },
    {
      "cell_type": "code",
      "metadata": {
        "id": "HPrNBuUCPCl4"
      },
      "source": [
        "df = pd.concat([df_normal, df_abnormal], axis=0, ignore_index=True)"
      ],
      "execution_count": null,
      "outputs": []
    },
    {
      "cell_type": "code",
      "metadata": {
        "id": "lnHCm5VBTjv7"
      },
      "source": [
        "X_data = df.loc[:,:186]\n",
        "y_data = df.loc[:,187]"
      ],
      "execution_count": null,
      "outputs": []
    },
    {
      "cell_type": "code",
      "metadata": {
        "id": "w5_HICGchVOj",
        "colab": {
          "base_uri": "https://localhost:8080/",
          "height": 161
        },
        "outputId": "29d22be8-14af-4124-97f6-16ee4dd65f39"
      },
      "source": [
        "X_data.head(2)"
      ],
      "execution_count": null,
      "outputs": [
        {
          "output_type": "execute_result",
          "data": {
            "text/html": [
              "<div>\n",
              "<style scoped>\n",
              "    .dataframe tbody tr th:only-of-type {\n",
              "        vertical-align: middle;\n",
              "    }\n",
              "\n",
              "    .dataframe tbody tr th {\n",
              "        vertical-align: top;\n",
              "    }\n",
              "\n",
              "    .dataframe thead th {\n",
              "        text-align: right;\n",
              "    }\n",
              "</style>\n",
              "<table border=\"1\" class=\"dataframe\">\n",
              "  <thead>\n",
              "    <tr style=\"text-align: right;\">\n",
              "      <th></th>\n",
              "      <th>0</th>\n",
              "      <th>1</th>\n",
              "      <th>2</th>\n",
              "      <th>3</th>\n",
              "      <th>4</th>\n",
              "      <th>5</th>\n",
              "      <th>6</th>\n",
              "      <th>7</th>\n",
              "      <th>8</th>\n",
              "      <th>9</th>\n",
              "      <th>10</th>\n",
              "      <th>11</th>\n",
              "      <th>12</th>\n",
              "      <th>13</th>\n",
              "      <th>14</th>\n",
              "      <th>15</th>\n",
              "      <th>16</th>\n",
              "      <th>17</th>\n",
              "      <th>18</th>\n",
              "      <th>19</th>\n",
              "      <th>20</th>\n",
              "      <th>21</th>\n",
              "      <th>22</th>\n",
              "      <th>23</th>\n",
              "      <th>24</th>\n",
              "      <th>25</th>\n",
              "      <th>26</th>\n",
              "      <th>27</th>\n",
              "      <th>28</th>\n",
              "      <th>29</th>\n",
              "      <th>30</th>\n",
              "      <th>31</th>\n",
              "      <th>32</th>\n",
              "      <th>33</th>\n",
              "      <th>34</th>\n",
              "      <th>35</th>\n",
              "      <th>36</th>\n",
              "      <th>37</th>\n",
              "      <th>38</th>\n",
              "      <th>39</th>\n",
              "      <th>...</th>\n",
              "      <th>147</th>\n",
              "      <th>148</th>\n",
              "      <th>149</th>\n",
              "      <th>150</th>\n",
              "      <th>151</th>\n",
              "      <th>152</th>\n",
              "      <th>153</th>\n",
              "      <th>154</th>\n",
              "      <th>155</th>\n",
              "      <th>156</th>\n",
              "      <th>157</th>\n",
              "      <th>158</th>\n",
              "      <th>159</th>\n",
              "      <th>160</th>\n",
              "      <th>161</th>\n",
              "      <th>162</th>\n",
              "      <th>163</th>\n",
              "      <th>164</th>\n",
              "      <th>165</th>\n",
              "      <th>166</th>\n",
              "      <th>167</th>\n",
              "      <th>168</th>\n",
              "      <th>169</th>\n",
              "      <th>170</th>\n",
              "      <th>171</th>\n",
              "      <th>172</th>\n",
              "      <th>173</th>\n",
              "      <th>174</th>\n",
              "      <th>175</th>\n",
              "      <th>176</th>\n",
              "      <th>177</th>\n",
              "      <th>178</th>\n",
              "      <th>179</th>\n",
              "      <th>180</th>\n",
              "      <th>181</th>\n",
              "      <th>182</th>\n",
              "      <th>183</th>\n",
              "      <th>184</th>\n",
              "      <th>185</th>\n",
              "      <th>186</th>\n",
              "    </tr>\n",
              "  </thead>\n",
              "  <tbody>\n",
              "    <tr>\n",
              "      <th>0</th>\n",
              "      <td>1.0</td>\n",
              "      <td>0.900324</td>\n",
              "      <td>0.358590</td>\n",
              "      <td>0.051459</td>\n",
              "      <td>0.046596</td>\n",
              "      <td>0.126823</td>\n",
              "      <td>0.133306</td>\n",
              "      <td>0.119125</td>\n",
              "      <td>0.110616</td>\n",
              "      <td>0.113047</td>\n",
              "      <td>0.106564</td>\n",
              "      <td>0.106969</td>\n",
              "      <td>0.115883</td>\n",
              "      <td>0.122366</td>\n",
              "      <td>0.122366</td>\n",
              "      <td>0.11953</td>\n",
              "      <td>0.115883</td>\n",
              "      <td>0.122366</td>\n",
              "      <td>0.126013</td>\n",
              "      <td>0.133712</td>\n",
              "      <td>0.134927</td>\n",
              "      <td>0.142626</td>\n",
              "      <td>0.151135</td>\n",
              "      <td>0.158428</td>\n",
              "      <td>0.163695</td>\n",
              "      <td>0.173825</td>\n",
              "      <td>0.188817</td>\n",
              "      <td>0.207861</td>\n",
              "      <td>0.230956</td>\n",
              "      <td>0.258509</td>\n",
              "      <td>0.294571</td>\n",
              "      <td>0.325770</td>\n",
              "      <td>0.362642</td>\n",
              "      <td>0.398298</td>\n",
              "      <td>0.429498</td>\n",
              "      <td>0.449352</td>\n",
              "      <td>0.450972</td>\n",
              "      <td>0.418963</td>\n",
              "      <td>0.372771</td>\n",
              "      <td>0.310373</td>\n",
              "      <td>...</td>\n",
              "      <td>0.0</td>\n",
              "      <td>0.0</td>\n",
              "      <td>0.0</td>\n",
              "      <td>0.0</td>\n",
              "      <td>0.0</td>\n",
              "      <td>0.0</td>\n",
              "      <td>0.0</td>\n",
              "      <td>0.0</td>\n",
              "      <td>0.0</td>\n",
              "      <td>0.0</td>\n",
              "      <td>0.0</td>\n",
              "      <td>0.0</td>\n",
              "      <td>0.0</td>\n",
              "      <td>0.0</td>\n",
              "      <td>0.0</td>\n",
              "      <td>0.0</td>\n",
              "      <td>0.0</td>\n",
              "      <td>0.0</td>\n",
              "      <td>0.0</td>\n",
              "      <td>0.0</td>\n",
              "      <td>0.0</td>\n",
              "      <td>0.0</td>\n",
              "      <td>0.0</td>\n",
              "      <td>0.0</td>\n",
              "      <td>0.0</td>\n",
              "      <td>0.0</td>\n",
              "      <td>0.0</td>\n",
              "      <td>0.0</td>\n",
              "      <td>0.0</td>\n",
              "      <td>0.0</td>\n",
              "      <td>0.0</td>\n",
              "      <td>0.0</td>\n",
              "      <td>0.0</td>\n",
              "      <td>0.0</td>\n",
              "      <td>0.0</td>\n",
              "      <td>0.0</td>\n",
              "      <td>0.0</td>\n",
              "      <td>0.0</td>\n",
              "      <td>0.0</td>\n",
              "      <td>0.0</td>\n",
              "    </tr>\n",
              "    <tr>\n",
              "      <th>1</th>\n",
              "      <td>1.0</td>\n",
              "      <td>0.794681</td>\n",
              "      <td>0.375387</td>\n",
              "      <td>0.116883</td>\n",
              "      <td>0.000000</td>\n",
              "      <td>0.171923</td>\n",
              "      <td>0.283859</td>\n",
              "      <td>0.293754</td>\n",
              "      <td>0.325912</td>\n",
              "      <td>0.345083</td>\n",
              "      <td>0.361781</td>\n",
              "      <td>0.362400</td>\n",
              "      <td>0.366110</td>\n",
              "      <td>0.367965</td>\n",
              "      <td>0.374150</td>\n",
              "      <td>0.37786</td>\n",
              "      <td>0.382189</td>\n",
              "      <td>0.384663</td>\n",
              "      <td>0.398887</td>\n",
              "      <td>0.401361</td>\n",
              "      <td>0.418058</td>\n",
              "      <td>0.443414</td>\n",
              "      <td>0.457638</td>\n",
              "      <td>0.487941</td>\n",
              "      <td>0.520717</td>\n",
              "      <td>0.559678</td>\n",
              "      <td>0.604205</td>\n",
              "      <td>0.634508</td>\n",
              "      <td>0.653680</td>\n",
              "      <td>0.672851</td>\n",
              "      <td>0.678417</td>\n",
              "      <td>0.660482</td>\n",
              "      <td>0.621521</td>\n",
              "      <td>0.555968</td>\n",
              "      <td>0.482375</td>\n",
              "      <td>0.438466</td>\n",
              "      <td>0.378479</td>\n",
              "      <td>0.351268</td>\n",
              "      <td>0.319728</td>\n",
              "      <td>0.306741</td>\n",
              "      <td>...</td>\n",
              "      <td>0.0</td>\n",
              "      <td>0.0</td>\n",
              "      <td>0.0</td>\n",
              "      <td>0.0</td>\n",
              "      <td>0.0</td>\n",
              "      <td>0.0</td>\n",
              "      <td>0.0</td>\n",
              "      <td>0.0</td>\n",
              "      <td>0.0</td>\n",
              "      <td>0.0</td>\n",
              "      <td>0.0</td>\n",
              "      <td>0.0</td>\n",
              "      <td>0.0</td>\n",
              "      <td>0.0</td>\n",
              "      <td>0.0</td>\n",
              "      <td>0.0</td>\n",
              "      <td>0.0</td>\n",
              "      <td>0.0</td>\n",
              "      <td>0.0</td>\n",
              "      <td>0.0</td>\n",
              "      <td>0.0</td>\n",
              "      <td>0.0</td>\n",
              "      <td>0.0</td>\n",
              "      <td>0.0</td>\n",
              "      <td>0.0</td>\n",
              "      <td>0.0</td>\n",
              "      <td>0.0</td>\n",
              "      <td>0.0</td>\n",
              "      <td>0.0</td>\n",
              "      <td>0.0</td>\n",
              "      <td>0.0</td>\n",
              "      <td>0.0</td>\n",
              "      <td>0.0</td>\n",
              "      <td>0.0</td>\n",
              "      <td>0.0</td>\n",
              "      <td>0.0</td>\n",
              "      <td>0.0</td>\n",
              "      <td>0.0</td>\n",
              "      <td>0.0</td>\n",
              "      <td>0.0</td>\n",
              "    </tr>\n",
              "  </tbody>\n",
              "</table>\n",
              "<p>2 rows × 187 columns</p>\n",
              "</div>"
            ],
            "text/plain": [
              "   0         1         2         3         4    ...  182  183  184  185  186\n",
              "0  1.0  0.900324  0.358590  0.051459  0.046596  ...  0.0  0.0  0.0  0.0  0.0\n",
              "1  1.0  0.794681  0.375387  0.116883  0.000000  ...  0.0  0.0  0.0  0.0  0.0\n",
              "\n",
              "[2 rows x 187 columns]"
            ]
          },
          "metadata": {
            "tags": []
          },
          "execution_count": 9
        }
      ]
    },
    {
      "cell_type": "markdown",
      "metadata": {
        "id": "JygEZoLBQZ2F"
      },
      "source": [
        "# Preliminary ECG Visuals"
      ]
    },
    {
      "cell_type": "code",
      "metadata": {
        "colab": {
          "base_uri": "https://localhost:8080/",
          "height": 302
        },
        "id": "bJH6heD8QUzG",
        "outputId": "70552ed5-d862-4311-8dec-f1872970605d"
      },
      "source": [
        "#Normal ECG (picked randomly)\n",
        "plt.subplot(1,2,1)\n",
        "plt.plot(df_normal.loc[100,:186])\n",
        "plt.subplot(1,2,2)\n",
        "plt.plot(df_normal.loc[500,:])\n",
        "plt.figure(figsize=(10,2))\n"
      ],
      "execution_count": null,
      "outputs": [
        {
          "output_type": "execute_result",
          "data": {
            "text/plain": [
              "<Figure size 720x144 with 0 Axes>"
            ]
          },
          "metadata": {
            "tags": []
          },
          "execution_count": 10
        },
        {
          "output_type": "display_data",
          "data": {
            "image/png": "[encoded data removed]",
            "text/plain": [
              "<Figure size 432x288 with 2 Axes>"
            ]
          },
          "metadata": {
            "tags": [],
            "needs_background": "light"
          }
        },
        {
          "output_type": "display_data",
          "data": {
            "text/plain": [
              "<Figure size 720x144 with 0 Axes>"
            ]
          },
          "metadata": {
            "tags": []
          }
        }
      ]
    },
    {
      "cell_type": "code",
      "metadata": {
        "colab": {
          "base_uri": "https://localhost:8080/",
          "height": 157
        },
        "id": "a3K5LaZ2kJhx",
        "outputId": "917a9d81-4758-49e7-a055-197e371f202c"
      },
      "source": [
        "fig = plt.figure(figsize=(10, 2))\n",
        "\n",
        "# Adds subplot on position 1\n",
        "ax = fig.add_subplot(121)\n",
        "# Adds subplot on position 2\n",
        "ax2 = fig.add_subplot(122)\n",
        "\n",
        "ax.plot(df_normal.loc[100,:186])\n",
        "ax2.plot(df_normal.loc[500,:186])\n",
        "plt.show()"
      ],
      "execution_count": null,
      "outputs": [
        {
          "output_type": "display_data",
          "data": {
            "image/png": "[encoded data removed]",
            "text/plain": [
              "<Figure size 720x144 with 2 Axes>"
            ]
          },
          "metadata": {
            "tags": [],
            "needs_background": "light"
          }
        }
      ]
    },
    {
      "cell_type": "code",
      "metadata": {
        "colab": {
          "base_uri": "https://localhost:8080/",
          "height": 171
        },
        "id": "AXv4ecAvlggu",
        "outputId": "aa7efbc5-34d1-4418-9836-ee7e4432edc0"
      },
      "source": [
        "#Abnormal ECG\n",
        "fig1 = plt.figure(figsize=(10, 2))\n",
        "\n",
        "# Adds subplot on position 1\n",
        "ax = fig1.add_subplot(121)\n",
        "# Adds subplot on position 2\n",
        "ax2 = fig1.add_subplot(122)\n",
        "\n",
        "ax.plot(df_abnormal.loc[100,:186])\n",
        "ax2.plot(df_abnormal.loc[500,:186])\n",
        "\n",
        "plt.suptitle('Miocardial Infarction') \n",
        "plt.show()"
      ],
      "execution_count": null,
      "outputs": [
        {
          "output_type": "display_data",
          "data": {
            "image/png": "[encoded data removed]",
            "text/plain": [
              "<Figure size 720x144 with 2 Axes>"
            ]
          },
          "metadata": {
            "tags": [],
            "needs_background": "light"
          }
        }
      ]
    },
    {
      "cell_type": "code",
      "metadata": {
        "id": "4tldjD3IlgXP"
      },
      "source": [
        ""
      ],
      "execution_count": null,
      "outputs": []
    },
    {
      "cell_type": "code",
      "metadata": {
        "id": "6qx1jvL4lgT1"
      },
      "source": [
        ""
      ],
      "execution_count": null,
      "outputs": []
    },
    {
      "cell_type": "code",
      "metadata": {
        "id": "IJ0ig1XmlgEb"
      },
      "source": [
        ""
      ],
      "execution_count": null,
      "outputs": []
    },
    {
      "cell_type": "code",
      "metadata": {
        "colab": {
          "base_uri": "https://localhost:8080/"
        },
        "id": "u3sXD_e_X21r",
        "outputId": "05efabbd-d9b4-45fe-cba9-df2a123fb721"
      },
      "source": [
        "y_data.value_counts()"
      ],
      "execution_count": null,
      "outputs": [
        {
          "output_type": "execute_result",
          "data": {
            "text/plain": [
              "1.0    10506\n",
              "0.0     4046\n",
              "Name: 187, dtype: int64"
            ]
          },
          "metadata": {
            "tags": []
          },
          "execution_count": 12
        }
      ]
    },
    {
      "cell_type": "code",
      "metadata": {
        "id": "yrgkrGSchZh1"
      },
      "source": [
        ""
      ],
      "execution_count": null,
      "outputs": []
    },
    {
      "cell_type": "markdown",
      "metadata": {
        "id": "dsWSixt3EzEC"
      },
      "source": [
        "# Splitting Data & Setting \"y\" Categorical"
      ]
    },
    {
      "cell_type": "code",
      "metadata": {
        "id": "zhCQDxuAE3CW"
      },
      "source": [
        "dfX_train, dfX_test, y_train, y_test = train_test_split(X_data, y_data, shuffle=True, train_size=0.8, random_state = 42)"
      ],
      "execution_count": null,
      "outputs": []
    },
    {
      "cell_type": "code",
      "metadata": {
        "colab": {
          "base_uri": "https://localhost:8080/"
        },
        "id": "VHCq1NFTjxPC",
        "outputId": "37f1fdf1-9cdc-478d-eac1-2c77a20eb459"
      },
      "source": [
        "y_train"
      ],
      "execution_count": null,
      "outputs": [
        {
          "output_type": "execute_result",
          "data": {
            "text/plain": [
              "4292     1.0\n",
              "8963     1.0\n",
              "10671    1.0\n",
              "8994     1.0\n",
              "13691    1.0\n",
              "        ... \n",
              "5191     1.0\n",
              "13418    1.0\n",
              "5390     1.0\n",
              "860      0.0\n",
              "7270     1.0\n",
              "Name: 187, Length: 11641, dtype: float64"
            ]
          },
          "metadata": {
            "tags": []
          },
          "execution_count": 14
        }
      ]
    },
    {
      "cell_type": "code",
      "metadata": {
        "id": "FguFRcwtjxMI"
      },
      "source": [
        "#Preparing the train dataset including \"y\" before balancing the classes.\n",
        "df_train = pd.concat([dfX_train, pd.Series(y_train)], axis=1)"
      ],
      "execution_count": null,
      "outputs": []
    },
    {
      "cell_type": "code",
      "metadata": {
        "colab": {
          "base_uri": "https://localhost:8080/"
        },
        "id": "JTzQ7yw7jxJB",
        "outputId": "540de0c4-6919-468d-932a-5b84d8408b91"
      },
      "source": [
        "df_train[187].value_counts()"
      ],
      "execution_count": null,
      "outputs": [
        {
          "output_type": "execute_result",
          "data": {
            "text/plain": [
              "1.0    8429\n",
              "0.0    3212\n",
              "Name: 187, dtype: int64"
            ]
          },
          "metadata": {
            "tags": []
          },
          "execution_count": 16
        }
      ]
    },
    {
      "cell_type": "code",
      "metadata": {
        "colab": {
          "base_uri": "https://localhost:8080/"
        },
        "id": "b_LwULeqzQVq",
        "outputId": "4535a314-fbf0-449b-eae9-837a1925de86"
      },
      "source": [
        "y_test.value_counts()"
      ],
      "execution_count": null,
      "outputs": [
        {
          "output_type": "execute_result",
          "data": {
            "text/plain": [
              "1.0    2077\n",
              "0.0     834\n",
              "Name: 187, dtype: int64"
            ]
          },
          "metadata": {
            "tags": []
          },
          "execution_count": 17
        }
      ]
    },
    {
      "cell_type": "markdown",
      "metadata": {
        "id": "ggPXBosvin42"
      },
      "source": [
        "# Balancing Classes in Train Set"
      ]
    },
    {
      "cell_type": "code",
      "metadata": {
        "id": "kjdg36t8X2zG"
      },
      "source": [
        "from sklearn.utils import resample\n",
        "\n",
        "df_0=(df_train[df_train[187]==0])\n",
        "df_1=(df_train[df_train[187]==1]).sample(n=8400,random_state=42)\n",
        "\n",
        "#resampling minority class with replacement\n",
        "df_0_upsample=resample(df_0,replace=True,n_samples=8400,random_state=123)\n",
        "\n",
        "#balanced df\n",
        "df_train_balanced=pd.concat([df_0_upsample,df_1])\n",
        "\n",
        "#shuffling rows in balanced df\n",
        "df_train_shuffled=df_train_balanced.sample(frac=1).reset_index(drop=True)"
      ],
      "execution_count": null,
      "outputs": []
    },
    {
      "cell_type": "code",
      "metadata": {
        "colab": {
          "base_uri": "https://localhost:8080/"
        },
        "id": "J5mwq7pvjxGI",
        "outputId": "17124543-fbc2-48ab-c9aa-42c18a350b4c"
      },
      "source": [
        "df_train_shuffled[187].value_counts()"
      ],
      "execution_count": null,
      "outputs": [
        {
          "output_type": "execute_result",
          "data": {
            "text/plain": [
              "0.0    8400\n",
              "1.0    8400\n",
              "Name: 187, dtype: int64"
            ]
          },
          "metadata": {
            "tags": []
          },
          "execution_count": 19
        }
      ]
    },
    {
      "cell_type": "code",
      "metadata": {
        "id": "1CGyDW1Pjw_o"
      },
      "source": [
        "X_train_proc = df_train_shuffled.iloc[:,:187]\n",
        "y_train_proc = df_train_shuffled.iloc[:,187]"
      ],
      "execution_count": null,
      "outputs": []
    },
    {
      "cell_type": "code",
      "metadata": {
        "colab": {
          "base_uri": "https://localhost:8080/",
          "height": 161
        },
        "id": "yRMie12SozZy",
        "outputId": "c44a8e61-fb2c-4828-c44a-b945e7a44340"
      },
      "source": [
        "X_train_proc.head(2)"
      ],
      "execution_count": null,
      "outputs": [
        {
          "output_type": "execute_result",
          "data": {
            "text/html": [
              "<div>\n",
              "<style scoped>\n",
              "    .dataframe tbody tr th:only-of-type {\n",
              "        vertical-align: middle;\n",
              "    }\n",
              "\n",
              "    .dataframe tbody tr th {\n",
              "        vertical-align: top;\n",
              "    }\n",
              "\n",
              "    .dataframe thead th {\n",
              "        text-align: right;\n",
              "    }\n",
              "</style>\n",
              "<table border=\"1\" class=\"dataframe\">\n",
              "  <thead>\n",
              "    <tr style=\"text-align: right;\">\n",
              "      <th></th>\n",
              "      <th>0</th>\n",
              "      <th>1</th>\n",
              "      <th>2</th>\n",
              "      <th>3</th>\n",
              "      <th>4</th>\n",
              "      <th>5</th>\n",
              "      <th>6</th>\n",
              "      <th>7</th>\n",
              "      <th>8</th>\n",
              "      <th>9</th>\n",
              "      <th>10</th>\n",
              "      <th>11</th>\n",
              "      <th>12</th>\n",
              "      <th>13</th>\n",
              "      <th>14</th>\n",
              "      <th>15</th>\n",
              "      <th>16</th>\n",
              "      <th>17</th>\n",
              "      <th>18</th>\n",
              "      <th>19</th>\n",
              "      <th>20</th>\n",
              "      <th>21</th>\n",
              "      <th>22</th>\n",
              "      <th>23</th>\n",
              "      <th>24</th>\n",
              "      <th>25</th>\n",
              "      <th>26</th>\n",
              "      <th>27</th>\n",
              "      <th>28</th>\n",
              "      <th>29</th>\n",
              "      <th>30</th>\n",
              "      <th>31</th>\n",
              "      <th>32</th>\n",
              "      <th>33</th>\n",
              "      <th>34</th>\n",
              "      <th>35</th>\n",
              "      <th>36</th>\n",
              "      <th>37</th>\n",
              "      <th>38</th>\n",
              "      <th>39</th>\n",
              "      <th>...</th>\n",
              "      <th>147</th>\n",
              "      <th>148</th>\n",
              "      <th>149</th>\n",
              "      <th>150</th>\n",
              "      <th>151</th>\n",
              "      <th>152</th>\n",
              "      <th>153</th>\n",
              "      <th>154</th>\n",
              "      <th>155</th>\n",
              "      <th>156</th>\n",
              "      <th>157</th>\n",
              "      <th>158</th>\n",
              "      <th>159</th>\n",
              "      <th>160</th>\n",
              "      <th>161</th>\n",
              "      <th>162</th>\n",
              "      <th>163</th>\n",
              "      <th>164</th>\n",
              "      <th>165</th>\n",
              "      <th>166</th>\n",
              "      <th>167</th>\n",
              "      <th>168</th>\n",
              "      <th>169</th>\n",
              "      <th>170</th>\n",
              "      <th>171</th>\n",
              "      <th>172</th>\n",
              "      <th>173</th>\n",
              "      <th>174</th>\n",
              "      <th>175</th>\n",
              "      <th>176</th>\n",
              "      <th>177</th>\n",
              "      <th>178</th>\n",
              "      <th>179</th>\n",
              "      <th>180</th>\n",
              "      <th>181</th>\n",
              "      <th>182</th>\n",
              "      <th>183</th>\n",
              "      <th>184</th>\n",
              "      <th>185</th>\n",
              "      <th>186</th>\n",
              "    </tr>\n",
              "  </thead>\n",
              "  <tbody>\n",
              "    <tr>\n",
              "      <th>0</th>\n",
              "      <td>1.0</td>\n",
              "      <td>0.858808</td>\n",
              "      <td>0.661917</td>\n",
              "      <td>0.576425</td>\n",
              "      <td>0.458549</td>\n",
              "      <td>0.379534</td>\n",
              "      <td>0.233161</td>\n",
              "      <td>0.161917</td>\n",
              "      <td>0.119171</td>\n",
              "      <td>0.084197</td>\n",
              "      <td>0.102332</td>\n",
              "      <td>0.042746</td>\n",
              "      <td>0.129534</td>\n",
              "      <td>0.180052</td>\n",
              "      <td>0.121762</td>\n",
              "      <td>0.151554</td>\n",
              "      <td>0.081606</td>\n",
              "      <td>0.150259</td>\n",
              "      <td>0.204663</td>\n",
              "      <td>0.097150</td>\n",
              "      <td>0.190415</td>\n",
              "      <td>0.031088</td>\n",
              "      <td>0.142487</td>\n",
              "      <td>0.090674</td>\n",
              "      <td>0.034974</td>\n",
              "      <td>0.077720</td>\n",
              "      <td>0.012953</td>\n",
              "      <td>0.066062</td>\n",
              "      <td>0.126943</td>\n",
              "      <td>0.054404</td>\n",
              "      <td>0.132124</td>\n",
              "      <td>0.154145</td>\n",
              "      <td>0.182642</td>\n",
              "      <td>0.156736</td>\n",
              "      <td>0.159326</td>\n",
              "      <td>0.246114</td>\n",
              "      <td>0.195596</td>\n",
              "      <td>0.240933</td>\n",
              "      <td>0.200777</td>\n",
              "      <td>0.159326</td>\n",
              "      <td>...</td>\n",
              "      <td>0.0</td>\n",
              "      <td>0.0</td>\n",
              "      <td>0.0</td>\n",
              "      <td>0.0</td>\n",
              "      <td>0.0</td>\n",
              "      <td>0.0</td>\n",
              "      <td>0.0</td>\n",
              "      <td>0.0</td>\n",
              "      <td>0.0</td>\n",
              "      <td>0.0</td>\n",
              "      <td>0.0</td>\n",
              "      <td>0.0</td>\n",
              "      <td>0.0</td>\n",
              "      <td>0.0</td>\n",
              "      <td>0.0</td>\n",
              "      <td>0.0</td>\n",
              "      <td>0.0</td>\n",
              "      <td>0.0</td>\n",
              "      <td>0.0</td>\n",
              "      <td>0.0</td>\n",
              "      <td>0.0</td>\n",
              "      <td>0.0</td>\n",
              "      <td>0.0</td>\n",
              "      <td>0.0</td>\n",
              "      <td>0.0</td>\n",
              "      <td>0.0</td>\n",
              "      <td>0.0</td>\n",
              "      <td>0.0</td>\n",
              "      <td>0.0</td>\n",
              "      <td>0.0</td>\n",
              "      <td>0.0</td>\n",
              "      <td>0.0</td>\n",
              "      <td>0.0</td>\n",
              "      <td>0.0</td>\n",
              "      <td>0.0</td>\n",
              "      <td>0.0</td>\n",
              "      <td>0.0</td>\n",
              "      <td>0.0</td>\n",
              "      <td>0.0</td>\n",
              "      <td>0.0</td>\n",
              "    </tr>\n",
              "    <tr>\n",
              "      <th>1</th>\n",
              "      <td>1.0</td>\n",
              "      <td>0.916993</td>\n",
              "      <td>0.617071</td>\n",
              "      <td>0.274863</td>\n",
              "      <td>0.180110</td>\n",
              "      <td>0.273297</td>\n",
              "      <td>0.142522</td>\n",
              "      <td>0.073610</td>\n",
              "      <td>0.075176</td>\n",
              "      <td>0.061081</td>\n",
              "      <td>0.087706</td>\n",
              "      <td>0.072044</td>\n",
              "      <td>0.064213</td>\n",
              "      <td>0.098669</td>\n",
              "      <td>0.110415</td>\n",
              "      <td>0.133908</td>\n",
              "      <td>0.137823</td>\n",
              "      <td>0.144088</td>\n",
              "      <td>0.189507</td>\n",
              "      <td>0.173845</td>\n",
              "      <td>0.176194</td>\n",
              "      <td>0.204385</td>\n",
              "      <td>0.215348</td>\n",
              "      <td>0.245106</td>\n",
              "      <td>0.222396</td>\n",
              "      <td>0.291308</td>\n",
              "      <td>0.295223</td>\n",
              "      <td>0.260767</td>\n",
              "      <td>0.306186</td>\n",
              "      <td>0.300705</td>\n",
              "      <td>0.306186</td>\n",
              "      <td>0.282694</td>\n",
              "      <td>0.299922</td>\n",
              "      <td>0.299922</td>\n",
              "      <td>0.273297</td>\n",
              "      <td>0.266249</td>\n",
              "      <td>0.224745</td>\n",
              "      <td>0.187940</td>\n",
              "      <td>0.180893</td>\n",
              "      <td>0.163665</td>\n",
              "      <td>...</td>\n",
              "      <td>0.0</td>\n",
              "      <td>0.0</td>\n",
              "      <td>0.0</td>\n",
              "      <td>0.0</td>\n",
              "      <td>0.0</td>\n",
              "      <td>0.0</td>\n",
              "      <td>0.0</td>\n",
              "      <td>0.0</td>\n",
              "      <td>0.0</td>\n",
              "      <td>0.0</td>\n",
              "      <td>0.0</td>\n",
              "      <td>0.0</td>\n",
              "      <td>0.0</td>\n",
              "      <td>0.0</td>\n",
              "      <td>0.0</td>\n",
              "      <td>0.0</td>\n",
              "      <td>0.0</td>\n",
              "      <td>0.0</td>\n",
              "      <td>0.0</td>\n",
              "      <td>0.0</td>\n",
              "      <td>0.0</td>\n",
              "      <td>0.0</td>\n",
              "      <td>0.0</td>\n",
              "      <td>0.0</td>\n",
              "      <td>0.0</td>\n",
              "      <td>0.0</td>\n",
              "      <td>0.0</td>\n",
              "      <td>0.0</td>\n",
              "      <td>0.0</td>\n",
              "      <td>0.0</td>\n",
              "      <td>0.0</td>\n",
              "      <td>0.0</td>\n",
              "      <td>0.0</td>\n",
              "      <td>0.0</td>\n",
              "      <td>0.0</td>\n",
              "      <td>0.0</td>\n",
              "      <td>0.0</td>\n",
              "      <td>0.0</td>\n",
              "      <td>0.0</td>\n",
              "      <td>0.0</td>\n",
              "    </tr>\n",
              "  </tbody>\n",
              "</table>\n",
              "<p>2 rows × 187 columns</p>\n",
              "</div>"
            ],
            "text/plain": [
              "   0         1         2         3         4    ...  182  183  184  185  186\n",
              "0  1.0  0.858808  0.661917  0.576425  0.458549  ...  0.0  0.0  0.0  0.0  0.0\n",
              "1  1.0  0.916993  0.617071  0.274863  0.180110  ...  0.0  0.0  0.0  0.0  0.0\n",
              "\n",
              "[2 rows x 187 columns]"
            ]
          },
          "metadata": {
            "tags": []
          },
          "execution_count": 21
        }
      ]
    },
    {
      "cell_type": "code",
      "metadata": {
        "id": "h499WyPsxJcL"
      },
      "source": [
        ""
      ],
      "execution_count": null,
      "outputs": []
    },
    {
      "cell_type": "markdown",
      "metadata": {
        "id": "3_1h4l6IxKFe"
      },
      "source": [
        "# Formatting Train and Test"
      ]
    },
    {
      "cell_type": "code",
      "metadata": {
        "id": "vjYZkZQgE28O"
      },
      "source": [
        "#X_train_proc comes from rebalancing classes in train_set above\n",
        "X_train = X_train_proc.iloc[:,:186].values\n",
        "\n",
        "#dfx_test comes from splitting train/test section\n",
        "X_test = dfX_test.iloc[:,:186].values\n",
        "\n",
        "#for i in range(len(X_train)):\n",
        "#    X_train[i,:186]= add_gaussian_noise(X_train[i,:186])\n",
        "\n",
        "# Changing the shape of X_train and X_test to3D arrays\n",
        "\n",
        "X_train = X_train.reshape(len(X_train), X_train.shape[1],1)\n",
        "X_test = X_test.reshape(len(X_test), X_test.shape[1],1)\n"
      ],
      "execution_count": null,
      "outputs": []
    },
    {
      "cell_type": "code",
      "metadata": {
        "colab": {
          "base_uri": "https://localhost:8080/"
        },
        "id": "XChjVa24jQJU",
        "outputId": "e138f9fb-8eb9-4cf2-e53c-906b30648526"
      },
      "source": [
        "X_test.shape"
      ],
      "execution_count": null,
      "outputs": [
        {
          "output_type": "execute_result",
          "data": {
            "text/plain": [
              "(2911, 186, 1)"
            ]
          },
          "metadata": {
            "tags": []
          },
          "execution_count": 23
        }
      ]
    },
    {
      "cell_type": "code",
      "metadata": {
        "id": "b9WXRUIedFmu"
      },
      "source": [
        "y_train_cat=to_categorical(y_train_proc)\n",
        "y_test_cat=to_categorical(y_test)"
      ],
      "execution_count": null,
      "outputs": []
    },
    {
      "cell_type": "code",
      "metadata": {
        "colab": {
          "base_uri": "https://localhost:8080/"
        },
        "id": "YlwcKz3Pkx_K",
        "outputId": "08fc82b0-715c-4d17-deee-d73227f25e4f"
      },
      "source": [
        "y_train_cat"
      ],
      "execution_count": null,
      "outputs": [
        {
          "output_type": "execute_result",
          "data": {
            "text/plain": [
              "array([[0., 1.],\n",
              "       [0., 1.],\n",
              "       [1., 0.],\n",
              "       ...,\n",
              "       [0., 1.],\n",
              "       [0., 1.],\n",
              "       [0., 1.]], dtype=float32)"
            ]
          },
          "metadata": {
            "tags": []
          },
          "execution_count": 25
        }
      ]
    },
    {
      "cell_type": "markdown",
      "metadata": {
        "id": "xBfurHePbpod"
      },
      "source": [
        "# LSTM NN"
      ]
    },
    {
      "cell_type": "markdown",
      "metadata": {
        "id": "H65kuvi-IeI3"
      },
      "source": [
        "# Network Definition\n",
        "\n",
        "\n",
        "\n",
        "\n",
        "\n"
      ]
    },
    {
      "cell_type": "code",
      "metadata": {
        "id": "wQoIhs4BbxcL"
      },
      "source": [
        "#reference for understanding LSTM return sequence parameter\n",
        "#https://www.dlology.com/blog/how-to-use-return_state-or-return_sequences-in-keras/\n",
        "\n",
        "def network(X_train,y_train,X_test,y_test):\n",
        "    \n",
        "\n",
        "    im_shape=(X_train.shape[1],1)\n",
        "    inputs_lstm=Input(shape=(im_shape), name='inputs_lstm')\n",
        "    lstm_1=LSTM(units=64, return_sequences=True, input_shape=im_shape)(inputs_lstm)\n",
        "    #conv1_1=BatchNormalization()(conv1_1)\n",
        "    #pool1=MaxPool1D(pool_size=(3), strides=(2), padding=\"same\")(conv1_1)\n",
        "    lstm_2=LSTM(units=64, return_sequences=True)(lstm_1)\n",
        "    #conv2_1=BatchNormalization()(conv2_1)\n",
        "    #pool2=MaxPool1D(pool_size=(2), strides=(2), padding=\"same\")(conv2_1)\n",
        "    #conv3_1=Convolution1D(64, (3), activation='relu', input_shape=im_shape)(pool2)\n",
        "    #conv3_1=BatchNormalization()(conv3_1)\n",
        "    #pool3=MaxPool1D(pool_size=(2), strides=(2), padding=\"same\")(conv3_1)\n",
        "    flatten=Flatten()(lstm_2)\n",
        "    #dense_end1 = Dense(64, activation='relu')(flatten)\n",
        "    dense_end2 = Dense(32, activation='relu')(flatten)\n",
        "    main_output = Dense(2, activation='softmax', name='main_output')(dense_end2)\n",
        "    \n",
        "    \n",
        "    model = Model(inputs= inputs_lstm, outputs=main_output)\n",
        "    model.compile(optimizer='adam', loss='categorical_crossentropy',metrics = ['accuracy'])\n",
        "    \n",
        "    \n",
        "    callbacks = [EarlyStopping(monitor='val_loss', patience=8),\n",
        "             ModelCheckpoint(filepath='best_model.h5', monitor='val_loss', save_best_only=True)]\n",
        "\n",
        "    history=model.fit(X_train, y_train, epochs=40,callbacks=callbacks, batch_size=32,validation_data=(X_test,y_test))\n",
        "    model.load_weights('best_model.h5')\n",
        "    return(model,history)"
      ],
      "execution_count": null,
      "outputs": []
    },
    {
      "cell_type": "code",
      "metadata": {
        "colab": {
          "base_uri": "https://localhost:8080/"
        },
        "id": "kHHK7WIvbxWu",
        "outputId": "62033320-16db-46a7-82d4-42ad133456be"
      },
      "source": [
        "model,history=network(X_train,y_train_cat,X_test,y_test_cat)"
      ],
      "execution_count": null,
      "outputs": [
        {
          "output_type": "stream",
          "text": [
            "Epoch 1/40\n",
            "525/525 [==============================] - 43s 18ms/step - loss: 0.4735 - accuracy: 0.7719 - val_loss: 0.2494 - val_accuracy: 0.8877\n",
            "Epoch 2/40\n",
            "525/525 [==============================] - 8s 16ms/step - loss: 0.2623 - accuracy: 0.8922 - val_loss: 0.1803 - val_accuracy: 0.9323\n",
            "Epoch 3/40\n",
            "525/525 [==============================] - 8s 16ms/step - loss: 0.2024 - accuracy: 0.9180 - val_loss: 0.1764 - val_accuracy: 0.9344\n",
            "Epoch 4/40\n",
            "525/525 [==============================] - 8s 16ms/step - loss: 0.1339 - accuracy: 0.9480 - val_loss: 0.1599 - val_accuracy: 0.9457\n",
            "Epoch 5/40\n",
            "525/525 [==============================] - 8s 16ms/step - loss: 0.0988 - accuracy: 0.9646 - val_loss: 0.1040 - val_accuracy: 0.9681\n",
            "Epoch 6/40\n",
            "525/525 [==============================] - 8s 16ms/step - loss: 0.0768 - accuracy: 0.9699 - val_loss: 0.1494 - val_accuracy: 0.9516\n",
            "Epoch 7/40\n",
            "525/525 [==============================] - 8s 16ms/step - loss: 0.0713 - accuracy: 0.9755 - val_loss: 0.0932 - val_accuracy: 0.9705\n",
            "Epoch 8/40\n",
            "525/525 [==============================] - 8s 16ms/step - loss: 0.0388 - accuracy: 0.9863 - val_loss: 0.1007 - val_accuracy: 0.9691\n",
            "Epoch 9/40\n",
            "525/525 [==============================] - 8s 16ms/step - loss: 0.0458 - accuracy: 0.9839 - val_loss: 0.0908 - val_accuracy: 0.9797\n",
            "Epoch 10/40\n",
            "525/525 [==============================] - 8s 16ms/step - loss: 0.0316 - accuracy: 0.9882 - val_loss: 0.1142 - val_accuracy: 0.9701\n",
            "Epoch 11/40\n",
            "525/525 [==============================] - 8s 16ms/step - loss: 0.0399 - accuracy: 0.9853 - val_loss: 0.0958 - val_accuracy: 0.9770\n",
            "Epoch 12/40\n",
            "525/525 [==============================] - 8s 16ms/step - loss: 0.0265 - accuracy: 0.9911 - val_loss: 0.0905 - val_accuracy: 0.9808\n",
            "Epoch 13/40\n",
            "525/525 [==============================] - 8s 16ms/step - loss: 0.0262 - accuracy: 0.9900 - val_loss: 0.1020 - val_accuracy: 0.9801\n",
            "Epoch 14/40\n",
            "525/525 [==============================] - 8s 16ms/step - loss: 0.0237 - accuracy: 0.9925 - val_loss: 0.0959 - val_accuracy: 0.9804\n",
            "Epoch 15/40\n",
            "525/525 [==============================] - 8s 16ms/step - loss: 0.0154 - accuracy: 0.9948 - val_loss: 0.0869 - val_accuracy: 0.9845\n",
            "Epoch 16/40\n",
            "525/525 [==============================] - 8s 16ms/step - loss: 0.0126 - accuracy: 0.9961 - val_loss: 0.0916 - val_accuracy: 0.9832\n",
            "Epoch 17/40\n",
            "525/525 [==============================] - 9s 16ms/step - loss: 0.0334 - accuracy: 0.9889 - val_loss: 0.0864 - val_accuracy: 0.9835\n",
            "Epoch 18/40\n",
            "525/525 [==============================] - 9s 16ms/step - loss: 0.0066 - accuracy: 0.9981 - val_loss: 0.0936 - val_accuracy: 0.9801\n",
            "Epoch 19/40\n",
            "525/525 [==============================] - 8s 16ms/step - loss: 0.0085 - accuracy: 0.9968 - val_loss: 0.1239 - val_accuracy: 0.9760\n",
            "Epoch 20/40\n",
            "525/525 [==============================] - 9s 16ms/step - loss: 0.0240 - accuracy: 0.9922 - val_loss: 0.0787 - val_accuracy: 0.9880\n",
            "Epoch 21/40\n",
            "525/525 [==============================] - 9s 16ms/step - loss: 0.0034 - accuracy: 0.9988 - val_loss: 0.0810 - val_accuracy: 0.9866\n",
            "Epoch 22/40\n",
            "525/525 [==============================] - 9s 16ms/step - loss: 0.0044 - accuracy: 0.9988 - val_loss: 0.2313 - val_accuracy: 0.9598\n",
            "Epoch 23/40\n",
            "525/525 [==============================] - 9s 16ms/step - loss: 0.0435 - accuracy: 0.9859 - val_loss: 0.0836 - val_accuracy: 0.9825\n",
            "Epoch 24/40\n",
            "525/525 [==============================] - 8s 16ms/step - loss: 0.0042 - accuracy: 0.9984 - val_loss: 0.0875 - val_accuracy: 0.9849\n",
            "Epoch 25/40\n",
            "525/525 [==============================] - 8s 16ms/step - loss: 0.0182 - accuracy: 0.9948 - val_loss: 0.0824 - val_accuracy: 0.9842\n",
            "Epoch 26/40\n",
            "525/525 [==============================] - 8s 16ms/step - loss: 0.0079 - accuracy: 0.9975 - val_loss: 0.0963 - val_accuracy: 0.9804\n",
            "Epoch 27/40\n",
            "525/525 [==============================] - 8s 16ms/step - loss: 0.0250 - accuracy: 0.9926 - val_loss: 0.0874 - val_accuracy: 0.9863\n",
            "Epoch 28/40\n",
            "525/525 [==============================] - 8s 16ms/step - loss: 0.0056 - accuracy: 0.9983 - val_loss: 0.0927 - val_accuracy: 0.9852\n"
          ],
          "name": "stdout"
        }
      ]
    },
    {
      "cell_type": "code",
      "metadata": {
        "id": "s-oHg2tVIY9V"
      },
      "source": [
        ""
      ],
      "execution_count": null,
      "outputs": []
    },
    {
      "cell_type": "markdown",
      "metadata": {
        "id": "jfSluSUPIzso"
      },
      "source": [
        "# Model Evaluation"
      ]
    },
    {
      "cell_type": "code",
      "metadata": {
        "id": "RddXdQu1bxZh"
      },
      "source": [
        "def evaluate_model(history,X_test,y_test,model):\n",
        "    scores = model.evaluate((X_test),y_test, verbose=0)\n",
        "    print(\"Accuracy: %.2f%%\" % (scores[1]*100))\n",
        "    \n",
        "    print(history)\n",
        "    fig1, ax_acc = plt.subplots()\n",
        "    plt.plot(history.history['accuracy'])\n",
        "    plt.plot(history.history['val_accuracy'])\n",
        "    plt.xlabel('Epoch')\n",
        "    plt.ylabel('Accuracy')\n",
        "    plt.title('Model - Accuracy')\n",
        "    plt.legend(['Training', 'Validation'], loc='lower right')\n",
        "    plt.show()\n",
        "    \n",
        "    fig2, ax_loss = plt.subplots()\n",
        "    plt.xlabel('Epoch')\n",
        "    plt.ylabel('Loss')\n",
        "    plt.title('Model- Loss')\n",
        "    plt.legend(['Training', 'Validation'], loc='upper right')\n",
        "    plt.plot(history.history['loss'])\n",
        "    plt.plot(history.history['val_loss'])\n",
        "    plt.show()\n",
        "\n",
        "    #Luis: Changed from strings to integer\n",
        "    target_names=[0, 1]\n",
        "    \n",
        "    #y_true=[]\n",
        "    #for element in y_test:\n",
        "    #    y_true.append(np.argmax(element))\n",
        "    #prediction_proba=model.predict(X_test)\n",
        "    #prediction=np.argmax(prediction_proba,axis=1)\n",
        "    #cnf_matrix = confusion_matrix(y_true, prediction)\n",
        "    "
      ],
      "execution_count": null,
      "outputs": []
    },
    {
      "cell_type": "code",
      "metadata": {
        "colab": {
          "base_uri": "https://localhost:8080/",
          "height": 610
        },
        "id": "KTCBKPsLbxT_",
        "outputId": "11c0be60-57e6-49b0-a676-bf9b53373155"
      },
      "source": [
        "evaluate_model(history,X_test,y_test_cat,model)"
      ],
      "execution_count": null,
      "outputs": [
        {
          "output_type": "stream",
          "text": [
            "Accuracy: 98.80%\n",
            "<tensorflow.python.keras.callbacks.History object at 0x7f4ae0485fd0>\n"
          ],
          "name": "stdout"
        },
        {
          "output_type": "display_data",
          "data": {
            "image/png": "[encoded data removed]",
            "text/plain": [
              "<Figure size 432x288 with 1 Axes>"
            ]
          },
          "metadata": {
            "tags": [],
            "needs_background": "light"
          }
        },
        {
          "output_type": "display_data",
          "data": {
            "image/png": "[encoded data removed]",
            "text/plain": [
              "<Figure size 432x288 with 1 Axes>"
            ]
          },
          "metadata": {
            "tags": [],
            "needs_background": "light"
          }
        }
      ]
    },
    {
      "cell_type": "code",
      "metadata": {
        "colab": {
          "base_uri": "https://localhost:8080/"
        },
        "id": "Tsm5skKlNOpL",
        "outputId": "3dc84b66-6553-4813-ca98-0e9173b241f7"
      },
      "source": [
        "y_pred=model.predict(X_test)\n",
        "y_pred"
      ],
      "execution_count": null,
      "outputs": [
        {
          "output_type": "execute_result",
          "data": {
            "text/plain": [
              "array([[1.0000000e+00, 1.4458354e-10],\n",
              "       [1.3334219e-01, 8.6665779e-01],\n",
              "       [8.1802742e-09, 1.0000000e+00],\n",
              "       ...,\n",
              "       [9.6569885e-04, 9.9903429e-01],\n",
              "       [1.0000000e+00, 5.0422045e-08],\n",
              "       [4.5866543e-16, 1.0000000e+00]], dtype=float32)"
            ]
          },
          "metadata": {
            "tags": []
          },
          "execution_count": 30
        }
      ]
    },
    {
      "cell_type": "code",
      "metadata": {
        "colab": {
          "base_uri": "https://localhost:8080/"
        },
        "id": "wIsLMU-TkK0p",
        "outputId": "001037b4-fe91-4467-8010-eb674a5baafd"
      },
      "source": [
        "y_test_cat"
      ],
      "execution_count": null,
      "outputs": [
        {
          "output_type": "execute_result",
          "data": {
            "text/plain": [
              "array([[1., 0.],\n",
              "       [0., 1.],\n",
              "       [0., 1.],\n",
              "       ...,\n",
              "       [0., 1.],\n",
              "       [1., 0.],\n",
              "       [0., 1.]], dtype=float32)"
            ]
          },
          "metadata": {
            "tags": []
          },
          "execution_count": 31
        }
      ]
    },
    {
      "cell_type": "code",
      "metadata": {
        "colab": {
          "base_uri": "https://localhost:8080/"
        },
        "id": "CS6uUUGGyEyE",
        "outputId": "e9ec62f6-aabb-4991-a90c-bf9a900c2f0b"
      },
      "source": [
        "y_check = y_test_cat.argmax(axis=1)\n",
        "np.count_nonzero(y_check == 1)"
      ],
      "execution_count": null,
      "outputs": [
        {
          "output_type": "execute_result",
          "data": {
            "text/plain": [
              "2077"
            ]
          },
          "metadata": {
            "tags": []
          },
          "execution_count": 32
        }
      ]
    },
    {
      "cell_type": "code",
      "metadata": {
        "id": "-U_Sb3RYbxQ5"
      },
      "source": [
        "#\n",
        "import itertools\n",
        "def plot_confusion_matrix(cm, classes,\n",
        "                          normalize=False,\n",
        "                          title='Confusion matrix',\n",
        "                          cmap=plt.cm.Blues):\n",
        "    \"\"\"\n",
        "    This function prints and plots the confusion matrix.\n",
        "    Normalization can be applied by setting `normalize=True`.\n",
        "    \"\"\"\n",
        "    if normalize:\n",
        "        cm = cm.astype('float') / cm.sum(axis=1)[:, np.newaxis]\n",
        "        print(\"Normalized confusion matrix\")\n",
        "    else:\n",
        "        print('Confusion matrix, without normalization')\n",
        "\n",
        "    plt.imshow(cm, interpolation='nearest', cmap=cmap)\n",
        "    plt.title(title)\n",
        "    plt.colorbar()\n",
        "    tick_marks = np.arange(len(classes))\n",
        "    plt.xticks(tick_marks, classes, rotation=45)\n",
        "    plt.yticks(tick_marks, classes)\n",
        "\n",
        "    fmt = '.2f' if normalize else 'd'\n",
        "    thresh = cm.max() / 2.\n",
        "    for i, j in itertools.product(range(cm.shape[0]), range(cm.shape[1])):\n",
        "        plt.text(j, i, format(cm[i, j], fmt),\n",
        "                 horizontalalignment=\"center\",\n",
        "                 color=\"white\" if cm[i, j] > thresh else \"black\")\n",
        "\n",
        "    plt.tight_layout()\n",
        "    plt.ylabel('True label')\n",
        "    plt.xlabel('Predicted label')"
      ],
      "execution_count": null,
      "outputs": []
    },
    {
      "cell_type": "code",
      "metadata": {
        "id": "mIPGRA3dbxK7",
        "colab": {
          "base_uri": "https://localhost:8080/",
          "height": 386
        },
        "outputId": "a9ac28e8-3bcd-475a-b3f1-b6268ccacb8f"
      },
      "source": [
        "# Compute confusion matrix\n",
        "cnf_matrix = confusion_matrix(y_test_cat.argmax(axis=1), y_pred.argmax(axis=1))\n",
        "np.set_printoptions(precision=2)\n",
        "\n",
        "# Plot non-normalized confusion matrix\n",
        "plt.figure(figsize=(5, 5))\n",
        "plot_confusion_matrix(cnf_matrix, classes=['No', 'Yes'],normalize=True,\n",
        "                      title='Confusion matrix, with normalization')\n",
        "plt.show()"
      ],
      "execution_count": null,
      "outputs": [
        {
          "output_type": "stream",
          "text": [
            "Normalized confusion matrix\n"
          ],
          "name": "stdout"
        },
        {
          "output_type": "display_data",
          "data": {
            "image/png": "[encoded data removed]",
            "text/plain": [
              "<Figure size 360x360 with 2 Axes>"
            ]
          },
          "metadata": {
            "tags": [],
            "needs_background": "light"
          }
        }
      ]
    },
    {
      "cell_type": "code",
      "metadata": {
        "id": "5qJeekiKbxH0",
        "colab": {
          "base_uri": "https://localhost:8080/"
        },
        "outputId": "e72a33e4-32a2-43f1-e06e-f3e47d9e53b8"
      },
      "source": [
        "target_names = ['No', 'Yes']\n",
        "print(classification_report(y_test_cat.argmax(axis=1), y_pred.argmax(axis=1),target_names=target_names))"
      ],
      "execution_count": null,
      "outputs": [
        {
          "output_type": "stream",
          "text": [
            "              precision    recall  f1-score   support\n",
            "\n",
            "          No       0.98      0.98      0.98       834\n",
            "         Yes       0.99      0.99      0.99      2077\n",
            "\n",
            "    accuracy                           0.99      2911\n",
            "   macro avg       0.99      0.98      0.99      2911\n",
            "weighted avg       0.99      0.99      0.99      2911\n",
            "\n"
          ],
          "name": "stdout"
        }
      ]
    },
    {
      "cell_type": "code",
      "metadata": {
        "id": "G6Ck03QIbxEY"
      },
      "source": [
        ""
      ],
      "execution_count": null,
      "outputs": []
    },
    {
      "cell_type": "code",
      "metadata": {
        "id": "doDB1q0AX2vy"
      },
      "source": [
        ""
      ],
      "execution_count": null,
      "outputs": []
    },
    {
      "cell_type": "code",
      "metadata": {
        "id": "yGSIcEXuX2sG"
      },
      "source": [
        ""
      ],
      "execution_count": null,
      "outputs": []
    },
    {
      "cell_type": "code",
      "metadata": {
        "id": "jjzoZs1IX2oP"
      },
      "source": [
        ""
      ],
      "execution_count": null,
      "outputs": []
    },
    {
      "cell_type": "code",
      "metadata": {
        "id": "fGcbfLs_X2VV"
      },
      "source": [
        ""
      ],
      "execution_count": null,
      "outputs": []
    },
    {
      "cell_type": "code",
      "metadata": {
        "id": "wYdXppFPQW4M"
      },
      "source": [
        ""
      ],
      "execution_count": null,
      "outputs": []
    }
  ]
}