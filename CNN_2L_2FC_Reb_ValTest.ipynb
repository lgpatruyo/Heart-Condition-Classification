{
  "nbformat": 4,
  "nbformat_minor": 0,
  "metadata": {
    "colab": {
      "name": "CNN_2L_2FC_Reb_ValTest",
      "provenance": [],
      "collapsed_sections": [],
      "toc_visible": true,
      "mount_file_id": "1bpI27NXXIQAK97ZXBatDyKoCBtXC6iZ7",
      "authorship_tag": "ABX9TyN41C/ULoHTtQa3+bfKetqG",
      "include_colab_link": true
    },
    "kernelspec": {
      "name": "python3",
      "display_name": "Python 3"
    },
    "accelerator": "GPU"
  },
  "cells": [
    {
      "cell_type": "markdown",
      "metadata": {
        "id": "view-in-github",
        "colab_type": "text"
      },
      "source": [
        "<a href=\"https://colab.research.google.com/github/lgpatruyo/Heart-Condition-Classification/blob/main/CNN_2L_2FC_Reb_ValTest.ipynb\" target=\"_parent\"><img src=\"https://colab.research.google.com/assets/colab-badge.svg\" alt=\"Open In Colab\"/></a>"
      ]
    },
    {
      "cell_type": "code",
      "metadata": {
        "colab": {
          "base_uri": "https://localhost:8080/"
        },
        "id": "uSCwZ7ejf4MQ",
        "outputId": "de269211-f965-465b-fe47-f7060e2c0cbb"
      },
      "source": [
        "from google.colab import drive\n",
        "drive.mount('/content/drive')"
      ],
      "execution_count": null,
      "outputs": [
        {
          "output_type": "stream",
          "text": [
            "Mounted at /content/drive\n"
          ],
          "name": "stdout"
        }
      ]
    },
    {
      "cell_type": "code",
      "metadata": {
        "id": "WUzkDbd-Ydr6"
      },
      "source": [
        ""
      ],
      "execution_count": null,
      "outputs": []
    },
    {
      "cell_type": "markdown",
      "metadata": {
        "id": "mOzsosXnagSl"
      },
      "source": [
        "# Modules"
      ]
    },
    {
      "cell_type": "code",
      "metadata": {
        "id": "N4PKyiR5EPf0"
      },
      "source": [
        "from keras.layers import Dense, Convolution1D, MaxPool1D, Flatten, Dropout, LSTM\n",
        "from keras.layers import Input\n",
        "from keras.models import Model\n",
        "from keras.layers.normalization import BatchNormalization\n",
        "import keras\n",
        "from keras.callbacks import EarlyStopping, ModelCheckpoint\n",
        "from keras.utils.np_utils import to_categorical"
      ],
      "execution_count": null,
      "outputs": []
    },
    {
      "cell_type": "code",
      "metadata": {
        "id": "1xIIfdtAgwkD"
      },
      "source": [
        "# Modules\n",
        "import pandas as pd\n",
        "import numpy as np\n",
        "from sklearn.model_selection import train_test_split\n",
        "# Importing metrics\n",
        "from sklearn.metrics import mean_squared_error\n",
        "from sklearn.metrics import accuracy_score\n",
        "from sklearn.metrics import confusion_matrix\n",
        "from sklearn.metrics import plot_confusion_matrix\n",
        "from sklearn.metrics import classification_report\n",
        "from sklearn.preprocessing import MinMaxScaler\n",
        "\n",
        "import plotly.express as px\n",
        "import matplotlib.pyplot as plt\n",
        "%matplotlib inline\n"
      ],
      "execution_count": null,
      "outputs": []
    },
    {
      "cell_type": "markdown",
      "metadata": {
        "id": "VcV6nVuvacg3"
      },
      "source": [
        "# Collecting Data"
      ]
    },
    {
      "cell_type": "code",
      "metadata": {
        "id": "q6VA2M8pQMVY"
      },
      "source": [
        ""
      ],
      "execution_count": null,
      "outputs": []
    },
    {
      "cell_type": "code",
      "metadata": {
        "id": "ow0bzciYLW0j"
      },
      "source": [
        "# IMPORTING DATA WITH NO HEART CONDITION (NORMAL) FROM MY DRIVE\n",
        "df_normal = pd.read_csv('/content/drive/MyDrive/Colab Notebooks/Final_Project/Data/ptbdb_normal.csv', header=None)"
      ],
      "execution_count": null,
      "outputs": []
    },
    {
      "cell_type": "code",
      "metadata": {
        "id": "CPGFxLDGN9xV"
      },
      "source": [
        "# IMPORTING DATA WITH HEART CONDITION (ABNORMAL) FROM MY DRIVE\n",
        "df_abnormal = pd.read_csv('/content/drive/MyDrive/Colab Notebooks/Final_Project/Data/ptbdb_abnormal.csv', header=None)"
      ],
      "execution_count": null,
      "outputs": []
    },
    {
      "cell_type": "code",
      "metadata": {
        "colab": {
          "base_uri": "https://localhost:8080/",
          "height": 161
        },
        "id": "1iHKH0hJROKR",
        "outputId": "b3711674-c00e-435b-858a-681006e191a4"
      },
      "source": [
        "df_abnormal.head(2)"
      ],
      "execution_count": null,
      "outputs": [
        {
          "output_type": "execute_result",
          "data": {
            "text/html": [
              "<div>\n",
              "<style scoped>\n",
              "    .dataframe tbody tr th:only-of-type {\n",
              "        vertical-align: middle;\n",
              "    }\n",
              "\n",
              "    .dataframe tbody tr th {\n",
              "        vertical-align: top;\n",
              "    }\n",
              "\n",
              "    .dataframe thead th {\n",
              "        text-align: right;\n",
              "    }\n",
              "</style>\n",
              "<table border=\"1\" class=\"dataframe\">\n",
              "  <thead>\n",
              "    <tr style=\"text-align: right;\">\n",
              "      <th></th>\n",
              "      <th>0</th>\n",
              "      <th>1</th>\n",
              "      <th>2</th>\n",
              "      <th>3</th>\n",
              "      <th>4</th>\n",
              "      <th>5</th>\n",
              "      <th>6</th>\n",
              "      <th>7</th>\n",
              "      <th>8</th>\n",
              "      <th>9</th>\n",
              "      <th>10</th>\n",
              "      <th>11</th>\n",
              "      <th>12</th>\n",
              "      <th>13</th>\n",
              "      <th>14</th>\n",
              "      <th>15</th>\n",
              "      <th>16</th>\n",
              "      <th>17</th>\n",
              "      <th>18</th>\n",
              "      <th>19</th>\n",
              "      <th>20</th>\n",
              "      <th>21</th>\n",
              "      <th>22</th>\n",
              "      <th>23</th>\n",
              "      <th>24</th>\n",
              "      <th>25</th>\n",
              "      <th>26</th>\n",
              "      <th>27</th>\n",
              "      <th>28</th>\n",
              "      <th>29</th>\n",
              "      <th>30</th>\n",
              "      <th>31</th>\n",
              "      <th>32</th>\n",
              "      <th>33</th>\n",
              "      <th>34</th>\n",
              "      <th>35</th>\n",
              "      <th>36</th>\n",
              "      <th>37</th>\n",
              "      <th>38</th>\n",
              "      <th>39</th>\n",
              "      <th>...</th>\n",
              "      <th>148</th>\n",
              "      <th>149</th>\n",
              "      <th>150</th>\n",
              "      <th>151</th>\n",
              "      <th>152</th>\n",
              "      <th>153</th>\n",
              "      <th>154</th>\n",
              "      <th>155</th>\n",
              "      <th>156</th>\n",
              "      <th>157</th>\n",
              "      <th>158</th>\n",
              "      <th>159</th>\n",
              "      <th>160</th>\n",
              "      <th>161</th>\n",
              "      <th>162</th>\n",
              "      <th>163</th>\n",
              "      <th>164</th>\n",
              "      <th>165</th>\n",
              "      <th>166</th>\n",
              "      <th>167</th>\n",
              "      <th>168</th>\n",
              "      <th>169</th>\n",
              "      <th>170</th>\n",
              "      <th>171</th>\n",
              "      <th>172</th>\n",
              "      <th>173</th>\n",
              "      <th>174</th>\n",
              "      <th>175</th>\n",
              "      <th>176</th>\n",
              "      <th>177</th>\n",
              "      <th>178</th>\n",
              "      <th>179</th>\n",
              "      <th>180</th>\n",
              "      <th>181</th>\n",
              "      <th>182</th>\n",
              "      <th>183</th>\n",
              "      <th>184</th>\n",
              "      <th>185</th>\n",
              "      <th>186</th>\n",
              "      <th>187</th>\n",
              "    </tr>\n",
              "  </thead>\n",
              "  <tbody>\n",
              "    <tr>\n",
              "      <th>0</th>\n",
              "      <td>0.932233</td>\n",
              "      <td>0.869679</td>\n",
              "      <td>0.886186</td>\n",
              "      <td>0.929626</td>\n",
              "      <td>0.908775</td>\n",
              "      <td>0.933970</td>\n",
              "      <td>0.801043</td>\n",
              "      <td>0.749783</td>\n",
              "      <td>0.687229</td>\n",
              "      <td>0.635100</td>\n",
              "      <td>0.649870</td>\n",
              "      <td>0.635100</td>\n",
              "      <td>0.655083</td>\n",
              "      <td>0.664639</td>\n",
              "      <td>0.633362</td>\n",
              "      <td>0.746308</td>\n",
              "      <td>0.871416</td>\n",
              "      <td>0.938314</td>\n",
              "      <td>1.000000</td>\n",
              "      <td>0.948740</td>\n",
              "      <td>0.396177</td>\n",
              "      <td>0.000000</td>\n",
              "      <td>0.039096</td>\n",
              "      <td>0.128584</td>\n",
              "      <td>0.305821</td>\n",
              "      <td>0.640313</td>\n",
              "      <td>0.617724</td>\n",
              "      <td>0.537793</td>\n",
              "      <td>0.352737</td>\n",
              "      <td>0.220678</td>\n",
              "      <td>0.256299</td>\n",
              "      <td>0.357950</td>\n",
              "      <td>0.482189</td>\n",
              "      <td>0.570808</td>\n",
              "      <td>0.577758</td>\n",
              "      <td>0.620330</td>\n",
              "      <td>0.622068</td>\n",
              "      <td>0.618593</td>\n",
              "      <td>0.626412</td>\n",
              "      <td>0.612511</td>\n",
              "      <td>...</td>\n",
              "      <td>0.0</td>\n",
              "      <td>0.0</td>\n",
              "      <td>0.0</td>\n",
              "      <td>0.0</td>\n",
              "      <td>0.0</td>\n",
              "      <td>0.0</td>\n",
              "      <td>0.0</td>\n",
              "      <td>0.0</td>\n",
              "      <td>0.0</td>\n",
              "      <td>0.0</td>\n",
              "      <td>0.0</td>\n",
              "      <td>0.0</td>\n",
              "      <td>0.0</td>\n",
              "      <td>0.0</td>\n",
              "      <td>0.0</td>\n",
              "      <td>0.0</td>\n",
              "      <td>0.0</td>\n",
              "      <td>0.0</td>\n",
              "      <td>0.0</td>\n",
              "      <td>0.0</td>\n",
              "      <td>0.0</td>\n",
              "      <td>0.0</td>\n",
              "      <td>0.0</td>\n",
              "      <td>0.0</td>\n",
              "      <td>0.0</td>\n",
              "      <td>0.0</td>\n",
              "      <td>0.0</td>\n",
              "      <td>0.0</td>\n",
              "      <td>0.0</td>\n",
              "      <td>0.0</td>\n",
              "      <td>0.0</td>\n",
              "      <td>0.0</td>\n",
              "      <td>0.0</td>\n",
              "      <td>0.0</td>\n",
              "      <td>0.0</td>\n",
              "      <td>0.0</td>\n",
              "      <td>0.0</td>\n",
              "      <td>0.0</td>\n",
              "      <td>0.0</td>\n",
              "      <td>1.0</td>\n",
              "    </tr>\n",
              "    <tr>\n",
              "      <th>1</th>\n",
              "      <td>1.000000</td>\n",
              "      <td>0.606941</td>\n",
              "      <td>0.384181</td>\n",
              "      <td>0.254237</td>\n",
              "      <td>0.223567</td>\n",
              "      <td>0.276836</td>\n",
              "      <td>0.253430</td>\n",
              "      <td>0.184826</td>\n",
              "      <td>0.153349</td>\n",
              "      <td>0.121872</td>\n",
              "      <td>0.125101</td>\n",
              "      <td>0.129136</td>\n",
              "      <td>0.137207</td>\n",
              "      <td>0.137207</td>\n",
              "      <td>0.132365</td>\n",
              "      <td>0.126715</td>\n",
              "      <td>0.158192</td>\n",
              "      <td>0.152542</td>\n",
              "      <td>0.132365</td>\n",
              "      <td>0.168684</td>\n",
              "      <td>0.156578</td>\n",
              "      <td>0.183212</td>\n",
              "      <td>0.191283</td>\n",
              "      <td>0.204197</td>\n",
              "      <td>0.230024</td>\n",
              "      <td>0.244552</td>\n",
              "      <td>0.285714</td>\n",
              "      <td>0.307506</td>\n",
              "      <td>0.321227</td>\n",
              "      <td>0.327684</td>\n",
              "      <td>0.351897</td>\n",
              "      <td>0.373688</td>\n",
              "      <td>0.397094</td>\n",
              "      <td>0.363196</td>\n",
              "      <td>0.340597</td>\n",
              "      <td>0.307506</td>\n",
              "      <td>0.258273</td>\n",
              "      <td>0.197740</td>\n",
              "      <td>0.199354</td>\n",
              "      <td>0.173527</td>\n",
              "      <td>...</td>\n",
              "      <td>0.0</td>\n",
              "      <td>0.0</td>\n",
              "      <td>0.0</td>\n",
              "      <td>0.0</td>\n",
              "      <td>0.0</td>\n",
              "      <td>0.0</td>\n",
              "      <td>0.0</td>\n",
              "      <td>0.0</td>\n",
              "      <td>0.0</td>\n",
              "      <td>0.0</td>\n",
              "      <td>0.0</td>\n",
              "      <td>0.0</td>\n",
              "      <td>0.0</td>\n",
              "      <td>0.0</td>\n",
              "      <td>0.0</td>\n",
              "      <td>0.0</td>\n",
              "      <td>0.0</td>\n",
              "      <td>0.0</td>\n",
              "      <td>0.0</td>\n",
              "      <td>0.0</td>\n",
              "      <td>0.0</td>\n",
              "      <td>0.0</td>\n",
              "      <td>0.0</td>\n",
              "      <td>0.0</td>\n",
              "      <td>0.0</td>\n",
              "      <td>0.0</td>\n",
              "      <td>0.0</td>\n",
              "      <td>0.0</td>\n",
              "      <td>0.0</td>\n",
              "      <td>0.0</td>\n",
              "      <td>0.0</td>\n",
              "      <td>0.0</td>\n",
              "      <td>0.0</td>\n",
              "      <td>0.0</td>\n",
              "      <td>0.0</td>\n",
              "      <td>0.0</td>\n",
              "      <td>0.0</td>\n",
              "      <td>0.0</td>\n",
              "      <td>0.0</td>\n",
              "      <td>1.0</td>\n",
              "    </tr>\n",
              "  </tbody>\n",
              "</table>\n",
              "<p>2 rows × 188 columns</p>\n",
              "</div>"
            ],
            "text/plain": [
              "        0         1         2         3         4    ...  183  184  185  186  187\n",
              "0  0.932233  0.869679  0.886186  0.929626  0.908775  ...  0.0  0.0  0.0  0.0  1.0\n",
              "1  1.000000  0.606941  0.384181  0.254237  0.223567  ...  0.0  0.0  0.0  0.0  1.0\n",
              "\n",
              "[2 rows x 188 columns]"
            ]
          },
          "metadata": {
            "tags": []
          },
          "execution_count": 5
        }
      ]
    },
    {
      "cell_type": "code",
      "metadata": {
        "id": "HPrNBuUCPCl4"
      },
      "source": [
        "df = pd.concat([df_normal, df_abnormal], axis=0, ignore_index=True)"
      ],
      "execution_count": null,
      "outputs": []
    },
    {
      "cell_type": "code",
      "metadata": {
        "id": "lnHCm5VBTjv7"
      },
      "source": [
        "X_data = df.loc[:,:186]\n",
        "y_data = df.loc[:,187]"
      ],
      "execution_count": null,
      "outputs": []
    },
    {
      "cell_type": "code",
      "metadata": {
        "id": "w5_HICGchVOj",
        "colab": {
          "base_uri": "https://localhost:8080/",
          "height": 161
        },
        "outputId": "16552f25-efa3-4247-c3a9-3d88e34756fc"
      },
      "source": [
        "X_data.head(2)"
      ],
      "execution_count": null,
      "outputs": [
        {
          "output_type": "execute_result",
          "data": {
            "text/html": [
              "<div>\n",
              "<style scoped>\n",
              "    .dataframe tbody tr th:only-of-type {\n",
              "        vertical-align: middle;\n",
              "    }\n",
              "\n",
              "    .dataframe tbody tr th {\n",
              "        vertical-align: top;\n",
              "    }\n",
              "\n",
              "    .dataframe thead th {\n",
              "        text-align: right;\n",
              "    }\n",
              "</style>\n",
              "<table border=\"1\" class=\"dataframe\">\n",
              "  <thead>\n",
              "    <tr style=\"text-align: right;\">\n",
              "      <th></th>\n",
              "      <th>0</th>\n",
              "      <th>1</th>\n",
              "      <th>2</th>\n",
              "      <th>3</th>\n",
              "      <th>4</th>\n",
              "      <th>5</th>\n",
              "      <th>6</th>\n",
              "      <th>7</th>\n",
              "      <th>8</th>\n",
              "      <th>9</th>\n",
              "      <th>10</th>\n",
              "      <th>11</th>\n",
              "      <th>12</th>\n",
              "      <th>13</th>\n",
              "      <th>14</th>\n",
              "      <th>15</th>\n",
              "      <th>16</th>\n",
              "      <th>17</th>\n",
              "      <th>18</th>\n",
              "      <th>19</th>\n",
              "      <th>20</th>\n",
              "      <th>21</th>\n",
              "      <th>22</th>\n",
              "      <th>23</th>\n",
              "      <th>24</th>\n",
              "      <th>25</th>\n",
              "      <th>26</th>\n",
              "      <th>27</th>\n",
              "      <th>28</th>\n",
              "      <th>29</th>\n",
              "      <th>30</th>\n",
              "      <th>31</th>\n",
              "      <th>32</th>\n",
              "      <th>33</th>\n",
              "      <th>34</th>\n",
              "      <th>35</th>\n",
              "      <th>36</th>\n",
              "      <th>37</th>\n",
              "      <th>38</th>\n",
              "      <th>39</th>\n",
              "      <th>...</th>\n",
              "      <th>147</th>\n",
              "      <th>148</th>\n",
              "      <th>149</th>\n",
              "      <th>150</th>\n",
              "      <th>151</th>\n",
              "      <th>152</th>\n",
              "      <th>153</th>\n",
              "      <th>154</th>\n",
              "      <th>155</th>\n",
              "      <th>156</th>\n",
              "      <th>157</th>\n",
              "      <th>158</th>\n",
              "      <th>159</th>\n",
              "      <th>160</th>\n",
              "      <th>161</th>\n",
              "      <th>162</th>\n",
              "      <th>163</th>\n",
              "      <th>164</th>\n",
              "      <th>165</th>\n",
              "      <th>166</th>\n",
              "      <th>167</th>\n",
              "      <th>168</th>\n",
              "      <th>169</th>\n",
              "      <th>170</th>\n",
              "      <th>171</th>\n",
              "      <th>172</th>\n",
              "      <th>173</th>\n",
              "      <th>174</th>\n",
              "      <th>175</th>\n",
              "      <th>176</th>\n",
              "      <th>177</th>\n",
              "      <th>178</th>\n",
              "      <th>179</th>\n",
              "      <th>180</th>\n",
              "      <th>181</th>\n",
              "      <th>182</th>\n",
              "      <th>183</th>\n",
              "      <th>184</th>\n",
              "      <th>185</th>\n",
              "      <th>186</th>\n",
              "    </tr>\n",
              "  </thead>\n",
              "  <tbody>\n",
              "    <tr>\n",
              "      <th>0</th>\n",
              "      <td>1.0</td>\n",
              "      <td>0.900324</td>\n",
              "      <td>0.358590</td>\n",
              "      <td>0.051459</td>\n",
              "      <td>0.046596</td>\n",
              "      <td>0.126823</td>\n",
              "      <td>0.133306</td>\n",
              "      <td>0.119125</td>\n",
              "      <td>0.110616</td>\n",
              "      <td>0.113047</td>\n",
              "      <td>0.106564</td>\n",
              "      <td>0.106969</td>\n",
              "      <td>0.115883</td>\n",
              "      <td>0.122366</td>\n",
              "      <td>0.122366</td>\n",
              "      <td>0.11953</td>\n",
              "      <td>0.115883</td>\n",
              "      <td>0.122366</td>\n",
              "      <td>0.126013</td>\n",
              "      <td>0.133712</td>\n",
              "      <td>0.134927</td>\n",
              "      <td>0.142626</td>\n",
              "      <td>0.151135</td>\n",
              "      <td>0.158428</td>\n",
              "      <td>0.163695</td>\n",
              "      <td>0.173825</td>\n",
              "      <td>0.188817</td>\n",
              "      <td>0.207861</td>\n",
              "      <td>0.230956</td>\n",
              "      <td>0.258509</td>\n",
              "      <td>0.294571</td>\n",
              "      <td>0.325770</td>\n",
              "      <td>0.362642</td>\n",
              "      <td>0.398298</td>\n",
              "      <td>0.429498</td>\n",
              "      <td>0.449352</td>\n",
              "      <td>0.450972</td>\n",
              "      <td>0.418963</td>\n",
              "      <td>0.372771</td>\n",
              "      <td>0.310373</td>\n",
              "      <td>...</td>\n",
              "      <td>0.0</td>\n",
              "      <td>0.0</td>\n",
              "      <td>0.0</td>\n",
              "      <td>0.0</td>\n",
              "      <td>0.0</td>\n",
              "      <td>0.0</td>\n",
              "      <td>0.0</td>\n",
              "      <td>0.0</td>\n",
              "      <td>0.0</td>\n",
              "      <td>0.0</td>\n",
              "      <td>0.0</td>\n",
              "      <td>0.0</td>\n",
              "      <td>0.0</td>\n",
              "      <td>0.0</td>\n",
              "      <td>0.0</td>\n",
              "      <td>0.0</td>\n",
              "      <td>0.0</td>\n",
              "      <td>0.0</td>\n",
              "      <td>0.0</td>\n",
              "      <td>0.0</td>\n",
              "      <td>0.0</td>\n",
              "      <td>0.0</td>\n",
              "      <td>0.0</td>\n",
              "      <td>0.0</td>\n",
              "      <td>0.0</td>\n",
              "      <td>0.0</td>\n",
              "      <td>0.0</td>\n",
              "      <td>0.0</td>\n",
              "      <td>0.0</td>\n",
              "      <td>0.0</td>\n",
              "      <td>0.0</td>\n",
              "      <td>0.0</td>\n",
              "      <td>0.0</td>\n",
              "      <td>0.0</td>\n",
              "      <td>0.0</td>\n",
              "      <td>0.0</td>\n",
              "      <td>0.0</td>\n",
              "      <td>0.0</td>\n",
              "      <td>0.0</td>\n",
              "      <td>0.0</td>\n",
              "    </tr>\n",
              "    <tr>\n",
              "      <th>1</th>\n",
              "      <td>1.0</td>\n",
              "      <td>0.794681</td>\n",
              "      <td>0.375387</td>\n",
              "      <td>0.116883</td>\n",
              "      <td>0.000000</td>\n",
              "      <td>0.171923</td>\n",
              "      <td>0.283859</td>\n",
              "      <td>0.293754</td>\n",
              "      <td>0.325912</td>\n",
              "      <td>0.345083</td>\n",
              "      <td>0.361781</td>\n",
              "      <td>0.362400</td>\n",
              "      <td>0.366110</td>\n",
              "      <td>0.367965</td>\n",
              "      <td>0.374150</td>\n",
              "      <td>0.37786</td>\n",
              "      <td>0.382189</td>\n",
              "      <td>0.384663</td>\n",
              "      <td>0.398887</td>\n",
              "      <td>0.401361</td>\n",
              "      <td>0.418058</td>\n",
              "      <td>0.443414</td>\n",
              "      <td>0.457638</td>\n",
              "      <td>0.487941</td>\n",
              "      <td>0.520717</td>\n",
              "      <td>0.559678</td>\n",
              "      <td>0.604205</td>\n",
              "      <td>0.634508</td>\n",
              "      <td>0.653680</td>\n",
              "      <td>0.672851</td>\n",
              "      <td>0.678417</td>\n",
              "      <td>0.660482</td>\n",
              "      <td>0.621521</td>\n",
              "      <td>0.555968</td>\n",
              "      <td>0.482375</td>\n",
              "      <td>0.438466</td>\n",
              "      <td>0.378479</td>\n",
              "      <td>0.351268</td>\n",
              "      <td>0.319728</td>\n",
              "      <td>0.306741</td>\n",
              "      <td>...</td>\n",
              "      <td>0.0</td>\n",
              "      <td>0.0</td>\n",
              "      <td>0.0</td>\n",
              "      <td>0.0</td>\n",
              "      <td>0.0</td>\n",
              "      <td>0.0</td>\n",
              "      <td>0.0</td>\n",
              "      <td>0.0</td>\n",
              "      <td>0.0</td>\n",
              "      <td>0.0</td>\n",
              "      <td>0.0</td>\n",
              "      <td>0.0</td>\n",
              "      <td>0.0</td>\n",
              "      <td>0.0</td>\n",
              "      <td>0.0</td>\n",
              "      <td>0.0</td>\n",
              "      <td>0.0</td>\n",
              "      <td>0.0</td>\n",
              "      <td>0.0</td>\n",
              "      <td>0.0</td>\n",
              "      <td>0.0</td>\n",
              "      <td>0.0</td>\n",
              "      <td>0.0</td>\n",
              "      <td>0.0</td>\n",
              "      <td>0.0</td>\n",
              "      <td>0.0</td>\n",
              "      <td>0.0</td>\n",
              "      <td>0.0</td>\n",
              "      <td>0.0</td>\n",
              "      <td>0.0</td>\n",
              "      <td>0.0</td>\n",
              "      <td>0.0</td>\n",
              "      <td>0.0</td>\n",
              "      <td>0.0</td>\n",
              "      <td>0.0</td>\n",
              "      <td>0.0</td>\n",
              "      <td>0.0</td>\n",
              "      <td>0.0</td>\n",
              "      <td>0.0</td>\n",
              "      <td>0.0</td>\n",
              "    </tr>\n",
              "  </tbody>\n",
              "</table>\n",
              "<p>2 rows × 187 columns</p>\n",
              "</div>"
            ],
            "text/plain": [
              "   0         1         2         3         4    ...  182  183  184  185  186\n",
              "0  1.0  0.900324  0.358590  0.051459  0.046596  ...  0.0  0.0  0.0  0.0  0.0\n",
              "1  1.0  0.794681  0.375387  0.116883  0.000000  ...  0.0  0.0  0.0  0.0  0.0\n",
              "\n",
              "[2 rows x 187 columns]"
            ]
          },
          "metadata": {
            "tags": []
          },
          "execution_count": 8
        }
      ]
    },
    {
      "cell_type": "markdown",
      "metadata": {
        "id": "JygEZoLBQZ2F"
      },
      "source": [
        "# Preliminary ECG Visuals"
      ]
    },
    {
      "cell_type": "code",
      "metadata": {
        "colab": {
          "base_uri": "https://localhost:8080/",
          "height": 171
        },
        "id": "a3K5LaZ2kJhx",
        "outputId": "fa9482e6-e34c-4f79-c861-889c090c1b02"
      },
      "source": [
        "fig = plt.figure(figsize=(10, 2))\n",
        "\n",
        "# Adds subplot on position 1\n",
        "ax = fig.add_subplot(121)\n",
        "# Adds subplot on position 2\n",
        "ax2 = fig.add_subplot(122)\n",
        "\n",
        "ax.plot(df_normal.loc[100,:186])\n",
        "ax2.plot(df_normal.loc[500,:186])\n",
        "\n",
        "plt.suptitle('Normal Heart') \n",
        "plt.show()"
      ],
      "execution_count": null,
      "outputs": [
        {
          "output_type": "display_data",
          "data": {
            "image/png": "[encoded data removed]",
            "text/plain": [
              "<Figure size 720x144 with 2 Axes>"
            ]
          },
          "metadata": {
            "tags": [],
            "needs_background": "light"
          }
        }
      ]
    },
    {
      "cell_type": "code",
      "metadata": {
        "colab": {
          "base_uri": "https://localhost:8080/",
          "height": 171
        },
        "id": "AXv4ecAvlggu",
        "outputId": "16ca04db-6637-488e-96fa-533c5fec7670"
      },
      "source": [
        "#Abnormal ECG\n",
        "fig1 = plt.figure(figsize=(10, 2))\n",
        "\n",
        "# Adds subplot on position 1\n",
        "ax = fig1.add_subplot(121)\n",
        "# Adds subplot on position 2\n",
        "ax2 = fig1.add_subplot(122)\n",
        "\n",
        "ax.plot(df_abnormal.loc[100,:186])\n",
        "ax2.plot(df_abnormal.loc[500,:186])\n",
        "\n",
        "plt.suptitle('Miocardial Infarction') \n",
        "plt.show()"
      ],
      "execution_count": null,
      "outputs": [
        {
          "output_type": "display_data",
          "data": {
            "image/png": "[encoded data removed]",
            "text/plain": [
              "<Figure size 720x144 with 2 Axes>"
            ]
          },
          "metadata": {
            "tags": [],
            "needs_background": "light"
          }
        }
      ]
    },
    {
      "cell_type": "code",
      "metadata": {
        "id": "4tldjD3IlgXP"
      },
      "source": [
        ""
      ],
      "execution_count": null,
      "outputs": []
    },
    {
      "cell_type": "code",
      "metadata": {
        "colab": {
          "base_uri": "https://localhost:8080/"
        },
        "id": "u3sXD_e_X21r",
        "outputId": "4a536936-8a5c-47d9-c983-02a5a1707f77"
      },
      "source": [
        "y_data.value_counts()"
      ],
      "execution_count": null,
      "outputs": [
        {
          "output_type": "execute_result",
          "data": {
            "text/plain": [
              "1.0    10506\n",
              "0.0     4046\n",
              "Name: 187, dtype: int64"
            ]
          },
          "metadata": {
            "tags": []
          },
          "execution_count": 11
        }
      ]
    },
    {
      "cell_type": "code",
      "metadata": {
        "id": "yrgkrGSchZh1"
      },
      "source": [
        ""
      ],
      "execution_count": null,
      "outputs": []
    },
    {
      "cell_type": "markdown",
      "metadata": {
        "id": "dsWSixt3EzEC"
      },
      "source": [
        "# Splitting Data & Setting \"y\" Categorical"
      ]
    },
    {
      "cell_type": "code",
      "metadata": {
        "id": "zhCQDxuAE3CW"
      },
      "source": [
        "dfX_train, dfX_test, y_train, y_test = train_test_split(X_data, y_data, shuffle=True, train_size=0.8, random_state = 42)"
      ],
      "execution_count": null,
      "outputs": []
    },
    {
      "cell_type": "code",
      "metadata": {
        "colab": {
          "base_uri": "https://localhost:8080/"
        },
        "id": "VHCq1NFTjxPC",
        "outputId": "2971b6d3-416f-4d4f-b0c8-97139a4062a5"
      },
      "source": [
        "y_train"
      ],
      "execution_count": null,
      "outputs": [
        {
          "output_type": "execute_result",
          "data": {
            "text/plain": [
              "4292     1.0\n",
              "8963     1.0\n",
              "10671    1.0\n",
              "8994     1.0\n",
              "13691    1.0\n",
              "        ... \n",
              "5191     1.0\n",
              "13418    1.0\n",
              "5390     1.0\n",
              "860      0.0\n",
              "7270     1.0\n",
              "Name: 187, Length: 11641, dtype: float64"
            ]
          },
          "metadata": {
            "tags": []
          },
          "execution_count": 13
        }
      ]
    },
    {
      "cell_type": "code",
      "metadata": {
        "id": "FguFRcwtjxMI"
      },
      "source": [
        "#Preparing the train dataset including \"y\" before balancing the classes.\n",
        "df_train = pd.concat([dfX_train, pd.Series(y_train)], axis=1)"
      ],
      "execution_count": null,
      "outputs": []
    },
    {
      "cell_type": "code",
      "metadata": {
        "colab": {
          "base_uri": "https://localhost:8080/"
        },
        "id": "JTzQ7yw7jxJB",
        "outputId": "1700e141-d925-42fd-dfad-04bc730f8cff"
      },
      "source": [
        "df_train[187].value_counts()"
      ],
      "execution_count": null,
      "outputs": [
        {
          "output_type": "execute_result",
          "data": {
            "text/plain": [
              "1.0    8429\n",
              "0.0    3212\n",
              "Name: 187, dtype: int64"
            ]
          },
          "metadata": {
            "tags": []
          },
          "execution_count": 15
        }
      ]
    },
    {
      "cell_type": "code",
      "metadata": {
        "colab": {
          "base_uri": "https://localhost:8080/"
        },
        "id": "b_LwULeqzQVq",
        "outputId": "7b1d09d8-3824-4188-e376-ef9aeaef073b"
      },
      "source": [
        "y_test.value_counts()"
      ],
      "execution_count": null,
      "outputs": [
        {
          "output_type": "execute_result",
          "data": {
            "text/plain": [
              "1.0    2077\n",
              "0.0     834\n",
              "Name: 187, dtype: int64"
            ]
          },
          "metadata": {
            "tags": []
          },
          "execution_count": 16
        }
      ]
    },
    {
      "cell_type": "markdown",
      "metadata": {
        "id": "ggPXBosvin42"
      },
      "source": [
        "# Balancing Classes in Train Set"
      ]
    },
    {
      "cell_type": "code",
      "metadata": {
        "id": "kjdg36t8X2zG"
      },
      "source": [
        "from sklearn.utils import resample\n",
        "\n",
        "df_0=(df_train[df_train[187]==0])\n",
        "df_1=(df_train[df_train[187]==1]).sample(n=8400,random_state=42)\n",
        "\n",
        "#resampling minority class with replacement\n",
        "df_0_upsample=resample(df_0,replace=True,n_samples=8400,random_state=123)\n",
        "\n",
        "#balanced df\n",
        "df_train_balanced=pd.concat([df_0_upsample,df_1])\n",
        "\n",
        "#shuffling rows in balanced df\n",
        "df_train_shuffled=df_train_balanced.sample(frac=1).reset_index(drop=True)"
      ],
      "execution_count": null,
      "outputs": []
    },
    {
      "cell_type": "code",
      "metadata": {
        "colab": {
          "base_uri": "https://localhost:8080/"
        },
        "id": "J5mwq7pvjxGI",
        "outputId": "62708989-3318-474a-a16a-ac22ec55ddf7"
      },
      "source": [
        "df_train_shuffled[187].value_counts()"
      ],
      "execution_count": null,
      "outputs": [
        {
          "output_type": "execute_result",
          "data": {
            "text/plain": [
              "1.0    8400\n",
              "0.0    8400\n",
              "Name: 187, dtype: int64"
            ]
          },
          "metadata": {
            "tags": []
          },
          "execution_count": 18
        }
      ]
    },
    {
      "cell_type": "code",
      "metadata": {
        "id": "1CGyDW1Pjw_o"
      },
      "source": [
        "X_train_proc = df_train_shuffled.iloc[:,:187]\n",
        "y_train_proc = df_train_shuffled.iloc[:,187]"
      ],
      "execution_count": null,
      "outputs": []
    },
    {
      "cell_type": "code",
      "metadata": {
        "colab": {
          "base_uri": "https://localhost:8080/",
          "height": 161
        },
        "id": "yRMie12SozZy",
        "outputId": "e2f5f840-7945-43ef-ec5f-104c78144314"
      },
      "source": [
        "X_train_proc.head(2)"
      ],
      "execution_count": null,
      "outputs": [
        {
          "output_type": "execute_result",
          "data": {
            "text/html": [
              "<div>\n",
              "<style scoped>\n",
              "    .dataframe tbody tr th:only-of-type {\n",
              "        vertical-align: middle;\n",
              "    }\n",
              "\n",
              "    .dataframe tbody tr th {\n",
              "        vertical-align: top;\n",
              "    }\n",
              "\n",
              "    .dataframe thead th {\n",
              "        text-align: right;\n",
              "    }\n",
              "</style>\n",
              "<table border=\"1\" class=\"dataframe\">\n",
              "  <thead>\n",
              "    <tr style=\"text-align: right;\">\n",
              "      <th></th>\n",
              "      <th>0</th>\n",
              "      <th>1</th>\n",
              "      <th>2</th>\n",
              "      <th>3</th>\n",
              "      <th>4</th>\n",
              "      <th>5</th>\n",
              "      <th>6</th>\n",
              "      <th>7</th>\n",
              "      <th>8</th>\n",
              "      <th>9</th>\n",
              "      <th>10</th>\n",
              "      <th>11</th>\n",
              "      <th>12</th>\n",
              "      <th>13</th>\n",
              "      <th>14</th>\n",
              "      <th>15</th>\n",
              "      <th>16</th>\n",
              "      <th>17</th>\n",
              "      <th>18</th>\n",
              "      <th>19</th>\n",
              "      <th>20</th>\n",
              "      <th>21</th>\n",
              "      <th>22</th>\n",
              "      <th>23</th>\n",
              "      <th>24</th>\n",
              "      <th>25</th>\n",
              "      <th>26</th>\n",
              "      <th>27</th>\n",
              "      <th>28</th>\n",
              "      <th>29</th>\n",
              "      <th>30</th>\n",
              "      <th>31</th>\n",
              "      <th>32</th>\n",
              "      <th>33</th>\n",
              "      <th>34</th>\n",
              "      <th>35</th>\n",
              "      <th>36</th>\n",
              "      <th>37</th>\n",
              "      <th>38</th>\n",
              "      <th>39</th>\n",
              "      <th>...</th>\n",
              "      <th>147</th>\n",
              "      <th>148</th>\n",
              "      <th>149</th>\n",
              "      <th>150</th>\n",
              "      <th>151</th>\n",
              "      <th>152</th>\n",
              "      <th>153</th>\n",
              "      <th>154</th>\n",
              "      <th>155</th>\n",
              "      <th>156</th>\n",
              "      <th>157</th>\n",
              "      <th>158</th>\n",
              "      <th>159</th>\n",
              "      <th>160</th>\n",
              "      <th>161</th>\n",
              "      <th>162</th>\n",
              "      <th>163</th>\n",
              "      <th>164</th>\n",
              "      <th>165</th>\n",
              "      <th>166</th>\n",
              "      <th>167</th>\n",
              "      <th>168</th>\n",
              "      <th>169</th>\n",
              "      <th>170</th>\n",
              "      <th>171</th>\n",
              "      <th>172</th>\n",
              "      <th>173</th>\n",
              "      <th>174</th>\n",
              "      <th>175</th>\n",
              "      <th>176</th>\n",
              "      <th>177</th>\n",
              "      <th>178</th>\n",
              "      <th>179</th>\n",
              "      <th>180</th>\n",
              "      <th>181</th>\n",
              "      <th>182</th>\n",
              "      <th>183</th>\n",
              "      <th>184</th>\n",
              "      <th>185</th>\n",
              "      <th>186</th>\n",
              "    </tr>\n",
              "  </thead>\n",
              "  <tbody>\n",
              "    <tr>\n",
              "      <th>0</th>\n",
              "      <td>1.000000</td>\n",
              "      <td>0.564278</td>\n",
              "      <td>0.208090</td>\n",
              "      <td>0.021255</td>\n",
              "      <td>0.010285</td>\n",
              "      <td>0.049709</td>\n",
              "      <td>0.068564</td>\n",
              "      <td>0.056222</td>\n",
              "      <td>0.056222</td>\n",
              "      <td>0.059650</td>\n",
              "      <td>0.061707</td>\n",
              "      <td>0.065478</td>\n",
              "      <td>0.064793</td>\n",
              "      <td>0.071649</td>\n",
              "      <td>0.070278</td>\n",
              "      <td>0.075077</td>\n",
              "      <td>0.085019</td>\n",
              "      <td>0.085019</td>\n",
              "      <td>0.090847</td>\n",
              "      <td>0.098732</td>\n",
              "      <td>0.106959</td>\n",
              "      <td>0.116558</td>\n",
              "      <td>0.130956</td>\n",
              "      <td>0.147069</td>\n",
              "      <td>0.165581</td>\n",
              "      <td>0.189236</td>\n",
              "      <td>0.215975</td>\n",
              "      <td>0.248543</td>\n",
              "      <td>0.269455</td>\n",
              "      <td>0.294138</td>\n",
              "      <td>0.316078</td>\n",
              "      <td>0.323963</td>\n",
              "      <td>0.325677</td>\n",
              "      <td>0.302023</td>\n",
              "      <td>0.266370</td>\n",
              "      <td>0.212204</td>\n",
              "      <td>0.173809</td>\n",
              "      <td>0.131985</td>\n",
              "      <td>0.112444</td>\n",
              "      <td>0.101131</td>\n",
              "      <td>...</td>\n",
              "      <td>0.083305</td>\n",
              "      <td>0.092561</td>\n",
              "      <td>0.107988</td>\n",
              "      <td>0.119643</td>\n",
              "      <td>0.133356</td>\n",
              "      <td>0.145355</td>\n",
              "      <td>0.168666</td>\n",
              "      <td>0.0</td>\n",
              "      <td>0.0</td>\n",
              "      <td>0.0</td>\n",
              "      <td>0.0</td>\n",
              "      <td>0.0</td>\n",
              "      <td>0.0</td>\n",
              "      <td>0.0</td>\n",
              "      <td>0.0</td>\n",
              "      <td>0.0</td>\n",
              "      <td>0.0</td>\n",
              "      <td>0.0</td>\n",
              "      <td>0.0</td>\n",
              "      <td>0.0</td>\n",
              "      <td>0.0</td>\n",
              "      <td>0.0</td>\n",
              "      <td>0.0</td>\n",
              "      <td>0.0</td>\n",
              "      <td>0.0</td>\n",
              "      <td>0.0</td>\n",
              "      <td>0.0</td>\n",
              "      <td>0.0</td>\n",
              "      <td>0.0</td>\n",
              "      <td>0.0</td>\n",
              "      <td>0.0</td>\n",
              "      <td>0.0</td>\n",
              "      <td>0.0</td>\n",
              "      <td>0.0</td>\n",
              "      <td>0.0</td>\n",
              "      <td>0.0</td>\n",
              "      <td>0.0</td>\n",
              "      <td>0.0</td>\n",
              "      <td>0.0</td>\n",
              "      <td>0.0</td>\n",
              "    </tr>\n",
              "    <tr>\n",
              "      <th>1</th>\n",
              "      <td>0.965773</td>\n",
              "      <td>1.000000</td>\n",
              "      <td>0.715345</td>\n",
              "      <td>0.164290</td>\n",
              "      <td>0.017114</td>\n",
              "      <td>0.020536</td>\n",
              "      <td>0.062750</td>\n",
              "      <td>0.067884</td>\n",
              "      <td>0.053052</td>\n",
              "      <td>0.066172</td>\n",
              "      <td>0.070736</td>\n",
              "      <td>0.081004</td>\n",
              "      <td>0.079863</td>\n",
              "      <td>0.086138</td>\n",
              "      <td>0.093554</td>\n",
              "      <td>0.109527</td>\n",
              "      <td>0.107245</td>\n",
              "      <td>0.132915</td>\n",
              "      <td>0.134626</td>\n",
              "      <td>0.152310</td>\n",
              "      <td>0.174558</td>\n",
              "      <td>0.197946</td>\n",
              "      <td>0.222476</td>\n",
              "      <td>0.266400</td>\n",
              "      <td>0.298346</td>\n",
              "      <td>0.328009</td>\n",
              "      <td>0.364518</td>\n",
              "      <td>0.415288</td>\n",
              "      <td>0.438677</td>\n",
              "      <td>0.482031</td>\n",
              "      <td>0.512835</td>\n",
              "      <td>0.518540</td>\n",
              "      <td>0.503708</td>\n",
              "      <td>0.462065</td>\n",
              "      <td>0.389618</td>\n",
              "      <td>0.320593</td>\n",
              "      <td>0.241301</td>\n",
              "      <td>0.171135</td>\n",
              "      <td>0.131774</td>\n",
              "      <td>0.102111</td>\n",
              "      <td>...</td>\n",
              "      <td>0.000000</td>\n",
              "      <td>0.000000</td>\n",
              "      <td>0.000000</td>\n",
              "      <td>0.000000</td>\n",
              "      <td>0.000000</td>\n",
              "      <td>0.000000</td>\n",
              "      <td>0.000000</td>\n",
              "      <td>0.0</td>\n",
              "      <td>0.0</td>\n",
              "      <td>0.0</td>\n",
              "      <td>0.0</td>\n",
              "      <td>0.0</td>\n",
              "      <td>0.0</td>\n",
              "      <td>0.0</td>\n",
              "      <td>0.0</td>\n",
              "      <td>0.0</td>\n",
              "      <td>0.0</td>\n",
              "      <td>0.0</td>\n",
              "      <td>0.0</td>\n",
              "      <td>0.0</td>\n",
              "      <td>0.0</td>\n",
              "      <td>0.0</td>\n",
              "      <td>0.0</td>\n",
              "      <td>0.0</td>\n",
              "      <td>0.0</td>\n",
              "      <td>0.0</td>\n",
              "      <td>0.0</td>\n",
              "      <td>0.0</td>\n",
              "      <td>0.0</td>\n",
              "      <td>0.0</td>\n",
              "      <td>0.0</td>\n",
              "      <td>0.0</td>\n",
              "      <td>0.0</td>\n",
              "      <td>0.0</td>\n",
              "      <td>0.0</td>\n",
              "      <td>0.0</td>\n",
              "      <td>0.0</td>\n",
              "      <td>0.0</td>\n",
              "      <td>0.0</td>\n",
              "      <td>0.0</td>\n",
              "    </tr>\n",
              "  </tbody>\n",
              "</table>\n",
              "<p>2 rows × 187 columns</p>\n",
              "</div>"
            ],
            "text/plain": [
              "        0         1         2         3         4    ...  182  183  184  185  186\n",
              "0  1.000000  0.564278  0.208090  0.021255  0.010285  ...  0.0  0.0  0.0  0.0  0.0\n",
              "1  0.965773  1.000000  0.715345  0.164290  0.017114  ...  0.0  0.0  0.0  0.0  0.0\n",
              "\n",
              "[2 rows x 187 columns]"
            ]
          },
          "metadata": {
            "tags": []
          },
          "execution_count": 20
        }
      ]
    },
    {
      "cell_type": "code",
      "metadata": {
        "id": "h499WyPsxJcL"
      },
      "source": [
        ""
      ],
      "execution_count": null,
      "outputs": []
    },
    {
      "cell_type": "markdown",
      "metadata": {
        "id": "irsDDkFIT0Zw"
      },
      "source": [
        "# Split Test Set into Validation and Test"
      ]
    },
    {
      "cell_type": "code",
      "metadata": {
        "id": "m9fZZ2AyT9i_"
      },
      "source": [
        "dfX_val, dfX_test_final, y_val, y_test_final = train_test_split(dfX_test, y_test, shuffle=True, train_size=0.5, random_state = 42)"
      ],
      "execution_count": null,
      "outputs": []
    },
    {
      "cell_type": "code",
      "metadata": {
        "id": "5qIdp6HFT9SU"
      },
      "source": [
        ""
      ],
      "execution_count": null,
      "outputs": []
    },
    {
      "cell_type": "markdown",
      "metadata": {
        "id": "3_1h4l6IxKFe"
      },
      "source": [
        "# Formatting Train, Test and Validation"
      ]
    },
    {
      "cell_type": "code",
      "metadata": {
        "id": "vjYZkZQgE28O"
      },
      "source": [
        "#X_train_proc comes from rebalancing classes in train_set above\n",
        "X_train = X_train_proc.iloc[:,:186].values\n",
        "\n",
        "#dfx_test comes from splitting train/test section\n",
        "X_test = dfX_test_final.iloc[:,:186].values\n",
        "\n",
        "X_val = dfX_val.iloc[:,:186].values\n",
        "\n",
        "#for i in range(len(X_train)):\n",
        "#    X_train[i,:186]= add_gaussian_noise(X_train[i,:186])\n",
        "\n",
        "# Changing the shape of X_train and X_test to3D arrays\n",
        "\n",
        "X_train = X_train.reshape(len(X_train), X_train.shape[1],1)\n",
        "X_test_new = X_test.reshape(len(X_test), X_test.shape[1],1)\n",
        "X_val = X_val.reshape(len(X_val), X_val.shape[1],1)\n"
      ],
      "execution_count": null,
      "outputs": []
    },
    {
      "cell_type": "code",
      "metadata": {
        "colab": {
          "base_uri": "https://localhost:8080/"
        },
        "id": "XChjVa24jQJU",
        "outputId": "e23fb624-d0b0-459a-c6b6-dcb2b6476dcd"
      },
      "source": [
        "X_test_new.shape"
      ],
      "execution_count": null,
      "outputs": [
        {
          "output_type": "execute_result",
          "data": {
            "text/plain": [
              "(1456, 186, 1)"
            ]
          },
          "metadata": {
            "tags": []
          },
          "execution_count": 23
        }
      ]
    },
    {
      "cell_type": "code",
      "metadata": {
        "colab": {
          "base_uri": "https://localhost:8080/"
        },
        "id": "rcKV9fA8VwUs",
        "outputId": "3212f012-812d-4091-f51c-4dd5f43a8a43"
      },
      "source": [
        "X_val.shape"
      ],
      "execution_count": null,
      "outputs": [
        {
          "output_type": "execute_result",
          "data": {
            "text/plain": [
              "(1455, 186, 1)"
            ]
          },
          "metadata": {
            "tags": []
          },
          "execution_count": 24
        }
      ]
    },
    {
      "cell_type": "code",
      "metadata": {
        "id": "b9WXRUIedFmu"
      },
      "source": [
        "y_train_cat=to_categorical(y_train_proc)\n",
        "y_test_cat=to_categorical(y_test_final)\n",
        "y_val_cat=to_categorical(y_val)\n"
      ],
      "execution_count": null,
      "outputs": []
    },
    {
      "cell_type": "code",
      "metadata": {
        "colab": {
          "base_uri": "https://localhost:8080/"
        },
        "id": "YlwcKz3Pkx_K",
        "outputId": "d9ae4ec9-ce46-4d10-ff61-fcc79e8e67ee"
      },
      "source": [
        "y_train_cat"
      ],
      "execution_count": null,
      "outputs": [
        {
          "output_type": "execute_result",
          "data": {
            "text/plain": [
              "array([[1., 0.],\n",
              "       [1., 0.],\n",
              "       [0., 1.],\n",
              "       ...,\n",
              "       [0., 1.],\n",
              "       [0., 1.],\n",
              "       [1., 0.]], dtype=float32)"
            ]
          },
          "metadata": {
            "tags": []
          },
          "execution_count": 26
        }
      ]
    },
    {
      "cell_type": "markdown",
      "metadata": {
        "id": "xBfurHePbpod"
      },
      "source": [
        "# Convolutional NN"
      ]
    },
    {
      "cell_type": "markdown",
      "metadata": {
        "id": "H65kuvi-IeI3"
      },
      "source": [
        "# Network Definition\n",
        "\n",
        "\n",
        "\n",
        "\n",
        "\n"
      ]
    },
    {
      "cell_type": "code",
      "metadata": {
        "id": "wQoIhs4BbxcL"
      },
      "source": [
        "#reference for understanding LSTM return sequence parameter\n",
        "#https://www.dlology.com/blog/how-to-use-return_state-or-return_sequences-in-keras/\n",
        "\n",
        "def network(X_train,y_train,X_test,y_test):\n",
        "    \n",
        "\n",
        "    im_shape=(X_train.shape[1],1)\n",
        "    inputs_cnn=Input(shape=(im_shape), name='inputs_lstm')\n",
        "    conv1_1=Convolution1D(64, (6), activation='relu', input_shape=im_shape)(inputs_cnn)\n",
        "    \n",
        "    #pool1=MaxPool1D(pool_size=(3), strides=(2), padding=\"same\")(conv1_1)\n",
        "    #conv2_1=Convolution1D(64, (3), activation='relu', input_shape=im_shape)(pool1)\n",
        "    \n",
        "    pool1=MaxPool1D(pool_size=(3), strides=(2))(conv1_1)\n",
        "    conv2_1=Convolution1D(64, (3), activation='relu')(pool1)\n",
        "    \n",
        "    #conv2_1=BatchNormalization()(conv2_1)\n",
        "    pool2=MaxPool1D(pool_size=(2), strides=(2), padding=\"same\")(conv2_1)\n",
        "    #conv3_1=Convolution1D(64, (3), activation='relu', input_shape=im_shape)(pool2)\n",
        "    #conv3_1=BatchNormalization()(conv3_1)\n",
        "    #pool3=MaxPool1D(pool_size=(2), strides=(2), padding=\"same\")(conv3_1)\n",
        "    flatten=Flatten()(pool2)\n",
        "    #dense_end1 = Dense(64, activation='relu')(flatten)\n",
        "    dense_end2 = Dense(32, activation='relu')(flatten)\n",
        "    main_output = Dense(2, activation='softmax', name='main_output')(dense_end2)\n",
        "    \n",
        "    \n",
        "    model = Model(inputs= inputs_cnn, outputs=main_output)\n",
        "    model.compile(optimizer='adam', loss='categorical_crossentropy',metrics = ['accuracy'])\n",
        "    \n",
        "    \n",
        "    callbacks = [EarlyStopping(monitor='val_loss', patience=10),\n",
        "             ModelCheckpoint(filepath='best_model.h5', monitor='val_loss', save_best_only=True)]\n",
        "\n",
        "    history=model.fit(X_train, y_train, epochs=40,callbacks=callbacks, batch_size=32,validation_data=(X_test,y_test))\n",
        "    model.load_weights('best_model.h5')\n",
        "    return(model,history)"
      ],
      "execution_count": null,
      "outputs": []
    },
    {
      "cell_type": "code",
      "metadata": {
        "colab": {
          "base_uri": "https://localhost:8080/"
        },
        "id": "kHHK7WIvbxWu",
        "outputId": "119a8ce1-3d51-4403-972e-8a815f126ea7"
      },
      "source": [
        "model,history=network(X_train,y_train_cat,X_val,y_val_cat)"
      ],
      "execution_count": null,
      "outputs": [
        {
          "output_type": "stream",
          "text": [
            "Epoch 1/40\n",
            "525/525 [==============================] - 35s 4ms/step - loss: 0.4580 - accuracy: 0.7882 - val_loss: 0.2834 - val_accuracy: 0.8660\n",
            "Epoch 2/40\n",
            "525/525 [==============================] - 1s 3ms/step - loss: 0.2402 - accuracy: 0.9041 - val_loss: 0.1787 - val_accuracy: 0.9471\n",
            "Epoch 3/40\n",
            "525/525 [==============================] - 1s 3ms/step - loss: 0.1429 - accuracy: 0.9489 - val_loss: 0.1789 - val_accuracy: 0.9320\n",
            "Epoch 4/40\n",
            "525/525 [==============================] - 1s 3ms/step - loss: 0.1072 - accuracy: 0.9604 - val_loss: 0.1124 - val_accuracy: 0.9670\n",
            "Epoch 5/40\n",
            "525/525 [==============================] - 1s 3ms/step - loss: 0.0773 - accuracy: 0.9747 - val_loss: 0.0941 - val_accuracy: 0.9698\n",
            "Epoch 6/40\n",
            "525/525 [==============================] - 1s 3ms/step - loss: 0.0639 - accuracy: 0.9789 - val_loss: 0.0906 - val_accuracy: 0.9739\n",
            "Epoch 7/40\n",
            "525/525 [==============================] - 1s 3ms/step - loss: 0.0515 - accuracy: 0.9827 - val_loss: 0.1054 - val_accuracy: 0.9643\n",
            "Epoch 8/40\n",
            "525/525 [==============================] - 1s 3ms/step - loss: 0.0413 - accuracy: 0.9863 - val_loss: 0.0780 - val_accuracy: 0.9773\n",
            "Epoch 9/40\n",
            "525/525 [==============================] - 2s 3ms/step - loss: 0.0363 - accuracy: 0.9882 - val_loss: 0.1085 - val_accuracy: 0.9691\n",
            "Epoch 10/40\n",
            "525/525 [==============================] - 2s 3ms/step - loss: 0.0392 - accuracy: 0.9870 - val_loss: 0.0867 - val_accuracy: 0.9753\n",
            "Epoch 11/40\n",
            "525/525 [==============================] - 2s 3ms/step - loss: 0.0266 - accuracy: 0.9915 - val_loss: 0.0840 - val_accuracy: 0.9794\n",
            "Epoch 12/40\n",
            "525/525 [==============================] - 2s 3ms/step - loss: 0.0203 - accuracy: 0.9935 - val_loss: 0.0664 - val_accuracy: 0.9835\n",
            "Epoch 13/40\n",
            "525/525 [==============================] - 2s 3ms/step - loss: 0.0201 - accuracy: 0.9940 - val_loss: 0.0827 - val_accuracy: 0.9773\n",
            "Epoch 14/40\n",
            "525/525 [==============================] - 2s 3ms/step - loss: 0.0223 - accuracy: 0.9918 - val_loss: 0.0644 - val_accuracy: 0.9773\n",
            "Epoch 15/40\n",
            "525/525 [==============================] - 2s 3ms/step - loss: 0.0164 - accuracy: 0.9943 - val_loss: 0.0683 - val_accuracy: 0.9794\n",
            "Epoch 16/40\n",
            "525/525 [==============================] - 1s 3ms/step - loss: 0.0143 - accuracy: 0.9959 - val_loss: 0.0796 - val_accuracy: 0.9828\n",
            "Epoch 17/40\n",
            "525/525 [==============================] - 1s 3ms/step - loss: 0.0190 - accuracy: 0.9925 - val_loss: 0.0699 - val_accuracy: 0.9828\n",
            "Epoch 18/40\n",
            "525/525 [==============================] - 1s 3ms/step - loss: 0.0089 - accuracy: 0.9971 - val_loss: 0.0749 - val_accuracy: 0.9821\n",
            "Epoch 19/40\n",
            "525/525 [==============================] - 1s 3ms/step - loss: 0.0080 - accuracy: 0.9977 - val_loss: 0.0724 - val_accuracy: 0.9828\n",
            "Epoch 20/40\n",
            "525/525 [==============================] - 1s 3ms/step - loss: 0.0093 - accuracy: 0.9965 - val_loss: 0.1007 - val_accuracy: 0.9801\n",
            "Epoch 21/40\n",
            "525/525 [==============================] - 1s 3ms/step - loss: 0.0281 - accuracy: 0.9898 - val_loss: 0.0853 - val_accuracy: 0.9828\n",
            "Epoch 22/40\n",
            "525/525 [==============================] - 1s 3ms/step - loss: 0.0117 - accuracy: 0.9964 - val_loss: 0.0769 - val_accuracy: 0.9814\n",
            "Epoch 23/40\n",
            "525/525 [==============================] - 1s 3ms/step - loss: 0.0040 - accuracy: 0.9988 - val_loss: 0.0705 - val_accuracy: 0.9863\n",
            "Epoch 24/40\n",
            "525/525 [==============================] - 1s 3ms/step - loss: 0.0023 - accuracy: 0.9995 - val_loss: 0.0900 - val_accuracy: 0.9787\n"
          ],
          "name": "stdout"
        }
      ]
    },
    {
      "cell_type": "code",
      "metadata": {
        "id": "s-oHg2tVIY9V"
      },
      "source": [
        ""
      ],
      "execution_count": null,
      "outputs": []
    },
    {
      "cell_type": "markdown",
      "metadata": {
        "id": "jfSluSUPIzso"
      },
      "source": [
        "# Model Evaluation"
      ]
    },
    {
      "cell_type": "code",
      "metadata": {
        "id": "RddXdQu1bxZh"
      },
      "source": [
        "def evaluate_model(history,X_test,y_test,model):\n",
        "    scores = model.evaluate((X_test),y_test, verbose=0)\n",
        "    print(\"Accuracy: %.2f%%\" % (scores[1]*100))\n",
        "    \n",
        "    print(history)\n",
        "    fig1, ax_acc = plt.subplots()\n",
        "    plt.plot(history.history['accuracy'])\n",
        "    plt.plot(history.history['val_accuracy'])\n",
        "    plt.xlabel('Epoch')\n",
        "    plt.ylabel('Accuracy')\n",
        "    plt.title('Model - Accuracy')\n",
        "    plt.legend(['Training', 'Validation'], loc='lower right')\n",
        "    plt.show()\n",
        "    \n",
        "    fig2, ax_loss = plt.subplots()\n",
        "    plt.xlabel('Epoch')\n",
        "    plt.ylabel('Loss')\n",
        "    plt.title('Model- Loss')\n",
        "    plt.legend(['Training', 'Validation'], loc='upper right')\n",
        "    plt.plot(history.history['loss'])\n",
        "    plt.plot(history.history['val_loss'])\n",
        "    plt.show()\n",
        "\n",
        "    #Luis: Changed from strings to integer\n",
        "    target_names=[0, 1]\n",
        "    \n",
        "    #y_true=[]\n",
        "    #for element in y_test:\n",
        "    #    y_true.append(np.argmax(element))\n",
        "    #prediction_proba=model.predict(X_test)\n",
        "    #prediction=np.argmax(prediction_proba,axis=1)\n",
        "    #cnf_matrix = confusion_matrix(y_true, prediction)\n",
        "    "
      ],
      "execution_count": null,
      "outputs": []
    },
    {
      "cell_type": "code",
      "metadata": {
        "colab": {
          "base_uri": "https://localhost:8080/",
          "height": 610
        },
        "id": "KTCBKPsLbxT_",
        "outputId": "ff57abcf-4fb7-42a5-c418-3b31dfd7d86c"
      },
      "source": [
        "evaluate_model(history,X_val,y_val_cat,model)"
      ],
      "execution_count": null,
      "outputs": [
        {
          "output_type": "stream",
          "text": [
            "Accuracy: 97.73%\n",
            "<tensorflow.python.keras.callbacks.History object at 0x7fa7b027b1d0>\n"
          ],
          "name": "stdout"
        },
        {
          "output_type": "display_data",
          "data": {
            "image/png": "[encoded data removed]",
            "text/plain": [
              "<Figure size 432x288 with 1 Axes>"
            ]
          },
          "metadata": {
            "tags": [],
            "needs_background": "light"
          }
        },
        {
          "output_type": "display_data",
          "data": {
            "image/png": "[encoded data removed]",
            "text/plain": [
              "<Figure size 432x288 with 1 Axes>"
            ]
          },
          "metadata": {
            "tags": [],
            "needs_background": "light"
          }
        }
      ]
    },
    {
      "cell_type": "code",
      "metadata": {
        "colab": {
          "base_uri": "https://localhost:8080/"
        },
        "id": "Tsm5skKlNOpL",
        "outputId": "a863be82-fbf9-45af-86f2-b77b18601faf"
      },
      "source": [
        "y_pred=model.predict(X_test_new)\n",
        "y_pred"
      ],
      "execution_count": null,
      "outputs": [
        {
          "output_type": "execute_result",
          "data": {
            "text/plain": [
              "array([[1.0000000e+00, 4.0708361e-08],\n",
              "       [4.1722316e-05, 9.9995828e-01],\n",
              "       [3.1495125e-05, 9.9996853e-01],\n",
              "       ...,\n",
              "       [9.9996734e-01, 3.2695563e-05],\n",
              "       [8.7739289e-02, 9.1226077e-01],\n",
              "       [1.6658873e-13, 1.0000000e+00]], dtype=float32)"
            ]
          },
          "metadata": {
            "tags": []
          },
          "execution_count": 31
        }
      ]
    },
    {
      "cell_type": "code",
      "metadata": {
        "colab": {
          "base_uri": "https://localhost:8080/"
        },
        "id": "wIsLMU-TkK0p",
        "outputId": "c5f7321f-42ec-4621-bdd3-dc8f50b13125"
      },
      "source": [
        "y_test_cat"
      ],
      "execution_count": null,
      "outputs": [
        {
          "output_type": "execute_result",
          "data": {
            "text/plain": [
              "array([[1., 0.],\n",
              "       [0., 1.],\n",
              "       [0., 1.],\n",
              "       ...,\n",
              "       [1., 0.],\n",
              "       [0., 1.],\n",
              "       [0., 1.]], dtype=float32)"
            ]
          },
          "metadata": {
            "tags": []
          },
          "execution_count": 32
        }
      ]
    },
    {
      "cell_type": "code",
      "metadata": {
        "colab": {
          "base_uri": "https://localhost:8080/"
        },
        "id": "CS6uUUGGyEyE",
        "outputId": "34a35484-ea10-4b1c-89e6-944770dd5de9"
      },
      "source": [
        "y_check = y_test_cat.argmax(axis=1)\n",
        "np.count_nonzero(y_check == 1)"
      ],
      "execution_count": null,
      "outputs": [
        {
          "output_type": "execute_result",
          "data": {
            "text/plain": [
              "1051"
            ]
          },
          "metadata": {
            "tags": []
          },
          "execution_count": 33
        }
      ]
    },
    {
      "cell_type": "code",
      "metadata": {
        "id": "-U_Sb3RYbxQ5"
      },
      "source": [
        "#\n",
        "import itertools\n",
        "def plot_confusion_matrix(cm, classes,\n",
        "                          normalize=False,\n",
        "                          title='Confusion matrix',\n",
        "                          cmap=plt.cm.Blues):\n",
        "    \"\"\"\n",
        "    This function prints and plots the confusion matrix.\n",
        "    Normalization can be applied by setting `normalize=True`.\n",
        "    \"\"\"\n",
        "    if normalize:\n",
        "        cm = cm.astype('float') / cm.sum(axis=1)[:, np.newaxis]\n",
        "        print(\"Normalized confusion matrix\")\n",
        "    else:\n",
        "        print('Confusion matrix, without normalization')\n",
        "\n",
        "    plt.imshow(cm, interpolation='nearest', cmap=cmap)\n",
        "    plt.title(title)\n",
        "    plt.colorbar()\n",
        "    tick_marks = np.arange(len(classes))\n",
        "    plt.xticks(tick_marks, classes, rotation=0)\n",
        "    plt.yticks(tick_marks, classes, rotation=90)\n",
        "\n",
        "    fmt = '.2f' if normalize else 'd'\n",
        "    thresh = cm.max() / 2.\n",
        "    for i, j in itertools.product(range(cm.shape[0]), range(cm.shape[1])):\n",
        "        plt.text(j, i, format(cm[i, j], fmt),\n",
        "                 horizontalalignment=\"center\",\n",
        "                 color=\"white\" if cm[i, j] > thresh else \"black\")\n",
        "\n",
        "    plt.tight_layout()\n",
        "    plt.ylabel('True label')\n",
        "    plt.xlabel('Predicted label')"
      ],
      "execution_count": null,
      "outputs": []
    },
    {
      "cell_type": "code",
      "metadata": {
        "id": "mIPGRA3dbxK7",
        "colab": {
          "base_uri": "https://localhost:8080/",
          "height": 387
        },
        "outputId": "17bf9be9-a5c6-4285-aa25-ca42ee9b6187"
      },
      "source": [
        "# Compute confusion matrix\n",
        "cnf_matrix = confusion_matrix(y_test_cat.argmax(axis=1), y_pred.argmax(axis=1))\n",
        "np.set_printoptions(precision=2)\n",
        "\n",
        "# Plot non-normalized confusion matrix\n",
        "plt.figure(figsize=(5, 5))\n",
        "plot_confusion_matrix(cnf_matrix, classes=['Normal', 'MI'],normalize=True,\n",
        "                      title='Confusion matrix, with normalization')\n",
        "plt.show()"
      ],
      "execution_count": null,
      "outputs": [
        {
          "output_type": "stream",
          "text": [
            "Normalized confusion matrix\n"
          ],
          "name": "stdout"
        },
        {
          "output_type": "display_data",
          "data": {
            "image/png": "[encoded data removed]",
            "text/plain": [
              "<Figure size 360x360 with 2 Axes>"
            ]
          },
          "metadata": {
            "tags": [],
            "needs_background": "light"
          }
        }
      ]
    },
    {
      "cell_type": "code",
      "metadata": {
        "id": "5qJeekiKbxH0",
        "colab": {
          "base_uri": "https://localhost:8080/"
        },
        "outputId": "479694db-96b8-4955-9f4c-cfdac7fe4b9f"
      },
      "source": [
        "target_names = ['Normal', 'MI']\n",
        "print(classification_report(y_test_cat.argmax(axis=1), y_pred.argmax(axis=1),target_names=target_names))"
      ],
      "execution_count": null,
      "outputs": [
        {
          "output_type": "stream",
          "text": [
            "              precision    recall  f1-score   support\n",
            "\n",
            "      Normal       0.97      0.99      0.98       405\n",
            "          MI       0.99      0.99      0.99      1051\n",
            "\n",
            "    accuracy                           0.99      1456\n",
            "   macro avg       0.98      0.99      0.98      1456\n",
            "weighted avg       0.99      0.99      0.99      1456\n",
            "\n"
          ],
          "name": "stdout"
        }
      ]
    },
    {
      "cell_type": "code",
      "metadata": {
        "id": "G6Ck03QIbxEY"
      },
      "source": [
        ""
      ],
      "execution_count": null,
      "outputs": []
    },
    {
      "cell_type": "code",
      "metadata": {
        "id": "doDB1q0AX2vy"
      },
      "source": [
        ""
      ],
      "execution_count": null,
      "outputs": []
    },
    {
      "cell_type": "markdown",
      "metadata": {
        "id": "H4ThMFiXxJNl"
      },
      "source": [
        "# Clean CNN Model"
      ]
    },
    {
      "cell_type": "code",
      "metadata": {
        "id": "yGSIcEXuX2sG"
      },
      "source": [
        "def network(X_train,y_train,X_test,y_test):\n",
        "    \n",
        "\n",
        "    im_shape=(X_train.shape[1],1)\n",
        "    inputs_cnn=Input(shape=(im_shape), name='inputs_lstm')\n",
        "    conv1_1=Convolution1D(64, (6), activation='relu', input_shape=im_shape)(inputs_cnn)\n",
        "    pool1=MaxPool1D(pool_size=(3), strides=(2), padding=\"same\")(conv1_1)\n",
        "    conv2_1=Convolution1D(64, (3), activation='relu', input_shape=im_shape)(pool1)\n",
        "    pool2=MaxPool1D(pool_size=(2), strides=(2), padding=\"same\")(conv2_1)\n",
        "    flatten=Flatten()(pool2)\n",
        "    dense_end2 = Dense(32, activation='relu')(flatten)\n",
        "    main_output = Dense(2, activation='softmax', name='main_output')(dense_end2)\n",
        "    \n",
        "    model = Model(inputs= inputs_cnn, outputs=main_output)\n",
        "    model.compile(optimizer='adam', loss='categorical_crossentropy',metrics = ['accuracy'])\n",
        "        \n",
        "    callbacks = [EarlyStopping(monitor='val_loss', patience=10),\n",
        "                 ModelCheckpoint(filepath='best_model.h5', monitor='val_loss', save_best_only=True)]\n",
        "\n",
        "    history=model.fit(X_train, y_train, \n",
        "                      epochs=40,\n",
        "                      callbacks=callbacks, \n",
        "                      batch_size=32,\n",
        "                      validation_data=(X_test,y_test))\n",
        "    model.load_weights('best_model.h5')\n",
        "    return(model,history)"
      ],
      "execution_count": null,
      "outputs": []
    },
    {
      "cell_type": "code",
      "metadata": {
        "id": "jjzoZs1IX2oP"
      },
      "source": [
        ""
      ],
      "execution_count": null,
      "outputs": []
    },
    {
      "cell_type": "code",
      "metadata": {
        "id": "fGcbfLs_X2VV"
      },
      "source": [
        ""
      ],
      "execution_count": null,
      "outputs": []
    },
    {
      "cell_type": "code",
      "metadata": {
        "id": "wYdXppFPQW4M"
      },
      "source": [
        ""
      ],
      "execution_count": null,
      "outputs": []
    }
  ]
}