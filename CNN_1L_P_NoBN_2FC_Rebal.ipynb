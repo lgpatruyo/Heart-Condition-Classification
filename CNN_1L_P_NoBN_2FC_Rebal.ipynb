{
  "nbformat": 4,
  "nbformat_minor": 0,
  "metadata": {
    "colab": {
      "name": "CNN_1L_P_NoBN_2FC_Rebal",
      "provenance": [],
      "collapsed_sections": [],
      "toc_visible": true,
      "mount_file_id": "1ODcMfkZ5iHKVy7ig3EnJqn7zXlWLwU46",
      "authorship_tag": "ABX9TyOmW5I+bJvsmvX21M40h0H5",
      "include_colab_link": true
    },
    "kernelspec": {
      "name": "python3",
      "display_name": "Python 3"
    }
  },
  "cells": [
    {
      "cell_type": "markdown",
      "metadata": {
        "id": "view-in-github",
        "colab_type": "text"
      },
      "source": [
        "<a href=\"https://colab.research.google.com/github/lgpatruyo/Heart-Condition-Classification/blob/main/CNN_1L_P_NoBN_2FC_Rebal.ipynb\" target=\"_parent\"><img src=\"https://colab.research.google.com/assets/colab-badge.svg\" alt=\"Open In Colab\"/></a>"
      ]
    },
    {
      "cell_type": "code",
      "metadata": {
        "colab": {
          "base_uri": "https://localhost:8080/"
        },
        "id": "uSCwZ7ejf4MQ",
        "outputId": "1815ac63-78bb-4cff-983a-0811b7493f43"
      },
      "source": [
        "from google.colab import drive\n",
        "drive.mount('/content/drive')"
      ],
      "execution_count": 1,
      "outputs": [
        {
          "output_type": "stream",
          "text": [
            "Mounted at /content/drive\n"
          ],
          "name": "stdout"
        }
      ]
    },
    {
      "cell_type": "code",
      "metadata": {
        "id": "WUzkDbd-Ydr6"
      },
      "source": [
        ""
      ],
      "execution_count": 1,
      "outputs": []
    },
    {
      "cell_type": "markdown",
      "metadata": {
        "id": "mOzsosXnagSl"
      },
      "source": [
        "# Modules"
      ]
    },
    {
      "cell_type": "code",
      "metadata": {
        "id": "N4PKyiR5EPf0"
      },
      "source": [
        "from keras.layers import Dense, Convolution1D, MaxPool1D, Flatten, Dropout\r\n",
        "from keras.layers import Input\r\n",
        "from keras.models import Model\r\n",
        "from keras.layers.normalization import BatchNormalization\r\n",
        "import keras\r\n",
        "from keras.callbacks import EarlyStopping, ModelCheckpoint\r\n",
        "from keras.utils.np_utils import to_categorical"
      ],
      "execution_count": 2,
      "outputs": []
    },
    {
      "cell_type": "code",
      "metadata": {
        "id": "1xIIfdtAgwkD"
      },
      "source": [
        "# Modules\r\n",
        "import pandas as pd\r\n",
        "import numpy as np\r\n",
        "from sklearn.model_selection import train_test_split\r\n",
        "# Importing metrics\r\n",
        "from sklearn.metrics import mean_squared_error\r\n",
        "from sklearn.metrics import accuracy_score\r\n",
        "from sklearn.metrics import confusion_matrix\r\n",
        "from sklearn.metrics import plot_confusion_matrix\r\n",
        "from sklearn.metrics import classification_report\r\n",
        "from sklearn.preprocessing import MinMaxScaler\r\n",
        "\r\n",
        "import plotly.express as px\r\n",
        "import matplotlib.pyplot as plt\r\n",
        "%matplotlib inline\r\n"
      ],
      "execution_count": 3,
      "outputs": []
    },
    {
      "cell_type": "markdown",
      "metadata": {
        "id": "VcV6nVuvacg3"
      },
      "source": [
        "# Collecting Data"
      ]
    },
    {
      "cell_type": "code",
      "metadata": {
        "id": "q6VA2M8pQMVY"
      },
      "source": [
        ""
      ],
      "execution_count": 3,
      "outputs": []
    },
    {
      "cell_type": "code",
      "metadata": {
        "id": "ow0bzciYLW0j"
      },
      "source": [
        "# IMPORTING DATA WITH NO HEART CONDITION (NORMAL) FROM MY DRIVE\r\n",
        "df_normal = pd.read_csv('/content/drive/MyDrive/Colab Notebooks/Final_Project/Data/ptbdb_normal.csv', header=None)"
      ],
      "execution_count": 4,
      "outputs": []
    },
    {
      "cell_type": "code",
      "metadata": {
        "id": "CPGFxLDGN9xV"
      },
      "source": [
        "# IMPORTING DATA WITH HEART CONDITION (ABNORMAL) FROM MY DRIVE\r\n",
        "df_abnormal = pd.read_csv('/content/drive/MyDrive/Colab Notebooks/Final_Project/Data/ptbdb_abnormal.csv', header=None)"
      ],
      "execution_count": 5,
      "outputs": []
    },
    {
      "cell_type": "code",
      "metadata": {
        "colab": {
          "base_uri": "https://localhost:8080/",
          "height": 161
        },
        "id": "1iHKH0hJROKR",
        "outputId": "d3ddf66a-8dec-4a0e-a2c8-2357bfd8ee5e"
      },
      "source": [
        "df_abnormal.head(2)"
      ],
      "execution_count": 6,
      "outputs": [
        {
          "output_type": "execute_result",
          "data": {
            "text/html": [
              "<div>\n",
              "<style scoped>\n",
              "    .dataframe tbody tr th:only-of-type {\n",
              "        vertical-align: middle;\n",
              "    }\n",
              "\n",
              "    .dataframe tbody tr th {\n",
              "        vertical-align: top;\n",
              "    }\n",
              "\n",
              "    .dataframe thead th {\n",
              "        text-align: right;\n",
              "    }\n",
              "</style>\n",
              "<table border=\"1\" class=\"dataframe\">\n",
              "  <thead>\n",
              "    <tr style=\"text-align: right;\">\n",
              "      <th></th>\n",
              "      <th>0</th>\n",
              "      <th>1</th>\n",
              "      <th>2</th>\n",
              "      <th>3</th>\n",
              "      <th>4</th>\n",
              "      <th>5</th>\n",
              "      <th>6</th>\n",
              "      <th>7</th>\n",
              "      <th>8</th>\n",
              "      <th>9</th>\n",
              "      <th>10</th>\n",
              "      <th>11</th>\n",
              "      <th>12</th>\n",
              "      <th>13</th>\n",
              "      <th>14</th>\n",
              "      <th>15</th>\n",
              "      <th>16</th>\n",
              "      <th>17</th>\n",
              "      <th>18</th>\n",
              "      <th>19</th>\n",
              "      <th>20</th>\n",
              "      <th>21</th>\n",
              "      <th>22</th>\n",
              "      <th>23</th>\n",
              "      <th>24</th>\n",
              "      <th>25</th>\n",
              "      <th>26</th>\n",
              "      <th>27</th>\n",
              "      <th>28</th>\n",
              "      <th>29</th>\n",
              "      <th>30</th>\n",
              "      <th>31</th>\n",
              "      <th>32</th>\n",
              "      <th>33</th>\n",
              "      <th>34</th>\n",
              "      <th>35</th>\n",
              "      <th>36</th>\n",
              "      <th>37</th>\n",
              "      <th>38</th>\n",
              "      <th>39</th>\n",
              "      <th>...</th>\n",
              "      <th>148</th>\n",
              "      <th>149</th>\n",
              "      <th>150</th>\n",
              "      <th>151</th>\n",
              "      <th>152</th>\n",
              "      <th>153</th>\n",
              "      <th>154</th>\n",
              "      <th>155</th>\n",
              "      <th>156</th>\n",
              "      <th>157</th>\n",
              "      <th>158</th>\n",
              "      <th>159</th>\n",
              "      <th>160</th>\n",
              "      <th>161</th>\n",
              "      <th>162</th>\n",
              "      <th>163</th>\n",
              "      <th>164</th>\n",
              "      <th>165</th>\n",
              "      <th>166</th>\n",
              "      <th>167</th>\n",
              "      <th>168</th>\n",
              "      <th>169</th>\n",
              "      <th>170</th>\n",
              "      <th>171</th>\n",
              "      <th>172</th>\n",
              "      <th>173</th>\n",
              "      <th>174</th>\n",
              "      <th>175</th>\n",
              "      <th>176</th>\n",
              "      <th>177</th>\n",
              "      <th>178</th>\n",
              "      <th>179</th>\n",
              "      <th>180</th>\n",
              "      <th>181</th>\n",
              "      <th>182</th>\n",
              "      <th>183</th>\n",
              "      <th>184</th>\n",
              "      <th>185</th>\n",
              "      <th>186</th>\n",
              "      <th>187</th>\n",
              "    </tr>\n",
              "  </thead>\n",
              "  <tbody>\n",
              "    <tr>\n",
              "      <th>0</th>\n",
              "      <td>0.932233</td>\n",
              "      <td>0.869679</td>\n",
              "      <td>0.886186</td>\n",
              "      <td>0.929626</td>\n",
              "      <td>0.908775</td>\n",
              "      <td>0.933970</td>\n",
              "      <td>0.801043</td>\n",
              "      <td>0.749783</td>\n",
              "      <td>0.687229</td>\n",
              "      <td>0.635100</td>\n",
              "      <td>0.649870</td>\n",
              "      <td>0.635100</td>\n",
              "      <td>0.655083</td>\n",
              "      <td>0.664639</td>\n",
              "      <td>0.633362</td>\n",
              "      <td>0.746308</td>\n",
              "      <td>0.871416</td>\n",
              "      <td>0.938314</td>\n",
              "      <td>1.000000</td>\n",
              "      <td>0.948740</td>\n",
              "      <td>0.396177</td>\n",
              "      <td>0.000000</td>\n",
              "      <td>0.039096</td>\n",
              "      <td>0.128584</td>\n",
              "      <td>0.305821</td>\n",
              "      <td>0.640313</td>\n",
              "      <td>0.617724</td>\n",
              "      <td>0.537793</td>\n",
              "      <td>0.352737</td>\n",
              "      <td>0.220678</td>\n",
              "      <td>0.256299</td>\n",
              "      <td>0.357950</td>\n",
              "      <td>0.482189</td>\n",
              "      <td>0.570808</td>\n",
              "      <td>0.577758</td>\n",
              "      <td>0.620330</td>\n",
              "      <td>0.622068</td>\n",
              "      <td>0.618593</td>\n",
              "      <td>0.626412</td>\n",
              "      <td>0.612511</td>\n",
              "      <td>...</td>\n",
              "      <td>0.0</td>\n",
              "      <td>0.0</td>\n",
              "      <td>0.0</td>\n",
              "      <td>0.0</td>\n",
              "      <td>0.0</td>\n",
              "      <td>0.0</td>\n",
              "      <td>0.0</td>\n",
              "      <td>0.0</td>\n",
              "      <td>0.0</td>\n",
              "      <td>0.0</td>\n",
              "      <td>0.0</td>\n",
              "      <td>0.0</td>\n",
              "      <td>0.0</td>\n",
              "      <td>0.0</td>\n",
              "      <td>0.0</td>\n",
              "      <td>0.0</td>\n",
              "      <td>0.0</td>\n",
              "      <td>0.0</td>\n",
              "      <td>0.0</td>\n",
              "      <td>0.0</td>\n",
              "      <td>0.0</td>\n",
              "      <td>0.0</td>\n",
              "      <td>0.0</td>\n",
              "      <td>0.0</td>\n",
              "      <td>0.0</td>\n",
              "      <td>0.0</td>\n",
              "      <td>0.0</td>\n",
              "      <td>0.0</td>\n",
              "      <td>0.0</td>\n",
              "      <td>0.0</td>\n",
              "      <td>0.0</td>\n",
              "      <td>0.0</td>\n",
              "      <td>0.0</td>\n",
              "      <td>0.0</td>\n",
              "      <td>0.0</td>\n",
              "      <td>0.0</td>\n",
              "      <td>0.0</td>\n",
              "      <td>0.0</td>\n",
              "      <td>0.0</td>\n",
              "      <td>1.0</td>\n",
              "    </tr>\n",
              "    <tr>\n",
              "      <th>1</th>\n",
              "      <td>1.000000</td>\n",
              "      <td>0.606941</td>\n",
              "      <td>0.384181</td>\n",
              "      <td>0.254237</td>\n",
              "      <td>0.223567</td>\n",
              "      <td>0.276836</td>\n",
              "      <td>0.253430</td>\n",
              "      <td>0.184826</td>\n",
              "      <td>0.153349</td>\n",
              "      <td>0.121872</td>\n",
              "      <td>0.125101</td>\n",
              "      <td>0.129136</td>\n",
              "      <td>0.137207</td>\n",
              "      <td>0.137207</td>\n",
              "      <td>0.132365</td>\n",
              "      <td>0.126715</td>\n",
              "      <td>0.158192</td>\n",
              "      <td>0.152542</td>\n",
              "      <td>0.132365</td>\n",
              "      <td>0.168684</td>\n",
              "      <td>0.156578</td>\n",
              "      <td>0.183212</td>\n",
              "      <td>0.191283</td>\n",
              "      <td>0.204197</td>\n",
              "      <td>0.230024</td>\n",
              "      <td>0.244552</td>\n",
              "      <td>0.285714</td>\n",
              "      <td>0.307506</td>\n",
              "      <td>0.321227</td>\n",
              "      <td>0.327684</td>\n",
              "      <td>0.351897</td>\n",
              "      <td>0.373688</td>\n",
              "      <td>0.397094</td>\n",
              "      <td>0.363196</td>\n",
              "      <td>0.340597</td>\n",
              "      <td>0.307506</td>\n",
              "      <td>0.258273</td>\n",
              "      <td>0.197740</td>\n",
              "      <td>0.199354</td>\n",
              "      <td>0.173527</td>\n",
              "      <td>...</td>\n",
              "      <td>0.0</td>\n",
              "      <td>0.0</td>\n",
              "      <td>0.0</td>\n",
              "      <td>0.0</td>\n",
              "      <td>0.0</td>\n",
              "      <td>0.0</td>\n",
              "      <td>0.0</td>\n",
              "      <td>0.0</td>\n",
              "      <td>0.0</td>\n",
              "      <td>0.0</td>\n",
              "      <td>0.0</td>\n",
              "      <td>0.0</td>\n",
              "      <td>0.0</td>\n",
              "      <td>0.0</td>\n",
              "      <td>0.0</td>\n",
              "      <td>0.0</td>\n",
              "      <td>0.0</td>\n",
              "      <td>0.0</td>\n",
              "      <td>0.0</td>\n",
              "      <td>0.0</td>\n",
              "      <td>0.0</td>\n",
              "      <td>0.0</td>\n",
              "      <td>0.0</td>\n",
              "      <td>0.0</td>\n",
              "      <td>0.0</td>\n",
              "      <td>0.0</td>\n",
              "      <td>0.0</td>\n",
              "      <td>0.0</td>\n",
              "      <td>0.0</td>\n",
              "      <td>0.0</td>\n",
              "      <td>0.0</td>\n",
              "      <td>0.0</td>\n",
              "      <td>0.0</td>\n",
              "      <td>0.0</td>\n",
              "      <td>0.0</td>\n",
              "      <td>0.0</td>\n",
              "      <td>0.0</td>\n",
              "      <td>0.0</td>\n",
              "      <td>0.0</td>\n",
              "      <td>1.0</td>\n",
              "    </tr>\n",
              "  </tbody>\n",
              "</table>\n",
              "<p>2 rows × 188 columns</p>\n",
              "</div>"
            ],
            "text/plain": [
              "        0         1         2         3         4    ...  183  184  185  186  187\n",
              "0  0.932233  0.869679  0.886186  0.929626  0.908775  ...  0.0  0.0  0.0  0.0  1.0\n",
              "1  1.000000  0.606941  0.384181  0.254237  0.223567  ...  0.0  0.0  0.0  0.0  1.0\n",
              "\n",
              "[2 rows x 188 columns]"
            ]
          },
          "metadata": {
            "tags": []
          },
          "execution_count": 6
        }
      ]
    },
    {
      "cell_type": "code",
      "metadata": {
        "id": "HPrNBuUCPCl4"
      },
      "source": [
        "df = pd.concat([df_normal, df_abnormal], axis=0, ignore_index=True)"
      ],
      "execution_count": 7,
      "outputs": []
    },
    {
      "cell_type": "code",
      "metadata": {
        "id": "lnHCm5VBTjv7"
      },
      "source": [
        "X_data = df.loc[:,:186]\r\n",
        "y_data = df.loc[:,187]"
      ],
      "execution_count": 8,
      "outputs": []
    },
    {
      "cell_type": "markdown",
      "metadata": {
        "id": "JygEZoLBQZ2F"
      },
      "source": [
        "# Preliminary ECG Visuals"
      ]
    },
    {
      "cell_type": "code",
      "metadata": {
        "colab": {
          "base_uri": "https://localhost:8080/",
          "height": 284
        },
        "id": "bJH6heD8QUzG",
        "outputId": "4e22a15e-bf7d-4c6c-eb20-fe43b07dcee3"
      },
      "source": [
        "#Normal ECG\r\n",
        "plt.plot(X_data.loc[100,:])"
      ],
      "execution_count": 9,
      "outputs": [
        {
          "output_type": "execute_result",
          "data": {
            "text/plain": [
              "[<matplotlib.lines.Line2D at 0x7fbf2ca79bd0>]"
            ]
          },
          "metadata": {
            "tags": []
          },
          "execution_count": 9
        },
        {
          "output_type": "display_data",
          "data": {
            "image/png": "[encoded data removed]",
            "text/plain": [
              "<Figure size 432x288 with 1 Axes>"
            ]
          },
          "metadata": {
            "tags": [],
            "needs_background": "light"
          }
        }
      ]
    },
    {
      "cell_type": "code",
      "metadata": {
        "colab": {
          "base_uri": "https://localhost:8080/",
          "height": 284
        },
        "id": "2aTzDvYnQWmn",
        "outputId": "cda4f560-e7ae-4b21-9470-07d594dce841"
      },
      "source": [
        "#Abnormal ECG\r\n",
        "plt.plot(X_data.loc[6000,:])"
      ],
      "execution_count": 10,
      "outputs": [
        {
          "output_type": "execute_result",
          "data": {
            "text/plain": [
              "[<matplotlib.lines.Line2D at 0x7fbf2c4abb10>]"
            ]
          },
          "metadata": {
            "tags": []
          },
          "execution_count": 10
        },
        {
          "output_type": "display_data",
          "data": {
            "image/png": "[encoded data removed]",
            "text/plain": [
              "<Figure size 432x288 with 1 Axes>"
            ]
          },
          "metadata": {
            "tags": [],
            "needs_background": "light"
          }
        }
      ]
    },
    {
      "cell_type": "code",
      "metadata": {
        "colab": {
          "base_uri": "https://localhost:8080/"
        },
        "id": "u3sXD_e_X21r",
        "outputId": "efa5ca7f-bfa9-41a2-d00c-c629cec26ede"
      },
      "source": [
        "y_data.value_counts()"
      ],
      "execution_count": 11,
      "outputs": [
        {
          "output_type": "execute_result",
          "data": {
            "text/plain": [
              "1.0    10506\n",
              "0.0     4046\n",
              "Name: 187, dtype: int64"
            ]
          },
          "metadata": {
            "tags": []
          },
          "execution_count": 11
        }
      ]
    },
    {
      "cell_type": "code",
      "metadata": {
        "id": "kjdg36t8X2zG"
      },
      "source": [
        ""
      ],
      "execution_count": 11,
      "outputs": []
    },
    {
      "cell_type": "markdown",
      "metadata": {
        "id": "dsWSixt3EzEC"
      },
      "source": [
        "# Splitting Data & Setting \"y\" Categorical"
      ]
    },
    {
      "cell_type": "code",
      "metadata": {
        "id": "zhCQDxuAE3CW"
      },
      "source": [
        "dfX_train, dfX_test, y_train, y_test = train_test_split(X_data, y_data, shuffle=True, train_size=0.8, random_state = 42)"
      ],
      "execution_count": 12,
      "outputs": []
    },
    {
      "cell_type": "code",
      "metadata": {
        "colab": {
          "base_uri": "https://localhost:8080/"
        },
        "id": "yphFzHMEk2SX",
        "outputId": "a459c3a2-99ba-4be9-8caf-a0a5976fca43"
      },
      "source": [
        "y_test"
      ],
      "execution_count": 13,
      "outputs": [
        {
          "output_type": "execute_result",
          "data": {
            "text/plain": [
              "2069     0.0\n",
              "6174     1.0\n",
              "11676    1.0\n",
              "5407     1.0\n",
              "11090    1.0\n",
              "        ... \n",
              "12476    1.0\n",
              "11461    1.0\n",
              "11360    1.0\n",
              "3958     0.0\n",
              "5440     1.0\n",
              "Name: 187, Length: 2911, dtype: float64"
            ]
          },
          "metadata": {
            "tags": []
          },
          "execution_count": 13
        }
      ]
    },
    {
      "cell_type": "code",
      "metadata": {
        "id": "w6kSG4x4Q1i-"
      },
      "source": [
        "#Preparing the train dataset including \"y\" before balancing the classes.\r\n",
        "df_train = pd.concat([dfX_train, pd.Series(y_train)], axis=1)"
      ],
      "execution_count": 14,
      "outputs": []
    },
    {
      "cell_type": "code",
      "metadata": {
        "colab": {
          "base_uri": "https://localhost:8080/"
        },
        "id": "muhny-FFQ_7M",
        "outputId": "686541df-f06d-44f8-c896-8b05efd4fd8a"
      },
      "source": [
        "df_train[187].value_counts()"
      ],
      "execution_count": 15,
      "outputs": [
        {
          "output_type": "execute_result",
          "data": {
            "text/plain": [
              "1.0    8429\n",
              "0.0    3212\n",
              "Name: 187, dtype: int64"
            ]
          },
          "metadata": {
            "tags": []
          },
          "execution_count": 15
        }
      ]
    },
    {
      "cell_type": "markdown",
      "metadata": {
        "id": "ejQF69a9RBue"
      },
      "source": [
        "# Balancing Classes in Train Set"
      ]
    },
    {
      "cell_type": "code",
      "metadata": {
        "id": "ZxEeGiRjRHEt"
      },
      "source": [
        "from sklearn.utils import resample\r\n",
        "\r\n",
        "df_0=(df_train[df_train[187]==0])\r\n",
        "df_1=(df_train[df_train[187]==1]).sample(n=8400,random_state=42)\r\n",
        "\r\n",
        "#resampling minority class with replacement\r\n",
        "df_0_upsample=resample(df_0,replace=True,n_samples=8400,random_state=123)\r\n",
        "\r\n",
        "#balanced df\r\n",
        "df_train_balanced=pd.concat([df_0_upsample,df_1])\r\n",
        "\r\n",
        "#shuffling rows in balanced df\r\n",
        "df_train_shuffled=df_train_balanced.sample(frac=1).reset_index(drop=True)"
      ],
      "execution_count": 16,
      "outputs": []
    },
    {
      "cell_type": "code",
      "metadata": {
        "colab": {
          "base_uri": "https://localhost:8080/"
        },
        "id": "qpH8ovu6RG_O",
        "outputId": "7f2ec305-7b60-4c40-d41a-3b336e8ca893"
      },
      "source": [
        "df_train_shuffled[187].value_counts()"
      ],
      "execution_count": 17,
      "outputs": [
        {
          "output_type": "execute_result",
          "data": {
            "text/plain": [
              "1.0    8400\n",
              "0.0    8400\n",
              "Name: 187, dtype: int64"
            ]
          },
          "metadata": {
            "tags": []
          },
          "execution_count": 17
        }
      ]
    },
    {
      "cell_type": "code",
      "metadata": {
        "id": "6Ri8UVqSRG8X"
      },
      "source": [
        "X_train_proc = df_train_shuffled.iloc[:,:186]\r\n",
        "y_train_proc = df_train_shuffled.iloc[:,187]"
      ],
      "execution_count": 18,
      "outputs": []
    },
    {
      "cell_type": "code",
      "metadata": {
        "id": "dQvFImwkRG2m"
      },
      "source": [
        ""
      ],
      "execution_count": 18,
      "outputs": []
    },
    {
      "cell_type": "markdown",
      "metadata": {
        "id": "s2DHHBvFR7Ui"
      },
      "source": [
        "# Formatting Train and Test"
      ]
    },
    {
      "cell_type": "code",
      "metadata": {
        "id": "AGKgURZ6RGwD"
      },
      "source": [
        "#X_train_proc comes from rebalancing classes in train_set above\r\n",
        "X_train = X_train_proc.iloc[:,:186].values\r\n",
        "\r\n",
        "#dfx_test comes from splitting train/test section\r\n",
        "X_test = dfX_test.iloc[:,:186].values\r\n"
      ],
      "execution_count": 19,
      "outputs": []
    },
    {
      "cell_type": "code",
      "metadata": {
        "id": "p7YhF0IeQ_y6"
      },
      "source": [
        "X_train = X_train.reshape(len(X_train), X_train.shape[1],1)\r\n",
        "X_test = X_test.reshape(len(X_test), X_test.shape[1],1)"
      ],
      "execution_count": 20,
      "outputs": []
    },
    {
      "cell_type": "code",
      "metadata": {
        "id": "E2jad-VzS4GP"
      },
      "source": [
        "y_train_cat=to_categorical(y_train_proc)\r\n",
        "y_test_cat=to_categorical(y_test)"
      ],
      "execution_count": 21,
      "outputs": []
    },
    {
      "cell_type": "code",
      "metadata": {
        "id": "cilSPmsBS3zB"
      },
      "source": [
        ""
      ],
      "execution_count": 21,
      "outputs": []
    },
    {
      "cell_type": "markdown",
      "metadata": {
        "id": "xBfurHePbpod"
      },
      "source": [
        "# Convolutional NN"
      ]
    },
    {
      "cell_type": "markdown",
      "metadata": {
        "id": "H65kuvi-IeI3"
      },
      "source": [
        "# Network Definition\r\n",
        "\r\n",
        "\r\n",
        "\r\n",
        "\r\n",
        "\r\n"
      ]
    },
    {
      "cell_type": "code",
      "metadata": {
        "id": "JqkLMvokIbu5"
      },
      "source": [
        ""
      ],
      "execution_count": 21,
      "outputs": []
    },
    {
      "cell_type": "code",
      "metadata": {
        "id": "wQoIhs4BbxcL"
      },
      "source": [
        "def network(X_train,y_train,X_test,y_test):\r\n",
        "    \r\n",
        "\r\n",
        "    im_shape=(X_train.shape[1],1)\r\n",
        "    inputs_cnn=Input(shape=(im_shape), name='inputs_cnn')\r\n",
        "    conv1_1=Convolution1D(64, (6), activation='relu', input_shape=im_shape)(inputs_cnn)\r\n",
        "    #conv1_1=BatchNormalization()(conv1_1)\r\n",
        "    pool1=MaxPool1D(pool_size=(3), strides=(2), padding=\"same\")(conv1_1)\r\n",
        "    #conv2_1=Convolution1D(64, (3), activation='relu', input_shape=im_shape)(conv1_1)\r\n",
        "    #conv2_1=BatchNormalization()(conv2_1)\r\n",
        "    #pool2=MaxPool1D(pool_size=(2), strides=(2), padding=\"same\")(conv2_1)\r\n",
        "    #conv3_1=Convolution1D(64, (3), activation='relu', input_shape=im_shape)(pool2)\r\n",
        "    #conv3_1=BatchNormalization()(conv3_1)\r\n",
        "    #pool3=MaxPool1D(pool_size=(2), strides=(2), padding=\"same\")(conv3_1)\r\n",
        "    flatten=Flatten()(pool1)\r\n",
        "    #dense_end1 = Dense(64, activation='relu')(flatten)\r\n",
        "    dense_end2 = Dense(32, activation='relu')(flatten)\r\n",
        "    main_output = Dense(2, activation='softmax', name='main_output')(dense_end2)\r\n",
        "    \r\n",
        "    \r\n",
        "    model = Model(inputs= inputs_cnn, outputs=main_output)\r\n",
        "    model.compile(optimizer='adam', loss='categorical_crossentropy',metrics = ['accuracy'])\r\n",
        "    \r\n",
        "    \r\n",
        "    callbacks = [EarlyStopping(monitor='val_loss', patience=8),\r\n",
        "             ModelCheckpoint(filepath='best_model.h5', monitor='val_loss', save_best_only=True)]\r\n",
        "\r\n",
        "    history=model.fit(X_train, y_train, epochs=40,callbacks=callbacks, batch_size=32,validation_data=(X_test,y_test))\r\n",
        "    model.load_weights('best_model.h5')\r\n",
        "    return(model,history)"
      ],
      "execution_count": 22,
      "outputs": []
    },
    {
      "cell_type": "code",
      "metadata": {
        "colab": {
          "base_uri": "https://localhost:8080/"
        },
        "id": "kHHK7WIvbxWu",
        "outputId": "f6f8516e-f7fc-4783-f5b4-1ce480615c36"
      },
      "source": [
        "model,history=network(X_train,y_train_cat,X_test,y_test_cat)"
      ],
      "execution_count": 23,
      "outputs": [
        {
          "output_type": "stream",
          "text": [
            "Epoch 1/40\n",
            "525/525 [==============================] - 34s 3ms/step - loss: 0.4961 - accuracy: 0.7579 - val_loss: 0.3512 - val_accuracy: 0.8502\n",
            "Epoch 2/40\n",
            "525/525 [==============================] - 1s 3ms/step - loss: 0.3428 - accuracy: 0.8577 - val_loss: 0.3244 - val_accuracy: 0.8355\n",
            "Epoch 3/40\n",
            "525/525 [==============================] - 1s 3ms/step - loss: 0.2521 - accuracy: 0.9019 - val_loss: 0.2046 - val_accuracy: 0.9172\n",
            "Epoch 4/40\n",
            "525/525 [==============================] - 1s 3ms/step - loss: 0.2110 - accuracy: 0.9224 - val_loss: 0.1582 - val_accuracy: 0.9426\n",
            "Epoch 5/40\n",
            "525/525 [==============================] - 1s 3ms/step - loss: 0.1542 - accuracy: 0.9496 - val_loss: 0.1801 - val_accuracy: 0.9248\n",
            "Epoch 6/40\n",
            "525/525 [==============================] - 1s 3ms/step - loss: 0.1357 - accuracy: 0.9546 - val_loss: 0.1213 - val_accuracy: 0.9560\n",
            "Epoch 7/40\n",
            "525/525 [==============================] - 1s 3ms/step - loss: 0.1157 - accuracy: 0.9624 - val_loss: 0.1238 - val_accuracy: 0.9519\n",
            "Epoch 8/40\n",
            "525/525 [==============================] - 1s 3ms/step - loss: 0.1012 - accuracy: 0.9660 - val_loss: 0.1008 - val_accuracy: 0.9663\n",
            "Epoch 9/40\n",
            "525/525 [==============================] - 1s 3ms/step - loss: 0.0836 - accuracy: 0.9741 - val_loss: 0.0886 - val_accuracy: 0.9711\n",
            "Epoch 10/40\n",
            "525/525 [==============================] - 1s 3ms/step - loss: 0.0772 - accuracy: 0.9745 - val_loss: 0.0847 - val_accuracy: 0.9711\n",
            "Epoch 11/40\n",
            "525/525 [==============================] - 1s 3ms/step - loss: 0.0770 - accuracy: 0.9737 - val_loss: 0.1036 - val_accuracy: 0.9598\n",
            "Epoch 12/40\n",
            "525/525 [==============================] - 1s 3ms/step - loss: 0.0615 - accuracy: 0.9812 - val_loss: 0.1110 - val_accuracy: 0.9605\n",
            "Epoch 13/40\n",
            "525/525 [==============================] - 1s 3ms/step - loss: 0.0579 - accuracy: 0.9824 - val_loss: 0.0934 - val_accuracy: 0.9656\n",
            "Epoch 14/40\n",
            "525/525 [==============================] - 1s 3ms/step - loss: 0.0588 - accuracy: 0.9810 - val_loss: 0.0842 - val_accuracy: 0.9722\n",
            "Epoch 15/40\n",
            "525/525 [==============================] - 1s 3ms/step - loss: 0.0521 - accuracy: 0.9819 - val_loss: 0.0752 - val_accuracy: 0.9794\n",
            "Epoch 16/40\n",
            "525/525 [==============================] - 1s 3ms/step - loss: 0.0423 - accuracy: 0.9868 - val_loss: 0.0821 - val_accuracy: 0.9763\n",
            "Epoch 17/40\n",
            "525/525 [==============================] - 1s 3ms/step - loss: 0.0463 - accuracy: 0.9847 - val_loss: 0.0839 - val_accuracy: 0.9705\n",
            "Epoch 18/40\n",
            "525/525 [==============================] - 1s 3ms/step - loss: 0.0374 - accuracy: 0.9897 - val_loss: 0.0883 - val_accuracy: 0.9698\n",
            "Epoch 19/40\n",
            "525/525 [==============================] - 1s 3ms/step - loss: 0.0379 - accuracy: 0.9859 - val_loss: 0.0601 - val_accuracy: 0.9794\n",
            "Epoch 20/40\n",
            "525/525 [==============================] - 1s 3ms/step - loss: 0.0250 - accuracy: 0.9928 - val_loss: 0.0797 - val_accuracy: 0.9760\n",
            "Epoch 21/40\n",
            "525/525 [==============================] - 1s 3ms/step - loss: 0.0323 - accuracy: 0.9887 - val_loss: 0.0732 - val_accuracy: 0.9787\n",
            "Epoch 22/40\n",
            "525/525 [==============================] - 1s 3ms/step - loss: 0.0271 - accuracy: 0.9918 - val_loss: 0.0676 - val_accuracy: 0.9780\n",
            "Epoch 23/40\n",
            "525/525 [==============================] - 1s 3ms/step - loss: 0.0196 - accuracy: 0.9937 - val_loss: 0.0919 - val_accuracy: 0.9708\n",
            "Epoch 24/40\n",
            "525/525 [==============================] - 1s 3ms/step - loss: 0.0264 - accuracy: 0.9908 - val_loss: 0.0909 - val_accuracy: 0.9732\n",
            "Epoch 25/40\n",
            "525/525 [==============================] - 1s 3ms/step - loss: 0.0265 - accuracy: 0.9907 - val_loss: 0.0629 - val_accuracy: 0.9835\n",
            "Epoch 26/40\n",
            "525/525 [==============================] - 1s 3ms/step - loss: 0.0219 - accuracy: 0.9940 - val_loss: 0.0785 - val_accuracy: 0.9760\n",
            "Epoch 27/40\n",
            "525/525 [==============================] - 1s 3ms/step - loss: 0.0215 - accuracy: 0.9939 - val_loss: 0.1102 - val_accuracy: 0.9667\n"
          ],
          "name": "stdout"
        }
      ]
    },
    {
      "cell_type": "code",
      "metadata": {
        "id": "s-oHg2tVIY9V"
      },
      "source": [
        ""
      ],
      "execution_count": 23,
      "outputs": []
    },
    {
      "cell_type": "markdown",
      "metadata": {
        "id": "jfSluSUPIzso"
      },
      "source": [
        "# Model Evaluation"
      ]
    },
    {
      "cell_type": "code",
      "metadata": {
        "id": "RddXdQu1bxZh"
      },
      "source": [
        "def evaluate_model(history,X_test,y_test,model):\r\n",
        "    scores = model.evaluate((X_test),y_test, verbose=0)\r\n",
        "    print(\"Accuracy: %.2f%%\" % (scores[1]*100))\r\n",
        "    \r\n",
        "    print(history)\r\n",
        "    fig1, ax_acc = plt.subplots()\r\n",
        "    plt.plot(history.history['accuracy'])\r\n",
        "    plt.plot(history.history['val_accuracy'])\r\n",
        "    plt.xlabel('Epoch')\r\n",
        "    plt.ylabel('Accuracy')\r\n",
        "    plt.title('Model - Accuracy')\r\n",
        "    plt.legend(['Training', 'Validation'], loc='lower right')\r\n",
        "    plt.show()\r\n",
        "    \r\n",
        "    fig2, ax_loss = plt.subplots()\r\n",
        "    plt.xlabel('Epoch')\r\n",
        "    plt.ylabel('Loss')\r\n",
        "    plt.title('Model- Loss')\r\n",
        "    plt.legend(['Training', 'Validation'], loc='upper right')\r\n",
        "    plt.plot(history.history['loss'])\r\n",
        "    plt.plot(history.history['val_loss'])\r\n",
        "    plt.show()\r\n",
        "\r\n",
        "    #Luis: Changed from strings to integer\r\n",
        "    target_names=[0, 1]\r\n",
        "    \r\n",
        "    #y_true=[]\r\n",
        "    #for element in y_test:\r\n",
        "    #    y_true.append(np.argmax(element))\r\n",
        "    #prediction_proba=model.predict(X_test)\r\n",
        "    #prediction=np.argmax(prediction_proba,axis=1)\r\n",
        "    #cnf_matrix = confusion_matrix(y_true, prediction)\r\n",
        "    "
      ],
      "execution_count": 24,
      "outputs": []
    },
    {
      "cell_type": "code",
      "metadata": {
        "colab": {
          "base_uri": "https://localhost:8080/",
          "height": 610
        },
        "id": "KTCBKPsLbxT_",
        "outputId": "58eb4c31-0af2-4f0d-d159-48bb37ac3c33"
      },
      "source": [
        "evaluate_model(history,X_test,y_test_cat,model)"
      ],
      "execution_count": 25,
      "outputs": [
        {
          "output_type": "stream",
          "text": [
            "Accuracy: 97.94%\n",
            "<tensorflow.python.keras.callbacks.History object at 0x7fbf2054d7d0>\n"
          ],
          "name": "stdout"
        },
        {
          "output_type": "display_data",
          "data": {
            "image/png": "[encoded data removed]",
            "text/plain": [
              "<Figure size 432x288 with 1 Axes>"
            ]
          },
          "metadata": {
            "tags": [],
            "needs_background": "light"
          }
        },
        {
          "output_type": "display_data",
          "data": {
            "image/png": "[encoded data removed]",
            "text/plain": [
              "<Figure size 432x288 with 1 Axes>"
            ]
          },
          "metadata": {
            "tags": [],
            "needs_background": "light"
          }
        }
      ]
    },
    {
      "cell_type": "code",
      "metadata": {
        "id": "Tsm5skKlNOpL"
      },
      "source": [
        "y_pred=model.predict(X_test)\r\n",
        "#y_pred"
      ],
      "execution_count": null,
      "outputs": []
    },
    {
      "cell_type": "code",
      "metadata": {
        "id": "wIsLMU-TkK0p"
      },
      "source": [
        "#y_test"
      ],
      "execution_count": null,
      "outputs": []
    },
    {
      "cell_type": "code",
      "metadata": {
        "colab": {
          "base_uri": "https://localhost:8080/",
          "height": 387
        },
        "id": "-U_Sb3RYbxQ5",
        "outputId": "5bd3d8b8-a5be-4004-e6f2-6e786d2d558a"
      },
      "source": [
        "import itertools\r\n",
        "def plot_confusion_matrix(cm, classes,\r\n",
        "                          normalize=False,\r\n",
        "                          title='Confusion matrix',\r\n",
        "                          cmap=plt.cm.Blues):\r\n",
        "    \"\"\"\r\n",
        "    This function prints and plots the confusion matrix.\r\n",
        "    Normalization can be applied by setting `normalize=True`.\r\n",
        "    \"\"\"\r\n",
        "    if normalize:\r\n",
        "        cm = cm.astype('float') / cm.sum(axis=1)[:, np.newaxis]\r\n",
        "        print(\"Normalized confusion matrix\")\r\n",
        "    else:\r\n",
        "        print('Confusion matrix, without normalization')\r\n",
        "\r\n",
        "    plt.imshow(cm, interpolation='nearest', cmap=cmap)\r\n",
        "    plt.title(title)\r\n",
        "    plt.colorbar()\r\n",
        "    tick_marks = np.arange(len(classes))\r\n",
        "    plt.xticks(tick_marks, classes, rotation=45)\r\n",
        "    plt.yticks(tick_marks, classes)\r\n",
        "\r\n",
        "    fmt = '.2f' if normalize else 'd'\r\n",
        "    thresh = cm.max() / 2.\r\n",
        "    for i, j in itertools.product(range(cm.shape[0]), range(cm.shape[1])):\r\n",
        "        plt.text(j, i, format(cm[i, j], fmt),\r\n",
        "                 horizontalalignment=\"center\",\r\n",
        "                 color=\"white\" if cm[i, j] > thresh else \"black\")\r\n",
        "\r\n",
        "    plt.tight_layout()\r\n",
        "    plt.ylabel('True label')\r\n",
        "    plt.xlabel('Predicted label')\r\n",
        "\r\n",
        "# Compute confusion matrix\r\n",
        "cnf_matrix = confusion_matrix(y_test_cat.argmax(axis=1), y_pred.argmax(axis=1))\r\n",
        "np.set_printoptions(precision=2)\r\n",
        "\r\n",
        "# Plot non-normalized confusion matrix\r\n",
        "plt.figure(figsize=(5, 5))\r\n",
        "plot_confusion_matrix(cnf_matrix, classes=['No', 'Yes'],normalize=True,\r\n",
        "                      title='Confusion matrix, with normalization')\r\n",
        "plt.show()"
      ],
      "execution_count": null,
      "outputs": [
        {
          "output_type": "stream",
          "text": [
            "Normalized confusion matrix\n"
          ],
          "name": "stdout"
        },
        {
          "output_type": "display_data",
          "data": {
            "image/png": "[encoded data removed]",
            "text/plain": [
              "<Figure size 360x360 with 2 Axes>"
            ]
          },
          "metadata": {
            "tags": [],
            "needs_background": "light"
          }
        }
      ]
    },
    {
      "cell_type": "code",
      "metadata": {
        "id": "mIPGRA3dbxK7",
        "colab": {
          "base_uri": "https://localhost:8080/"
        },
        "outputId": "7d5fb539-6b34-4cc6-b5da-86ed1031ffbb"
      },
      "source": [
        "target_names = ['No', 'Yes']\r\n",
        "print(classification_report(y_test_cat.argmax(axis=1), y_pred.argmax(axis=1),target_names=target_names))"
      ],
      "execution_count": null,
      "outputs": [
        {
          "output_type": "stream",
          "text": [
            "              precision    recall  f1-score   support\n",
            "\n",
            "          No       0.95      0.96      0.96       834\n",
            "         Yes       0.98      0.98      0.98      2077\n",
            "\n",
            "    accuracy                           0.97      2911\n",
            "   macro avg       0.97      0.97      0.97      2911\n",
            "weighted avg       0.98      0.97      0.97      2911\n",
            "\n"
          ],
          "name": "stdout"
        }
      ]
    },
    {
      "cell_type": "code",
      "metadata": {
        "id": "5qJeekiKbxH0"
      },
      "source": [
        ""
      ],
      "execution_count": null,
      "outputs": []
    },
    {
      "cell_type": "code",
      "metadata": {
        "id": "yGSIcEXuX2sG"
      },
      "source": [
        ""
      ],
      "execution_count": null,
      "outputs": []
    },
    {
      "cell_type": "code",
      "metadata": {
        "id": "jjzoZs1IX2oP"
      },
      "source": [
        ""
      ],
      "execution_count": null,
      "outputs": []
    },
    {
      "cell_type": "code",
      "metadata": {
        "id": "fGcbfLs_X2VV"
      },
      "source": [
        ""
      ],
      "execution_count": null,
      "outputs": []
    },
    {
      "cell_type": "code",
      "metadata": {
        "id": "wYdXppFPQW4M"
      },
      "source": [
        ""
      ],
      "execution_count": null,
      "outputs": []
    }
  ]
}