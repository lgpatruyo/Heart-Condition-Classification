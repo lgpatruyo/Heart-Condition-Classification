{
  "nbformat": 4,
  "nbformat_minor": 0,
  "metadata": {
    "colab": {
      "name": "LSTM_2L_2FC_Reb_ValTest",
      "provenance": [],
      "collapsed_sections": [],
      "mount_file_id": "12q1f28KSWBMXvx6QrmszLqEB6s8sD1x5",
      "authorship_tag": "ABX9TyMLQ8R+1DdAotxLIBlhvcFK",
      "include_colab_link": true
    },
    "kernelspec": {
      "name": "python3",
      "display_name": "Python 3"
    }
  },
  "cells": [
    {
      "cell_type": "markdown",
      "metadata": {
        "id": "view-in-github",
        "colab_type": "text"
      },
      "source": [
        "<a href=\"https://colab.research.google.com/github/lgpatruyo/Heart-Condition-Classification/blob/main/LSTM_2L_2FC_Reb_ValTest.ipynb\" target=\"_parent\"><img src=\"https://colab.research.google.com/assets/colab-badge.svg\" alt=\"Open In Colab\"/></a>"
      ]
    },
    {
      "cell_type": "code",
      "metadata": {
        "colab": {
          "base_uri": "https://localhost:8080/"
        },
        "id": "uSCwZ7ejf4MQ",
        "outputId": "de269211-f965-465b-fe47-f7060e2c0cbb"
      },
      "source": [
        "from google.colab import drive\n",
        "drive.mount('/content/drive')"
      ],
      "execution_count": null,
      "outputs": [
        {
          "output_type": "stream",
          "text": [
            "Mounted at /content/drive\n"
          ],
          "name": "stdout"
        }
      ]
    },
    {
      "cell_type": "code",
      "metadata": {
        "id": "WUzkDbd-Ydr6"
      },
      "source": [
        ""
      ],
      "execution_count": null,
      "outputs": []
    },
    {
      "cell_type": "markdown",
      "metadata": {
        "id": "mOzsosXnagSl"
      },
      "source": [
        "# Modules"
      ]
    },
    {
      "cell_type": "code",
      "metadata": {
        "id": "N4PKyiR5EPf0"
      },
      "source": [
        "from keras.layers import Dense, Convolution1D, MaxPool1D, Flatten, Dropout, LSTM\n",
        "from keras.layers import Input\n",
        "from keras.models import Model\n",
        "from keras.layers.normalization import BatchNormalization\n",
        "import keras\n",
        "from keras.callbacks import EarlyStopping, ModelCheckpoint\n",
        "from keras.utils.np_utils import to_categorical"
      ],
      "execution_count": null,
      "outputs": []
    },
    {
      "cell_type": "code",
      "metadata": {
        "id": "1xIIfdtAgwkD"
      },
      "source": [
        "# Modules\n",
        "import pandas as pd\n",
        "import numpy as np\n",
        "from sklearn.model_selection import train_test_split\n",
        "# Importing metrics\n",
        "from sklearn.metrics import mean_squared_error\n",
        "from sklearn.metrics import accuracy_score\n",
        "from sklearn.metrics import confusion_matrix\n",
        "from sklearn.metrics import plot_confusion_matrix\n",
        "from sklearn.metrics import classification_report\n",
        "from sklearn.preprocessing import MinMaxScaler\n",
        "\n",
        "import plotly.express as px\n",
        "import matplotlib.pyplot as plt\n",
        "%matplotlib inline\n"
      ],
      "execution_count": null,
      "outputs": []
    },
    {
      "cell_type": "markdown",
      "metadata": {
        "id": "VcV6nVuvacg3"
      },
      "source": [
        "# Collecting Data"
      ]
    },
    {
      "cell_type": "code",
      "metadata": {
        "id": "q6VA2M8pQMVY"
      },
      "source": [
        ""
      ],
      "execution_count": null,
      "outputs": []
    },
    {
      "cell_type": "code",
      "metadata": {
        "id": "ow0bzciYLW0j"
      },
      "source": [
        "# IMPORTING DATA WITH NO HEART CONDITION (NORMAL) FROM MY DRIVE\n",
        "df_normal = pd.read_csv('/content/drive/MyDrive/Colab Notebooks/Final_Project/Data/ptbdb_normal.csv', header=None)"
      ],
      "execution_count": null,
      "outputs": []
    },
    {
      "cell_type": "code",
      "metadata": {
        "id": "CPGFxLDGN9xV"
      },
      "source": [
        "# IMPORTING DATA WITH HEART CONDITION (ABNORMAL) FROM MY DRIVE\n",
        "df_abnormal = pd.read_csv('/content/drive/MyDrive/Colab Notebooks/Final_Project/Data/ptbdb_abnormal.csv', header=None)"
      ],
      "execution_count": null,
      "outputs": []
    },
    {
      "cell_type": "code",
      "metadata": {
        "colab": {
          "base_uri": "https://localhost:8080/",
          "height": 161
        },
        "id": "1iHKH0hJROKR",
        "outputId": "fb5af130-eb03-433a-a115-08c2ce17d87a"
      },
      "source": [
        "df_abnormal.head(2)"
      ],
      "execution_count": null,
      "outputs": [
        {
          "output_type": "execute_result",
          "data": {
            "text/html": [
              "<div>\n",
              "<style scoped>\n",
              "    .dataframe tbody tr th:only-of-type {\n",
              "        vertical-align: middle;\n",
              "    }\n",
              "\n",
              "    .dataframe tbody tr th {\n",
              "        vertical-align: top;\n",
              "    }\n",
              "\n",
              "    .dataframe thead th {\n",
              "        text-align: right;\n",
              "    }\n",
              "</style>\n",
              "<table border=\"1\" class=\"dataframe\">\n",
              "  <thead>\n",
              "    <tr style=\"text-align: right;\">\n",
              "      <th></th>\n",
              "      <th>0</th>\n",
              "      <th>1</th>\n",
              "      <th>2</th>\n",
              "      <th>3</th>\n",
              "      <th>4</th>\n",
              "      <th>5</th>\n",
              "      <th>6</th>\n",
              "      <th>7</th>\n",
              "      <th>8</th>\n",
              "      <th>9</th>\n",
              "      <th>10</th>\n",
              "      <th>11</th>\n",
              "      <th>12</th>\n",
              "      <th>13</th>\n",
              "      <th>14</th>\n",
              "      <th>15</th>\n",
              "      <th>16</th>\n",
              "      <th>17</th>\n",
              "      <th>18</th>\n",
              "      <th>19</th>\n",
              "      <th>20</th>\n",
              "      <th>21</th>\n",
              "      <th>22</th>\n",
              "      <th>23</th>\n",
              "      <th>24</th>\n",
              "      <th>25</th>\n",
              "      <th>26</th>\n",
              "      <th>27</th>\n",
              "      <th>28</th>\n",
              "      <th>29</th>\n",
              "      <th>30</th>\n",
              "      <th>31</th>\n",
              "      <th>32</th>\n",
              "      <th>33</th>\n",
              "      <th>34</th>\n",
              "      <th>35</th>\n",
              "      <th>36</th>\n",
              "      <th>37</th>\n",
              "      <th>38</th>\n",
              "      <th>39</th>\n",
              "      <th>...</th>\n",
              "      <th>148</th>\n",
              "      <th>149</th>\n",
              "      <th>150</th>\n",
              "      <th>151</th>\n",
              "      <th>152</th>\n",
              "      <th>153</th>\n",
              "      <th>154</th>\n",
              "      <th>155</th>\n",
              "      <th>156</th>\n",
              "      <th>157</th>\n",
              "      <th>158</th>\n",
              "      <th>159</th>\n",
              "      <th>160</th>\n",
              "      <th>161</th>\n",
              "      <th>162</th>\n",
              "      <th>163</th>\n",
              "      <th>164</th>\n",
              "      <th>165</th>\n",
              "      <th>166</th>\n",
              "      <th>167</th>\n",
              "      <th>168</th>\n",
              "      <th>169</th>\n",
              "      <th>170</th>\n",
              "      <th>171</th>\n",
              "      <th>172</th>\n",
              "      <th>173</th>\n",
              "      <th>174</th>\n",
              "      <th>175</th>\n",
              "      <th>176</th>\n",
              "      <th>177</th>\n",
              "      <th>178</th>\n",
              "      <th>179</th>\n",
              "      <th>180</th>\n",
              "      <th>181</th>\n",
              "      <th>182</th>\n",
              "      <th>183</th>\n",
              "      <th>184</th>\n",
              "      <th>185</th>\n",
              "      <th>186</th>\n",
              "      <th>187</th>\n",
              "    </tr>\n",
              "  </thead>\n",
              "  <tbody>\n",
              "    <tr>\n",
              "      <th>0</th>\n",
              "      <td>0.932233</td>\n",
              "      <td>0.869679</td>\n",
              "      <td>0.886186</td>\n",
              "      <td>0.929626</td>\n",
              "      <td>0.908775</td>\n",
              "      <td>0.933970</td>\n",
              "      <td>0.801043</td>\n",
              "      <td>0.749783</td>\n",
              "      <td>0.687229</td>\n",
              "      <td>0.635100</td>\n",
              "      <td>0.649870</td>\n",
              "      <td>0.635100</td>\n",
              "      <td>0.655083</td>\n",
              "      <td>0.664639</td>\n",
              "      <td>0.633362</td>\n",
              "      <td>0.746308</td>\n",
              "      <td>0.871416</td>\n",
              "      <td>0.938314</td>\n",
              "      <td>1.000000</td>\n",
              "      <td>0.948740</td>\n",
              "      <td>0.396177</td>\n",
              "      <td>0.000000</td>\n",
              "      <td>0.039096</td>\n",
              "      <td>0.128584</td>\n",
              "      <td>0.305821</td>\n",
              "      <td>0.640313</td>\n",
              "      <td>0.617724</td>\n",
              "      <td>0.537793</td>\n",
              "      <td>0.352737</td>\n",
              "      <td>0.220678</td>\n",
              "      <td>0.256299</td>\n",
              "      <td>0.357950</td>\n",
              "      <td>0.482189</td>\n",
              "      <td>0.570808</td>\n",
              "      <td>0.577758</td>\n",
              "      <td>0.620330</td>\n",
              "      <td>0.622068</td>\n",
              "      <td>0.618593</td>\n",
              "      <td>0.626412</td>\n",
              "      <td>0.612511</td>\n",
              "      <td>...</td>\n",
              "      <td>0.0</td>\n",
              "      <td>0.0</td>\n",
              "      <td>0.0</td>\n",
              "      <td>0.0</td>\n",
              "      <td>0.0</td>\n",
              "      <td>0.0</td>\n",
              "      <td>0.0</td>\n",
              "      <td>0.0</td>\n",
              "      <td>0.0</td>\n",
              "      <td>0.0</td>\n",
              "      <td>0.0</td>\n",
              "      <td>0.0</td>\n",
              "      <td>0.0</td>\n",
              "      <td>0.0</td>\n",
              "      <td>0.0</td>\n",
              "      <td>0.0</td>\n",
              "      <td>0.0</td>\n",
              "      <td>0.0</td>\n",
              "      <td>0.0</td>\n",
              "      <td>0.0</td>\n",
              "      <td>0.0</td>\n",
              "      <td>0.0</td>\n",
              "      <td>0.0</td>\n",
              "      <td>0.0</td>\n",
              "      <td>0.0</td>\n",
              "      <td>0.0</td>\n",
              "      <td>0.0</td>\n",
              "      <td>0.0</td>\n",
              "      <td>0.0</td>\n",
              "      <td>0.0</td>\n",
              "      <td>0.0</td>\n",
              "      <td>0.0</td>\n",
              "      <td>0.0</td>\n",
              "      <td>0.0</td>\n",
              "      <td>0.0</td>\n",
              "      <td>0.0</td>\n",
              "      <td>0.0</td>\n",
              "      <td>0.0</td>\n",
              "      <td>0.0</td>\n",
              "      <td>1.0</td>\n",
              "    </tr>\n",
              "    <tr>\n",
              "      <th>1</th>\n",
              "      <td>1.000000</td>\n",
              "      <td>0.606941</td>\n",
              "      <td>0.384181</td>\n",
              "      <td>0.254237</td>\n",
              "      <td>0.223567</td>\n",
              "      <td>0.276836</td>\n",
              "      <td>0.253430</td>\n",
              "      <td>0.184826</td>\n",
              "      <td>0.153349</td>\n",
              "      <td>0.121872</td>\n",
              "      <td>0.125101</td>\n",
              "      <td>0.129136</td>\n",
              "      <td>0.137207</td>\n",
              "      <td>0.137207</td>\n",
              "      <td>0.132365</td>\n",
              "      <td>0.126715</td>\n",
              "      <td>0.158192</td>\n",
              "      <td>0.152542</td>\n",
              "      <td>0.132365</td>\n",
              "      <td>0.168684</td>\n",
              "      <td>0.156578</td>\n",
              "      <td>0.183212</td>\n",
              "      <td>0.191283</td>\n",
              "      <td>0.204197</td>\n",
              "      <td>0.230024</td>\n",
              "      <td>0.244552</td>\n",
              "      <td>0.285714</td>\n",
              "      <td>0.307506</td>\n",
              "      <td>0.321227</td>\n",
              "      <td>0.327684</td>\n",
              "      <td>0.351897</td>\n",
              "      <td>0.373688</td>\n",
              "      <td>0.397094</td>\n",
              "      <td>0.363196</td>\n",
              "      <td>0.340597</td>\n",
              "      <td>0.307506</td>\n",
              "      <td>0.258273</td>\n",
              "      <td>0.197740</td>\n",
              "      <td>0.199354</td>\n",
              "      <td>0.173527</td>\n",
              "      <td>...</td>\n",
              "      <td>0.0</td>\n",
              "      <td>0.0</td>\n",
              "      <td>0.0</td>\n",
              "      <td>0.0</td>\n",
              "      <td>0.0</td>\n",
              "      <td>0.0</td>\n",
              "      <td>0.0</td>\n",
              "      <td>0.0</td>\n",
              "      <td>0.0</td>\n",
              "      <td>0.0</td>\n",
              "      <td>0.0</td>\n",
              "      <td>0.0</td>\n",
              "      <td>0.0</td>\n",
              "      <td>0.0</td>\n",
              "      <td>0.0</td>\n",
              "      <td>0.0</td>\n",
              "      <td>0.0</td>\n",
              "      <td>0.0</td>\n",
              "      <td>0.0</td>\n",
              "      <td>0.0</td>\n",
              "      <td>0.0</td>\n",
              "      <td>0.0</td>\n",
              "      <td>0.0</td>\n",
              "      <td>0.0</td>\n",
              "      <td>0.0</td>\n",
              "      <td>0.0</td>\n",
              "      <td>0.0</td>\n",
              "      <td>0.0</td>\n",
              "      <td>0.0</td>\n",
              "      <td>0.0</td>\n",
              "      <td>0.0</td>\n",
              "      <td>0.0</td>\n",
              "      <td>0.0</td>\n",
              "      <td>0.0</td>\n",
              "      <td>0.0</td>\n",
              "      <td>0.0</td>\n",
              "      <td>0.0</td>\n",
              "      <td>0.0</td>\n",
              "      <td>0.0</td>\n",
              "      <td>1.0</td>\n",
              "    </tr>\n",
              "  </tbody>\n",
              "</table>\n",
              "<p>2 rows × 188 columns</p>\n",
              "</div>"
            ],
            "text/plain": [
              "        0         1         2         3         4    ...  183  184  185  186  187\n",
              "0  0.932233  0.869679  0.886186  0.929626  0.908775  ...  0.0  0.0  0.0  0.0  1.0\n",
              "1  1.000000  0.606941  0.384181  0.254237  0.223567  ...  0.0  0.0  0.0  0.0  1.0\n",
              "\n",
              "[2 rows x 188 columns]"
            ]
          },
          "metadata": {
            "tags": []
          },
          "execution_count": 6
        }
      ]
    },
    {
      "cell_type": "code",
      "metadata": {
        "id": "HPrNBuUCPCl4"
      },
      "source": [
        "df = pd.concat([df_normal, df_abnormal], axis=0, ignore_index=True)"
      ],
      "execution_count": null,
      "outputs": []
    },
    {
      "cell_type": "code",
      "metadata": {
        "id": "lnHCm5VBTjv7"
      },
      "source": [
        "X_data = df.loc[:,:186]\n",
        "y_data = df.loc[:,187]"
      ],
      "execution_count": null,
      "outputs": []
    },
    {
      "cell_type": "code",
      "metadata": {
        "id": "w5_HICGchVOj",
        "colab": {
          "base_uri": "https://localhost:8080/",
          "height": 161
        },
        "outputId": "061d5b89-6aca-4da2-e44b-9953ef5e561e"
      },
      "source": [
        "X_data.head(2)"
      ],
      "execution_count": null,
      "outputs": [
        {
          "output_type": "execute_result",
          "data": {
            "text/html": [
              "<div>\n",
              "<style scoped>\n",
              "    .dataframe tbody tr th:only-of-type {\n",
              "        vertical-align: middle;\n",
              "    }\n",
              "\n",
              "    .dataframe tbody tr th {\n",
              "        vertical-align: top;\n",
              "    }\n",
              "\n",
              "    .dataframe thead th {\n",
              "        text-align: right;\n",
              "    }\n",
              "</style>\n",
              "<table border=\"1\" class=\"dataframe\">\n",
              "  <thead>\n",
              "    <tr style=\"text-align: right;\">\n",
              "      <th></th>\n",
              "      <th>0</th>\n",
              "      <th>1</th>\n",
              "      <th>2</th>\n",
              "      <th>3</th>\n",
              "      <th>4</th>\n",
              "      <th>5</th>\n",
              "      <th>6</th>\n",
              "      <th>7</th>\n",
              "      <th>8</th>\n",
              "      <th>9</th>\n",
              "      <th>10</th>\n",
              "      <th>11</th>\n",
              "      <th>12</th>\n",
              "      <th>13</th>\n",
              "      <th>14</th>\n",
              "      <th>15</th>\n",
              "      <th>16</th>\n",
              "      <th>17</th>\n",
              "      <th>18</th>\n",
              "      <th>19</th>\n",
              "      <th>20</th>\n",
              "      <th>21</th>\n",
              "      <th>22</th>\n",
              "      <th>23</th>\n",
              "      <th>24</th>\n",
              "      <th>25</th>\n",
              "      <th>26</th>\n",
              "      <th>27</th>\n",
              "      <th>28</th>\n",
              "      <th>29</th>\n",
              "      <th>30</th>\n",
              "      <th>31</th>\n",
              "      <th>32</th>\n",
              "      <th>33</th>\n",
              "      <th>34</th>\n",
              "      <th>35</th>\n",
              "      <th>36</th>\n",
              "      <th>37</th>\n",
              "      <th>38</th>\n",
              "      <th>39</th>\n",
              "      <th>...</th>\n",
              "      <th>147</th>\n",
              "      <th>148</th>\n",
              "      <th>149</th>\n",
              "      <th>150</th>\n",
              "      <th>151</th>\n",
              "      <th>152</th>\n",
              "      <th>153</th>\n",
              "      <th>154</th>\n",
              "      <th>155</th>\n",
              "      <th>156</th>\n",
              "      <th>157</th>\n",
              "      <th>158</th>\n",
              "      <th>159</th>\n",
              "      <th>160</th>\n",
              "      <th>161</th>\n",
              "      <th>162</th>\n",
              "      <th>163</th>\n",
              "      <th>164</th>\n",
              "      <th>165</th>\n",
              "      <th>166</th>\n",
              "      <th>167</th>\n",
              "      <th>168</th>\n",
              "      <th>169</th>\n",
              "      <th>170</th>\n",
              "      <th>171</th>\n",
              "      <th>172</th>\n",
              "      <th>173</th>\n",
              "      <th>174</th>\n",
              "      <th>175</th>\n",
              "      <th>176</th>\n",
              "      <th>177</th>\n",
              "      <th>178</th>\n",
              "      <th>179</th>\n",
              "      <th>180</th>\n",
              "      <th>181</th>\n",
              "      <th>182</th>\n",
              "      <th>183</th>\n",
              "      <th>184</th>\n",
              "      <th>185</th>\n",
              "      <th>186</th>\n",
              "    </tr>\n",
              "  </thead>\n",
              "  <tbody>\n",
              "    <tr>\n",
              "      <th>0</th>\n",
              "      <td>1.0</td>\n",
              "      <td>0.900324</td>\n",
              "      <td>0.358590</td>\n",
              "      <td>0.051459</td>\n",
              "      <td>0.046596</td>\n",
              "      <td>0.126823</td>\n",
              "      <td>0.133306</td>\n",
              "      <td>0.119125</td>\n",
              "      <td>0.110616</td>\n",
              "      <td>0.113047</td>\n",
              "      <td>0.106564</td>\n",
              "      <td>0.106969</td>\n",
              "      <td>0.115883</td>\n",
              "      <td>0.122366</td>\n",
              "      <td>0.122366</td>\n",
              "      <td>0.11953</td>\n",
              "      <td>0.115883</td>\n",
              "      <td>0.122366</td>\n",
              "      <td>0.126013</td>\n",
              "      <td>0.133712</td>\n",
              "      <td>0.134927</td>\n",
              "      <td>0.142626</td>\n",
              "      <td>0.151135</td>\n",
              "      <td>0.158428</td>\n",
              "      <td>0.163695</td>\n",
              "      <td>0.173825</td>\n",
              "      <td>0.188817</td>\n",
              "      <td>0.207861</td>\n",
              "      <td>0.230956</td>\n",
              "      <td>0.258509</td>\n",
              "      <td>0.294571</td>\n",
              "      <td>0.325770</td>\n",
              "      <td>0.362642</td>\n",
              "      <td>0.398298</td>\n",
              "      <td>0.429498</td>\n",
              "      <td>0.449352</td>\n",
              "      <td>0.450972</td>\n",
              "      <td>0.418963</td>\n",
              "      <td>0.372771</td>\n",
              "      <td>0.310373</td>\n",
              "      <td>...</td>\n",
              "      <td>0.0</td>\n",
              "      <td>0.0</td>\n",
              "      <td>0.0</td>\n",
              "      <td>0.0</td>\n",
              "      <td>0.0</td>\n",
              "      <td>0.0</td>\n",
              "      <td>0.0</td>\n",
              "      <td>0.0</td>\n",
              "      <td>0.0</td>\n",
              "      <td>0.0</td>\n",
              "      <td>0.0</td>\n",
              "      <td>0.0</td>\n",
              "      <td>0.0</td>\n",
              "      <td>0.0</td>\n",
              "      <td>0.0</td>\n",
              "      <td>0.0</td>\n",
              "      <td>0.0</td>\n",
              "      <td>0.0</td>\n",
              "      <td>0.0</td>\n",
              "      <td>0.0</td>\n",
              "      <td>0.0</td>\n",
              "      <td>0.0</td>\n",
              "      <td>0.0</td>\n",
              "      <td>0.0</td>\n",
              "      <td>0.0</td>\n",
              "      <td>0.0</td>\n",
              "      <td>0.0</td>\n",
              "      <td>0.0</td>\n",
              "      <td>0.0</td>\n",
              "      <td>0.0</td>\n",
              "      <td>0.0</td>\n",
              "      <td>0.0</td>\n",
              "      <td>0.0</td>\n",
              "      <td>0.0</td>\n",
              "      <td>0.0</td>\n",
              "      <td>0.0</td>\n",
              "      <td>0.0</td>\n",
              "      <td>0.0</td>\n",
              "      <td>0.0</td>\n",
              "      <td>0.0</td>\n",
              "    </tr>\n",
              "    <tr>\n",
              "      <th>1</th>\n",
              "      <td>1.0</td>\n",
              "      <td>0.794681</td>\n",
              "      <td>0.375387</td>\n",
              "      <td>0.116883</td>\n",
              "      <td>0.000000</td>\n",
              "      <td>0.171923</td>\n",
              "      <td>0.283859</td>\n",
              "      <td>0.293754</td>\n",
              "      <td>0.325912</td>\n",
              "      <td>0.345083</td>\n",
              "      <td>0.361781</td>\n",
              "      <td>0.362400</td>\n",
              "      <td>0.366110</td>\n",
              "      <td>0.367965</td>\n",
              "      <td>0.374150</td>\n",
              "      <td>0.37786</td>\n",
              "      <td>0.382189</td>\n",
              "      <td>0.384663</td>\n",
              "      <td>0.398887</td>\n",
              "      <td>0.401361</td>\n",
              "      <td>0.418058</td>\n",
              "      <td>0.443414</td>\n",
              "      <td>0.457638</td>\n",
              "      <td>0.487941</td>\n",
              "      <td>0.520717</td>\n",
              "      <td>0.559678</td>\n",
              "      <td>0.604205</td>\n",
              "      <td>0.634508</td>\n",
              "      <td>0.653680</td>\n",
              "      <td>0.672851</td>\n",
              "      <td>0.678417</td>\n",
              "      <td>0.660482</td>\n",
              "      <td>0.621521</td>\n",
              "      <td>0.555968</td>\n",
              "      <td>0.482375</td>\n",
              "      <td>0.438466</td>\n",
              "      <td>0.378479</td>\n",
              "      <td>0.351268</td>\n",
              "      <td>0.319728</td>\n",
              "      <td>0.306741</td>\n",
              "      <td>...</td>\n",
              "      <td>0.0</td>\n",
              "      <td>0.0</td>\n",
              "      <td>0.0</td>\n",
              "      <td>0.0</td>\n",
              "      <td>0.0</td>\n",
              "      <td>0.0</td>\n",
              "      <td>0.0</td>\n",
              "      <td>0.0</td>\n",
              "      <td>0.0</td>\n",
              "      <td>0.0</td>\n",
              "      <td>0.0</td>\n",
              "      <td>0.0</td>\n",
              "      <td>0.0</td>\n",
              "      <td>0.0</td>\n",
              "      <td>0.0</td>\n",
              "      <td>0.0</td>\n",
              "      <td>0.0</td>\n",
              "      <td>0.0</td>\n",
              "      <td>0.0</td>\n",
              "      <td>0.0</td>\n",
              "      <td>0.0</td>\n",
              "      <td>0.0</td>\n",
              "      <td>0.0</td>\n",
              "      <td>0.0</td>\n",
              "      <td>0.0</td>\n",
              "      <td>0.0</td>\n",
              "      <td>0.0</td>\n",
              "      <td>0.0</td>\n",
              "      <td>0.0</td>\n",
              "      <td>0.0</td>\n",
              "      <td>0.0</td>\n",
              "      <td>0.0</td>\n",
              "      <td>0.0</td>\n",
              "      <td>0.0</td>\n",
              "      <td>0.0</td>\n",
              "      <td>0.0</td>\n",
              "      <td>0.0</td>\n",
              "      <td>0.0</td>\n",
              "      <td>0.0</td>\n",
              "      <td>0.0</td>\n",
              "    </tr>\n",
              "  </tbody>\n",
              "</table>\n",
              "<p>2 rows × 187 columns</p>\n",
              "</div>"
            ],
            "text/plain": [
              "   0         1         2         3         4    ...  182  183  184  185  186\n",
              "0  1.0  0.900324  0.358590  0.051459  0.046596  ...  0.0  0.0  0.0  0.0  0.0\n",
              "1  1.0  0.794681  0.375387  0.116883  0.000000  ...  0.0  0.0  0.0  0.0  0.0\n",
              "\n",
              "[2 rows x 187 columns]"
            ]
          },
          "metadata": {
            "tags": []
          },
          "execution_count": 9
        }
      ]
    },
    {
      "cell_type": "markdown",
      "metadata": {
        "id": "JygEZoLBQZ2F"
      },
      "source": [
        "# Preliminary ECG Visuals"
      ]
    },
    {
      "cell_type": "code",
      "metadata": {
        "colab": {
          "base_uri": "https://localhost:8080/",
          "height": 171
        },
        "id": "a3K5LaZ2kJhx",
        "outputId": "1bf02273-b060-4d4f-c1f5-a295c13e31c5"
      },
      "source": [
        "fig = plt.figure(figsize=(10, 2))\n",
        "\n",
        "# Adds subplot on position 1\n",
        "ax = fig.add_subplot(121)\n",
        "# Adds subplot on position 2\n",
        "ax2 = fig.add_subplot(122)\n",
        "\n",
        "ax.plot(df_normal.loc[100,:186])\n",
        "ax2.plot(df_normal.loc[500,:186])\n",
        "\n",
        "plt.suptitle('Normal Heart') \n",
        "plt.show()"
      ],
      "execution_count": null,
      "outputs": [
        {
          "output_type": "display_data",
          "data": {
            "image/png": "[encoded data removed]",
            "text/plain": [
              "<Figure size 720x144 with 2 Axes>"
            ]
          },
          "metadata": {
            "tags": [],
            "needs_background": "light"
          }
        }
      ]
    },
    {
      "cell_type": "code",
      "metadata": {
        "colab": {
          "base_uri": "https://localhost:8080/",
          "height": 171
        },
        "id": "AXv4ecAvlggu",
        "outputId": "2ae8f21a-1248-4411-b4e2-d08f6a98c26b"
      },
      "source": [
        "#Abnormal ECG\n",
        "fig1 = plt.figure(figsize=(10, 2))\n",
        "\n",
        "# Adds subplot on position 1\n",
        "ax = fig1.add_subplot(121)\n",
        "# Adds subplot on position 2\n",
        "ax2 = fig1.add_subplot(122)\n",
        "\n",
        "ax.plot(df_abnormal.loc[100,:186], color='red')\n",
        "ax2.plot(df_abnormal.loc[500,:186], color='red')\n",
        "\n",
        "plt.suptitle('Miocardial Infarction') \n",
        "plt.show()"
      ],
      "execution_count": null,
      "outputs": [
        {
          "output_type": "display_data",
          "data": {
            "image/png": "[encoded data removed]",
            "text/plain": [
              "<Figure size 720x144 with 2 Axes>"
            ]
          },
          "metadata": {
            "tags": [],
            "needs_background": "light"
          }
        }
      ]
    },
    {
      "cell_type": "code",
      "metadata": {
        "id": "4tldjD3IlgXP"
      },
      "source": [
        ""
      ],
      "execution_count": null,
      "outputs": []
    },
    {
      "cell_type": "code",
      "metadata": {
        "colab": {
          "base_uri": "https://localhost:8080/"
        },
        "id": "u3sXD_e_X21r",
        "outputId": "48a55b95-fb04-4dae-8c90-f079e8c4effc"
      },
      "source": [
        "y_data.value_counts()"
      ],
      "execution_count": null,
      "outputs": [
        {
          "output_type": "execute_result",
          "data": {
            "text/plain": [
              "1.0    10506\n",
              "0.0     4046\n",
              "Name: 187, dtype: int64"
            ]
          },
          "metadata": {
            "tags": []
          },
          "execution_count": 12
        }
      ]
    },
    {
      "cell_type": "code",
      "metadata": {
        "id": "yrgkrGSchZh1"
      },
      "source": [
        ""
      ],
      "execution_count": null,
      "outputs": []
    },
    {
      "cell_type": "markdown",
      "metadata": {
        "id": "dsWSixt3EzEC"
      },
      "source": [
        "# Splitting Data & Setting \"y\" Categorical"
      ]
    },
    {
      "cell_type": "code",
      "metadata": {
        "id": "zhCQDxuAE3CW"
      },
      "source": [
        "dfX_train, dfX_test, y_train, y_test = train_test_split(X_data, y_data, shuffle=True, train_size=0.8, random_state = 42)"
      ],
      "execution_count": null,
      "outputs": []
    },
    {
      "cell_type": "code",
      "metadata": {
        "colab": {
          "base_uri": "https://localhost:8080/"
        },
        "id": "VHCq1NFTjxPC",
        "outputId": "8c48a1ab-b703-4bf2-e34b-3dc7114079c2"
      },
      "source": [
        "y_train"
      ],
      "execution_count": null,
      "outputs": [
        {
          "output_type": "execute_result",
          "data": {
            "text/plain": [
              "4292     1.0\n",
              "8963     1.0\n",
              "10671    1.0\n",
              "8994     1.0\n",
              "13691    1.0\n",
              "        ... \n",
              "5191     1.0\n",
              "13418    1.0\n",
              "5390     1.0\n",
              "860      0.0\n",
              "7270     1.0\n",
              "Name: 187, Length: 11641, dtype: float64"
            ]
          },
          "metadata": {
            "tags": []
          },
          "execution_count": 14
        }
      ]
    },
    {
      "cell_type": "code",
      "metadata": {
        "id": "FguFRcwtjxMI"
      },
      "source": [
        "#Preparing the train dataset including \"y\" before balancing the classes.\n",
        "df_train = pd.concat([dfX_train, pd.Series(y_train)], axis=1)"
      ],
      "execution_count": null,
      "outputs": []
    },
    {
      "cell_type": "code",
      "metadata": {
        "colab": {
          "base_uri": "https://localhost:8080/"
        },
        "id": "JTzQ7yw7jxJB",
        "outputId": "df8fa072-e7f3-480b-f501-781b519c3d55"
      },
      "source": [
        "df_train[187].value_counts()"
      ],
      "execution_count": null,
      "outputs": [
        {
          "output_type": "execute_result",
          "data": {
            "text/plain": [
              "1.0    8429\n",
              "0.0    3212\n",
              "Name: 187, dtype: int64"
            ]
          },
          "metadata": {
            "tags": []
          },
          "execution_count": 16
        }
      ]
    },
    {
      "cell_type": "code",
      "metadata": {
        "colab": {
          "base_uri": "https://localhost:8080/"
        },
        "id": "b_LwULeqzQVq",
        "outputId": "f92fd6e7-8ac6-4908-d3a2-9d6cd1867363"
      },
      "source": [
        "y_test.value_counts()"
      ],
      "execution_count": null,
      "outputs": [
        {
          "output_type": "execute_result",
          "data": {
            "text/plain": [
              "1.0    2077\n",
              "0.0     834\n",
              "Name: 187, dtype: int64"
            ]
          },
          "metadata": {
            "tags": []
          },
          "execution_count": 17
        }
      ]
    },
    {
      "cell_type": "markdown",
      "metadata": {
        "id": "ggPXBosvin42"
      },
      "source": [
        "# Balancing Classes in Train Set"
      ]
    },
    {
      "cell_type": "code",
      "metadata": {
        "id": "kjdg36t8X2zG"
      },
      "source": [
        "from sklearn.utils import resample\n",
        "\n",
        "df_0=(df_train[df_train[187]==0])\n",
        "df_1=(df_train[df_train[187]==1]).sample(n=8400,random_state=42)\n",
        "\n",
        "#resampling minority class with replacement\n",
        "df_0_upsample=resample(df_0,replace=True,n_samples=8400,random_state=123)\n",
        "\n",
        "#balanced df\n",
        "df_train_balanced=pd.concat([df_0_upsample,df_1])\n",
        "\n",
        "#shuffling rows in balanced df\n",
        "df_train_shuffled=df_train_balanced.sample(frac=1).reset_index(drop=True)"
      ],
      "execution_count": null,
      "outputs": []
    },
    {
      "cell_type": "code",
      "metadata": {
        "colab": {
          "base_uri": "https://localhost:8080/"
        },
        "id": "J5mwq7pvjxGI",
        "outputId": "6db51131-7b74-4202-9ed1-b99e801b87e2"
      },
      "source": [
        "df_train_shuffled[187].value_counts()"
      ],
      "execution_count": null,
      "outputs": [
        {
          "output_type": "execute_result",
          "data": {
            "text/plain": [
              "1.0    8400\n",
              "0.0    8400\n",
              "Name: 187, dtype: int64"
            ]
          },
          "metadata": {
            "tags": []
          },
          "execution_count": 19
        }
      ]
    },
    {
      "cell_type": "code",
      "metadata": {
        "id": "1CGyDW1Pjw_o"
      },
      "source": [
        "X_train_proc = df_train_shuffled.iloc[:,:187]\n",
        "y_train_proc = df_train_shuffled.iloc[:,187]"
      ],
      "execution_count": null,
      "outputs": []
    },
    {
      "cell_type": "code",
      "metadata": {
        "colab": {
          "base_uri": "https://localhost:8080/",
          "height": 161
        },
        "id": "yRMie12SozZy",
        "outputId": "ccc256ab-41cd-4627-9134-4f2c54098691"
      },
      "source": [
        "X_train_proc.head(2)"
      ],
      "execution_count": null,
      "outputs": [
        {
          "output_type": "execute_result",
          "data": {
            "text/html": [
              "<div>\n",
              "<style scoped>\n",
              "    .dataframe tbody tr th:only-of-type {\n",
              "        vertical-align: middle;\n",
              "    }\n",
              "\n",
              "    .dataframe tbody tr th {\n",
              "        vertical-align: top;\n",
              "    }\n",
              "\n",
              "    .dataframe thead th {\n",
              "        text-align: right;\n",
              "    }\n",
              "</style>\n",
              "<table border=\"1\" class=\"dataframe\">\n",
              "  <thead>\n",
              "    <tr style=\"text-align: right;\">\n",
              "      <th></th>\n",
              "      <th>0</th>\n",
              "      <th>1</th>\n",
              "      <th>2</th>\n",
              "      <th>3</th>\n",
              "      <th>4</th>\n",
              "      <th>5</th>\n",
              "      <th>6</th>\n",
              "      <th>7</th>\n",
              "      <th>8</th>\n",
              "      <th>9</th>\n",
              "      <th>10</th>\n",
              "      <th>11</th>\n",
              "      <th>12</th>\n",
              "      <th>13</th>\n",
              "      <th>14</th>\n",
              "      <th>15</th>\n",
              "      <th>16</th>\n",
              "      <th>17</th>\n",
              "      <th>18</th>\n",
              "      <th>19</th>\n",
              "      <th>20</th>\n",
              "      <th>21</th>\n",
              "      <th>22</th>\n",
              "      <th>23</th>\n",
              "      <th>24</th>\n",
              "      <th>25</th>\n",
              "      <th>26</th>\n",
              "      <th>27</th>\n",
              "      <th>28</th>\n",
              "      <th>29</th>\n",
              "      <th>30</th>\n",
              "      <th>31</th>\n",
              "      <th>32</th>\n",
              "      <th>33</th>\n",
              "      <th>34</th>\n",
              "      <th>35</th>\n",
              "      <th>36</th>\n",
              "      <th>37</th>\n",
              "      <th>38</th>\n",
              "      <th>39</th>\n",
              "      <th>...</th>\n",
              "      <th>147</th>\n",
              "      <th>148</th>\n",
              "      <th>149</th>\n",
              "      <th>150</th>\n",
              "      <th>151</th>\n",
              "      <th>152</th>\n",
              "      <th>153</th>\n",
              "      <th>154</th>\n",
              "      <th>155</th>\n",
              "      <th>156</th>\n",
              "      <th>157</th>\n",
              "      <th>158</th>\n",
              "      <th>159</th>\n",
              "      <th>160</th>\n",
              "      <th>161</th>\n",
              "      <th>162</th>\n",
              "      <th>163</th>\n",
              "      <th>164</th>\n",
              "      <th>165</th>\n",
              "      <th>166</th>\n",
              "      <th>167</th>\n",
              "      <th>168</th>\n",
              "      <th>169</th>\n",
              "      <th>170</th>\n",
              "      <th>171</th>\n",
              "      <th>172</th>\n",
              "      <th>173</th>\n",
              "      <th>174</th>\n",
              "      <th>175</th>\n",
              "      <th>176</th>\n",
              "      <th>177</th>\n",
              "      <th>178</th>\n",
              "      <th>179</th>\n",
              "      <th>180</th>\n",
              "      <th>181</th>\n",
              "      <th>182</th>\n",
              "      <th>183</th>\n",
              "      <th>184</th>\n",
              "      <th>185</th>\n",
              "      <th>186</th>\n",
              "    </tr>\n",
              "  </thead>\n",
              "  <tbody>\n",
              "    <tr>\n",
              "      <th>0</th>\n",
              "      <td>0.987952</td>\n",
              "      <td>0.552026</td>\n",
              "      <td>0.162103</td>\n",
              "      <td>0.000000</td>\n",
              "      <td>0.082147</td>\n",
              "      <td>0.170865</td>\n",
              "      <td>0.188390</td>\n",
              "      <td>0.192771</td>\n",
              "      <td>0.196057</td>\n",
              "      <td>0.201533</td>\n",
              "      <td>0.205367</td>\n",
              "      <td>0.205367</td>\n",
              "      <td>0.210843</td>\n",
              "      <td>0.213582</td>\n",
              "      <td>0.216867</td>\n",
              "      <td>0.225630</td>\n",
              "      <td>0.231654</td>\n",
              "      <td>0.232202</td>\n",
              "      <td>0.239869</td>\n",
              "      <td>0.253012</td>\n",
              "      <td>0.266156</td>\n",
              "      <td>0.272727</td>\n",
              "      <td>0.283133</td>\n",
              "      <td>0.301205</td>\n",
              "      <td>0.314896</td>\n",
              "      <td>0.330778</td>\n",
              "      <td>0.351588</td>\n",
              "      <td>0.365827</td>\n",
              "      <td>0.376232</td>\n",
              "      <td>0.384995</td>\n",
              "      <td>0.383899</td>\n",
              "      <td>0.383352</td>\n",
              "      <td>0.368565</td>\n",
              "      <td>0.351588</td>\n",
              "      <td>0.330778</td>\n",
              "      <td>0.308872</td>\n",
              "      <td>0.292443</td>\n",
              "      <td>0.276013</td>\n",
              "      <td>0.270537</td>\n",
              "      <td>0.262322</td>\n",
              "      <td>...</td>\n",
              "      <td>0.0</td>\n",
              "      <td>0.0</td>\n",
              "      <td>0.0</td>\n",
              "      <td>0.0</td>\n",
              "      <td>0.0</td>\n",
              "      <td>0.0</td>\n",
              "      <td>0.0</td>\n",
              "      <td>0.0</td>\n",
              "      <td>0.0</td>\n",
              "      <td>0.0</td>\n",
              "      <td>0.0</td>\n",
              "      <td>0.0</td>\n",
              "      <td>0.0</td>\n",
              "      <td>0.0</td>\n",
              "      <td>0.0</td>\n",
              "      <td>0.0</td>\n",
              "      <td>0.0</td>\n",
              "      <td>0.0</td>\n",
              "      <td>0.0</td>\n",
              "      <td>0.0</td>\n",
              "      <td>0.0</td>\n",
              "      <td>0.0</td>\n",
              "      <td>0.0</td>\n",
              "      <td>0.0</td>\n",
              "      <td>0.0</td>\n",
              "      <td>0.0</td>\n",
              "      <td>0.0</td>\n",
              "      <td>0.0</td>\n",
              "      <td>0.0</td>\n",
              "      <td>0.0</td>\n",
              "      <td>0.0</td>\n",
              "      <td>0.0</td>\n",
              "      <td>0.0</td>\n",
              "      <td>0.0</td>\n",
              "      <td>0.0</td>\n",
              "      <td>0.0</td>\n",
              "      <td>0.0</td>\n",
              "      <td>0.0</td>\n",
              "      <td>0.0</td>\n",
              "      <td>0.0</td>\n",
              "    </tr>\n",
              "    <tr>\n",
              "      <th>1</th>\n",
              "      <td>0.944809</td>\n",
              "      <td>0.773771</td>\n",
              "      <td>0.445902</td>\n",
              "      <td>0.374863</td>\n",
              "      <td>0.296175</td>\n",
              "      <td>0.330055</td>\n",
              "      <td>0.274317</td>\n",
              "      <td>0.312568</td>\n",
              "      <td>0.326776</td>\n",
              "      <td>0.306557</td>\n",
              "      <td>0.352459</td>\n",
              "      <td>0.314208</td>\n",
              "      <td>0.276503</td>\n",
              "      <td>0.334973</td>\n",
              "      <td>0.340437</td>\n",
              "      <td>0.371585</td>\n",
              "      <td>0.350820</td>\n",
              "      <td>0.348634</td>\n",
              "      <td>0.378142</td>\n",
              "      <td>0.339344</td>\n",
              "      <td>0.381421</td>\n",
              "      <td>0.389071</td>\n",
              "      <td>0.363388</td>\n",
              "      <td>0.331148</td>\n",
              "      <td>0.319672</td>\n",
              "      <td>0.376503</td>\n",
              "      <td>0.372131</td>\n",
              "      <td>0.337705</td>\n",
              "      <td>0.369399</td>\n",
              "      <td>0.346448</td>\n",
              "      <td>0.299454</td>\n",
              "      <td>0.345355</td>\n",
              "      <td>0.331148</td>\n",
              "      <td>0.330055</td>\n",
              "      <td>0.305464</td>\n",
              "      <td>0.269399</td>\n",
              "      <td>0.303279</td>\n",
              "      <td>0.330055</td>\n",
              "      <td>0.339344</td>\n",
              "      <td>0.290710</td>\n",
              "      <td>...</td>\n",
              "      <td>0.0</td>\n",
              "      <td>0.0</td>\n",
              "      <td>0.0</td>\n",
              "      <td>0.0</td>\n",
              "      <td>0.0</td>\n",
              "      <td>0.0</td>\n",
              "      <td>0.0</td>\n",
              "      <td>0.0</td>\n",
              "      <td>0.0</td>\n",
              "      <td>0.0</td>\n",
              "      <td>0.0</td>\n",
              "      <td>0.0</td>\n",
              "      <td>0.0</td>\n",
              "      <td>0.0</td>\n",
              "      <td>0.0</td>\n",
              "      <td>0.0</td>\n",
              "      <td>0.0</td>\n",
              "      <td>0.0</td>\n",
              "      <td>0.0</td>\n",
              "      <td>0.0</td>\n",
              "      <td>0.0</td>\n",
              "      <td>0.0</td>\n",
              "      <td>0.0</td>\n",
              "      <td>0.0</td>\n",
              "      <td>0.0</td>\n",
              "      <td>0.0</td>\n",
              "      <td>0.0</td>\n",
              "      <td>0.0</td>\n",
              "      <td>0.0</td>\n",
              "      <td>0.0</td>\n",
              "      <td>0.0</td>\n",
              "      <td>0.0</td>\n",
              "      <td>0.0</td>\n",
              "      <td>0.0</td>\n",
              "      <td>0.0</td>\n",
              "      <td>0.0</td>\n",
              "      <td>0.0</td>\n",
              "      <td>0.0</td>\n",
              "      <td>0.0</td>\n",
              "      <td>0.0</td>\n",
              "    </tr>\n",
              "  </tbody>\n",
              "</table>\n",
              "<p>2 rows × 187 columns</p>\n",
              "</div>"
            ],
            "text/plain": [
              "        0         1         2         3         4    ...  182  183  184  185  186\n",
              "0  0.987952  0.552026  0.162103  0.000000  0.082147  ...  0.0  0.0  0.0  0.0  0.0\n",
              "1  0.944809  0.773771  0.445902  0.374863  0.296175  ...  0.0  0.0  0.0  0.0  0.0\n",
              "\n",
              "[2 rows x 187 columns]"
            ]
          },
          "metadata": {
            "tags": []
          },
          "execution_count": 21
        }
      ]
    },
    {
      "cell_type": "code",
      "metadata": {
        "id": "nhb6cX8O61br"
      },
      "source": [
        ""
      ],
      "execution_count": null,
      "outputs": []
    },
    {
      "cell_type": "markdown",
      "metadata": {
        "id": "Hlb8UoE86-lT"
      },
      "source": [
        "# Plot of Train classes before and after balancing"
      ]
    },
    {
      "cell_type": "code",
      "metadata": {
        "id": "eQ3RLisg_Ugw"
      },
      "source": [
        "df_bal = pd.DataFrame([[8429,3212],[8400,8400]],index=['before','after'],columns=['Yes','No'])"
      ],
      "execution_count": null,
      "outputs": []
    },
    {
      "cell_type": "code",
      "metadata": {
        "colab": {
          "base_uri": "https://localhost:8080/",
          "height": 112
        },
        "id": "h641F49n_UeG",
        "outputId": "bf868ee9-fb98-43e7-9b30-757aa2cfe259"
      },
      "source": [
        "df_bal"
      ],
      "execution_count": null,
      "outputs": [
        {
          "output_type": "execute_result",
          "data": {
            "text/html": [
              "<div>\n",
              "<style scoped>\n",
              "    .dataframe tbody tr th:only-of-type {\n",
              "        vertical-align: middle;\n",
              "    }\n",
              "\n",
              "    .dataframe tbody tr th {\n",
              "        vertical-align: top;\n",
              "    }\n",
              "\n",
              "    .dataframe thead th {\n",
              "        text-align: right;\n",
              "    }\n",
              "</style>\n",
              "<table border=\"1\" class=\"dataframe\">\n",
              "  <thead>\n",
              "    <tr style=\"text-align: right;\">\n",
              "      <th></th>\n",
              "      <th>Yes</th>\n",
              "      <th>No</th>\n",
              "    </tr>\n",
              "  </thead>\n",
              "  <tbody>\n",
              "    <tr>\n",
              "      <th>before</th>\n",
              "      <td>8429</td>\n",
              "      <td>3212</td>\n",
              "    </tr>\n",
              "    <tr>\n",
              "      <th>after</th>\n",
              "      <td>8400</td>\n",
              "      <td>8400</td>\n",
              "    </tr>\n",
              "  </tbody>\n",
              "</table>\n",
              "</div>"
            ],
            "text/plain": [
              "         Yes    No\n",
              "before  8429  3212\n",
              "after   8400  8400"
            ]
          },
          "metadata": {
            "tags": []
          },
          "execution_count": 23
        }
      ]
    },
    {
      "cell_type": "code",
      "metadata": {
        "id": "FgrVUgxr_Uas"
      },
      "source": [
        "df_bal['Distribution'] = df_bal['No']/df_bal.sum(axis=1)*100\n",
        "df_bal_1 = df_bal\n",
        "df_bal_1['total']= [100 for i in range(len(df_bal))]"
      ],
      "execution_count": null,
      "outputs": []
    },
    {
      "cell_type": "code",
      "metadata": {
        "colab": {
          "base_uri": "https://localhost:8080/",
          "height": 112
        },
        "id": "hUmeCz0m_UQ7",
        "outputId": "e59bfb58-395a-4c9c-c773-28470365f5f6"
      },
      "source": [
        "df_all = df_bal.reset_index()\n",
        "df_all.rename(columns = {'index': 'Class Balancing'}, inplace = True)\n",
        "df_all"
      ],
      "execution_count": null,
      "outputs": [
        {
          "output_type": "execute_result",
          "data": {
            "text/html": [
              "<div>\n",
              "<style scoped>\n",
              "    .dataframe tbody tr th:only-of-type {\n",
              "        vertical-align: middle;\n",
              "    }\n",
              "\n",
              "    .dataframe tbody tr th {\n",
              "        vertical-align: top;\n",
              "    }\n",
              "\n",
              "    .dataframe thead th {\n",
              "        text-align: right;\n",
              "    }\n",
              "</style>\n",
              "<table border=\"1\" class=\"dataframe\">\n",
              "  <thead>\n",
              "    <tr style=\"text-align: right;\">\n",
              "      <th></th>\n",
              "      <th>Class Balancing</th>\n",
              "      <th>Yes</th>\n",
              "      <th>No</th>\n",
              "      <th>Distribution</th>\n",
              "      <th>total</th>\n",
              "    </tr>\n",
              "  </thead>\n",
              "  <tbody>\n",
              "    <tr>\n",
              "      <th>0</th>\n",
              "      <td>before</td>\n",
              "      <td>8429</td>\n",
              "      <td>3212</td>\n",
              "      <td>27.592131</td>\n",
              "      <td>100</td>\n",
              "    </tr>\n",
              "    <tr>\n",
              "      <th>1</th>\n",
              "      <td>after</td>\n",
              "      <td>8400</td>\n",
              "      <td>8400</td>\n",
              "      <td>50.000000</td>\n",
              "      <td>100</td>\n",
              "    </tr>\n",
              "  </tbody>\n",
              "</table>\n",
              "</div>"
            ],
            "text/plain": [
              "  Class Balancing   Yes    No  Distribution  total\n",
              "0          before  8429  3212     27.592131    100\n",
              "1           after  8400  8400     50.000000    100"
            ]
          },
          "metadata": {
            "tags": []
          },
          "execution_count": 25
        }
      ]
    },
    {
      "cell_type": "code",
      "metadata": {
        "colab": {
          "base_uri": "https://localhost:8080/",
          "height": 112
        },
        "id": "ZEhfzDXiJ079",
        "outputId": "7bc6b90a-5ac6-4139-a7a3-bd64b6ebdf0a"
      },
      "source": [
        "df_bal_min = pd.concat([df_all['Class Balancing'],df_all['Distribution']], axis=1)\n",
        "df_bal_min"
      ],
      "execution_count": null,
      "outputs": [
        {
          "output_type": "execute_result",
          "data": {
            "text/html": [
              "<div>\n",
              "<style scoped>\n",
              "    .dataframe tbody tr th:only-of-type {\n",
              "        vertical-align: middle;\n",
              "    }\n",
              "\n",
              "    .dataframe tbody tr th {\n",
              "        vertical-align: top;\n",
              "    }\n",
              "\n",
              "    .dataframe thead th {\n",
              "        text-align: right;\n",
              "    }\n",
              "</style>\n",
              "<table border=\"1\" class=\"dataframe\">\n",
              "  <thead>\n",
              "    <tr style=\"text-align: right;\">\n",
              "      <th></th>\n",
              "      <th>Class Balancing</th>\n",
              "      <th>Distribution</th>\n",
              "    </tr>\n",
              "  </thead>\n",
              "  <tbody>\n",
              "    <tr>\n",
              "      <th>0</th>\n",
              "      <td>before</td>\n",
              "      <td>27.592131</td>\n",
              "    </tr>\n",
              "    <tr>\n",
              "      <th>1</th>\n",
              "      <td>after</td>\n",
              "      <td>50.000000</td>\n",
              "    </tr>\n",
              "  </tbody>\n",
              "</table>\n",
              "</div>"
            ],
            "text/plain": [
              "  Class Balancing  Distribution\n",
              "0          before     27.592131\n",
              "1           after     50.000000"
            ]
          },
          "metadata": {
            "tags": []
          },
          "execution_count": 26
        }
      ]
    },
    {
      "cell_type": "code",
      "metadata": {
        "colab": {
          "base_uri": "https://localhost:8080/",
          "height": 112
        },
        "id": "X_yGtlA8LnTM",
        "outputId": "227d04fd-9e6d-4658-8fa4-9495f1d876d4"
      },
      "source": [
        "df_bal_total = pd.concat([df_all['Class Balancing'],df_all['total']], axis=1)\n",
        "df_bal_total"
      ],
      "execution_count": null,
      "outputs": [
        {
          "output_type": "execute_result",
          "data": {
            "text/html": [
              "<div>\n",
              "<style scoped>\n",
              "    .dataframe tbody tr th:only-of-type {\n",
              "        vertical-align: middle;\n",
              "    }\n",
              "\n",
              "    .dataframe tbody tr th {\n",
              "        vertical-align: top;\n",
              "    }\n",
              "\n",
              "    .dataframe thead th {\n",
              "        text-align: right;\n",
              "    }\n",
              "</style>\n",
              "<table border=\"1\" class=\"dataframe\">\n",
              "  <thead>\n",
              "    <tr style=\"text-align: right;\">\n",
              "      <th></th>\n",
              "      <th>Class Balancing</th>\n",
              "      <th>total</th>\n",
              "    </tr>\n",
              "  </thead>\n",
              "  <tbody>\n",
              "    <tr>\n",
              "      <th>0</th>\n",
              "      <td>before</td>\n",
              "      <td>100</td>\n",
              "    </tr>\n",
              "    <tr>\n",
              "      <th>1</th>\n",
              "      <td>after</td>\n",
              "      <td>100</td>\n",
              "    </tr>\n",
              "  </tbody>\n",
              "</table>\n",
              "</div>"
            ],
            "text/plain": [
              "  Class Balancing  total\n",
              "0          before    100\n",
              "1           after    100"
            ]
          },
          "metadata": {
            "tags": []
          },
          "execution_count": 27
        }
      ]
    },
    {
      "cell_type": "code",
      "metadata": {
        "id": "h499WyPsxJcL",
        "colab": {
          "base_uri": "https://localhost:8080/",
          "height": 334
        },
        "outputId": "8b792088-4102-47fd-f15f-715534a5bf38"
      },
      "source": [
        "# import libraries\n",
        "import seaborn as sns\n",
        "import numpy as np\n",
        "import matplotlib.pyplot as plt\n",
        "import matplotlib.patches as mpatches\n",
        "\n",
        "# set the figure size\n",
        "plt.figure(figsize=(5, 5))\n",
        "\n",
        "# bar chart 1 -> top bars (group of 'smoker=No')\n",
        "bar1 = sns.barplot(x=\"Class Balancing\",  y=\"total\", data=df_bal_total, color='red')\n",
        "\n",
        "# bar chart 2 -> bottom bars (group of 'smoker=Yes')\n",
        "bar2 = sns.barplot(x=\"Class Balancing\", y=\"Distribution\", data=df_bal_min, color='royalblue')\n",
        "\n",
        "# add legend\n",
        "top_bar = mpatches.Patch(color='red', label='Class MI')\n",
        "bottom_bar = mpatches.Patch(color='royalblue', label='Class Normal')\n",
        "plt.legend(handles=[top_bar, bottom_bar])\n",
        "\n",
        "# show the graph\n",
        "plt.show()"
      ],
      "execution_count": null,
      "outputs": [
        {
          "output_type": "display_data",
          "data": {
            "image/png": "[encoded data removed]",
            "text/plain": [
              "<Figure size 360x360 with 1 Axes>"
            ]
          },
          "metadata": {
            "tags": [],
            "needs_background": "light"
          }
        }
      ]
    },
    {
      "cell_type": "code",
      "metadata": {
        "colab": {
          "base_uri": "https://localhost:8080/",
          "height": 345
        },
        "id": "jHP3pgnSdetv",
        "outputId": "c7b05995-1f81-4f81-87bd-4b22ba50bf2c"
      },
      "source": [
        "table_1 = pd.plotting.table(ax, df_bal_min, rowLabels=None, colLabels=None)\n",
        "table_1"
      ],
      "execution_count": null,
      "outputs": [
        {
          "output_type": "error",
          "ename": "AttributeError",
          "evalue": "ignored",
          "traceback": [
            "\u001b[0;31m---------------------------------------------------------------------------\u001b[0m",
            "\u001b[0;31mAttributeError\u001b[0m                            Traceback (most recent call last)",
            "\u001b[0;32m<ipython-input-33-2cb8e7452f49>\u001b[0m in \u001b[0;36m<module>\u001b[0;34m()\u001b[0m\n\u001b[0;32m----> 1\u001b[0;31m \u001b[0mtable_1\u001b[0m \u001b[0;34m=\u001b[0m \u001b[0mpd\u001b[0m\u001b[0;34m.\u001b[0m\u001b[0mplotting\u001b[0m\u001b[0;34m.\u001b[0m\u001b[0mtable\u001b[0m\u001b[0;34m(\u001b[0m\u001b[0m_\u001b[0m\u001b[0;34m,\u001b[0m \u001b[0mdf_bal_min\u001b[0m\u001b[0;34m,\u001b[0m \u001b[0mrowLabels\u001b[0m\u001b[0;34m=\u001b[0m\u001b[0;32mNone\u001b[0m\u001b[0;34m,\u001b[0m \u001b[0mcolLabels\u001b[0m\u001b[0;34m=\u001b[0m\u001b[0;32mNone\u001b[0m\u001b[0;34m)\u001b[0m\u001b[0;34m\u001b[0m\u001b[0;34m\u001b[0m\u001b[0m\n\u001b[0m\u001b[1;32m      2\u001b[0m \u001b[0mtable_1\u001b[0m\u001b[0;34m\u001b[0m\u001b[0;34m\u001b[0m\u001b[0m\n",
            "\u001b[0;32m/usr/local/lib/python3.7/dist-packages/pandas/plotting/_misc.py\u001b[0m in \u001b[0;36mtable\u001b[0;34m(ax, data, rowLabels, colLabels, **kwargs)\u001b[0m\n\u001b[1;32m     24\u001b[0m     \u001b[0mplot_backend\u001b[0m \u001b[0;34m=\u001b[0m \u001b[0m_get_plot_backend\u001b[0m\u001b[0;34m(\u001b[0m\u001b[0;34m\"matplotlib\"\u001b[0m\u001b[0;34m)\u001b[0m\u001b[0;34m\u001b[0m\u001b[0;34m\u001b[0m\u001b[0m\n\u001b[1;32m     25\u001b[0m     return plot_backend.table(\n\u001b[0;32m---> 26\u001b[0;31m         \u001b[0max\u001b[0m\u001b[0;34m=\u001b[0m\u001b[0max\u001b[0m\u001b[0;34m,\u001b[0m \u001b[0mdata\u001b[0m\u001b[0;34m=\u001b[0m\u001b[0mdata\u001b[0m\u001b[0;34m,\u001b[0m \u001b[0mrowLabels\u001b[0m\u001b[0;34m=\u001b[0m\u001b[0;32mNone\u001b[0m\u001b[0;34m,\u001b[0m \u001b[0mcolLabels\u001b[0m\u001b[0;34m=\u001b[0m\u001b[0;32mNone\u001b[0m\u001b[0;34m,\u001b[0m \u001b[0;34m**\u001b[0m\u001b[0mkwargs\u001b[0m\u001b[0;34m\u001b[0m\u001b[0;34m\u001b[0m\u001b[0m\n\u001b[0m\u001b[1;32m     27\u001b[0m     )\n\u001b[1;32m     28\u001b[0m \u001b[0;34m\u001b[0m\u001b[0m\n",
            "\u001b[0;32m/usr/local/lib/python3.7/dist-packages/pandas/plotting/_matplotlib/tools.py\u001b[0m in \u001b[0;36mtable\u001b[0;34m(ax, data, rowLabels, colLabels, **kwargs)\u001b[0m\n\u001b[1;32m     39\u001b[0m \u001b[0;34m\u001b[0m\u001b[0m\n\u001b[1;32m     40\u001b[0m     table = matplotlib.table.table(\n\u001b[0;32m---> 41\u001b[0;31m         \u001b[0max\u001b[0m\u001b[0;34m,\u001b[0m \u001b[0mcellText\u001b[0m\u001b[0;34m=\u001b[0m\u001b[0mcellText\u001b[0m\u001b[0;34m,\u001b[0m \u001b[0mrowLabels\u001b[0m\u001b[0;34m=\u001b[0m\u001b[0mrowLabels\u001b[0m\u001b[0;34m,\u001b[0m \u001b[0mcolLabels\u001b[0m\u001b[0;34m=\u001b[0m\u001b[0mcolLabels\u001b[0m\u001b[0;34m,\u001b[0m \u001b[0;34m**\u001b[0m\u001b[0mkwargs\u001b[0m\u001b[0;34m\u001b[0m\u001b[0;34m\u001b[0m\u001b[0m\n\u001b[0m\u001b[1;32m     42\u001b[0m     )\n\u001b[1;32m     43\u001b[0m     \u001b[0;32mreturn\u001b[0m \u001b[0mtable\u001b[0m\u001b[0;34m\u001b[0m\u001b[0;34m\u001b[0m\u001b[0m\n",
            "\u001b[0;32m/usr/local/lib/python3.7/dist-packages/matplotlib/table.py\u001b[0m in \u001b[0;36mtable\u001b[0;34m(ax, cellText, cellColours, cellLoc, colWidths, rowLabels, rowColours, rowLoc, colLabels, colColours, colLoc, loc, bbox, edges, **kwargs)\u001b[0m\n\u001b[1;32m    801\u001b[0m \u001b[0;34m\u001b[0m\u001b[0m\n\u001b[1;32m    802\u001b[0m     \u001b[0;31m# Now create the table\u001b[0m\u001b[0;34m\u001b[0m\u001b[0;34m\u001b[0m\u001b[0;34m\u001b[0m\u001b[0m\n\u001b[0;32m--> 803\u001b[0;31m     \u001b[0mtable\u001b[0m \u001b[0;34m=\u001b[0m \u001b[0mTable\u001b[0m\u001b[0;34m(\u001b[0m\u001b[0max\u001b[0m\u001b[0;34m,\u001b[0m \u001b[0mloc\u001b[0m\u001b[0;34m,\u001b[0m \u001b[0mbbox\u001b[0m\u001b[0;34m,\u001b[0m \u001b[0;34m**\u001b[0m\u001b[0mkwargs\u001b[0m\u001b[0;34m)\u001b[0m\u001b[0;34m\u001b[0m\u001b[0;34m\u001b[0m\u001b[0m\n\u001b[0m\u001b[1;32m    804\u001b[0m     \u001b[0mtable\u001b[0m\u001b[0;34m.\u001b[0m\u001b[0medges\u001b[0m \u001b[0;34m=\u001b[0m \u001b[0medges\u001b[0m\u001b[0;34m\u001b[0m\u001b[0;34m\u001b[0m\u001b[0m\n\u001b[1;32m    805\u001b[0m     \u001b[0mheight\u001b[0m \u001b[0;34m=\u001b[0m \u001b[0mtable\u001b[0m\u001b[0;34m.\u001b[0m\u001b[0m_approx_text_height\u001b[0m\u001b[0;34m(\u001b[0m\u001b[0;34m)\u001b[0m\u001b[0;34m\u001b[0m\u001b[0;34m\u001b[0m\u001b[0m\n",
            "\u001b[0;32m/usr/local/lib/python3.7/dist-packages/matplotlib/table.py\u001b[0m in \u001b[0;36m__init__\u001b[0;34m(self, ax, loc, bbox, **kwargs)\u001b[0m\n\u001b[1;32m    317\u001b[0m \u001b[0;34m\u001b[0m\u001b[0m\n\u001b[1;32m    318\u001b[0m         \u001b[0;31m# use axes coords\u001b[0m\u001b[0;34m\u001b[0m\u001b[0;34m\u001b[0m\u001b[0;34m\u001b[0m\u001b[0m\n\u001b[0;32m--> 319\u001b[0;31m         \u001b[0max\u001b[0m\u001b[0;34m.\u001b[0m\u001b[0m_unstale_viewLim\u001b[0m\u001b[0;34m(\u001b[0m\u001b[0;34m)\u001b[0m\u001b[0;34m\u001b[0m\u001b[0;34m\u001b[0m\u001b[0m\n\u001b[0m\u001b[1;32m    320\u001b[0m         \u001b[0mself\u001b[0m\u001b[0;34m.\u001b[0m\u001b[0mset_transform\u001b[0m\u001b[0;34m(\u001b[0m\u001b[0max\u001b[0m\u001b[0;34m.\u001b[0m\u001b[0mtransAxes\u001b[0m\u001b[0;34m)\u001b[0m\u001b[0;34m\u001b[0m\u001b[0;34m\u001b[0m\u001b[0m\n\u001b[1;32m    321\u001b[0m \u001b[0;34m\u001b[0m\u001b[0m\n",
            "\u001b[0;31mAttributeError\u001b[0m: 'Table' object has no attribute '_unstale_viewLim'"
          ]
        }
      ]
    },
    {
      "cell_type": "markdown",
      "metadata": {
        "id": "irsDDkFIT0Zw"
      },
      "source": [
        "# Split Test Set into Validation and Test"
      ]
    },
    {
      "cell_type": "code",
      "metadata": {
        "id": "m9fZZ2AyT9i_"
      },
      "source": [
        "dfX_val, dfX_test_final, y_val, y_test_final = train_test_split(dfX_test, y_test, shuffle=True, train_size=0.5, random_state = 42)"
      ],
      "execution_count": null,
      "outputs": []
    },
    {
      "cell_type": "code",
      "metadata": {
        "id": "5qIdp6HFT9SU"
      },
      "source": [
        ""
      ],
      "execution_count": null,
      "outputs": []
    },
    {
      "cell_type": "markdown",
      "metadata": {
        "id": "3_1h4l6IxKFe"
      },
      "source": [
        "# Formatting Train, Test and Validation"
      ]
    },
    {
      "cell_type": "code",
      "metadata": {
        "id": "vjYZkZQgE28O"
      },
      "source": [
        "#X_train_proc comes from rebalancing classes in train_set above\n",
        "X_train = X_train_proc.iloc[:,:186].values\n",
        "\n",
        "#dfx_test comes from splitting train/test section\n",
        "X_test = dfX_test_final.iloc[:,:186].values\n",
        "\n",
        "X_val = dfX_val.iloc[:,:186].values\n",
        "\n",
        "#for i in range(len(X_train)):\n",
        "#    X_train[i,:186]= add_gaussian_noise(X_train[i,:186])\n",
        "\n",
        "# Changing the shape of X_train and X_test to3D arrays\n",
        "\n",
        "X_train = X_train.reshape(len(X_train), X_train.shape[1],1)\n",
        "X_test_new = X_test.reshape(len(X_test), X_test.shape[1],1)\n",
        "X_val = X_val.reshape(len(X_val), X_val.shape[1],1)\n"
      ],
      "execution_count": null,
      "outputs": []
    },
    {
      "cell_type": "code",
      "metadata": {
        "colab": {
          "base_uri": "https://localhost:8080/"
        },
        "id": "XChjVa24jQJU",
        "outputId": "8d10c2a4-f4ee-40ac-d8b3-72a38a3d0a91"
      },
      "source": [
        "X_test_new.shape"
      ],
      "execution_count": null,
      "outputs": [
        {
          "output_type": "execute_result",
          "data": {
            "text/plain": [
              "(1456, 186, 1)"
            ]
          },
          "metadata": {
            "tags": []
          },
          "execution_count": 23
        }
      ]
    },
    {
      "cell_type": "code",
      "metadata": {
        "colab": {
          "base_uri": "https://localhost:8080/"
        },
        "id": "rcKV9fA8VwUs",
        "outputId": "d840610a-e6a1-43a3-85df-82360e757179"
      },
      "source": [
        "X_val.shape"
      ],
      "execution_count": null,
      "outputs": [
        {
          "output_type": "execute_result",
          "data": {
            "text/plain": [
              "(1455, 186, 1)"
            ]
          },
          "metadata": {
            "tags": []
          },
          "execution_count": 24
        }
      ]
    },
    {
      "cell_type": "code",
      "metadata": {
        "id": "b9WXRUIedFmu"
      },
      "source": [
        "y_train_cat=to_categorical(y_train_proc)\n",
        "y_test_cat=to_categorical(y_test_final)\n",
        "y_val_cat=to_categorical(y_val)\n"
      ],
      "execution_count": null,
      "outputs": []
    },
    {
      "cell_type": "code",
      "metadata": {
        "colab": {
          "base_uri": "https://localhost:8080/"
        },
        "id": "YlwcKz3Pkx_K",
        "outputId": "0180ffb8-426c-4d69-ae09-faee41449f9b"
      },
      "source": [
        "y_train_cat"
      ],
      "execution_count": null,
      "outputs": [
        {
          "output_type": "execute_result",
          "data": {
            "text/plain": [
              "array([[0., 1.],\n",
              "       [1., 0.],\n",
              "       [1., 0.],\n",
              "       ...,\n",
              "       [1., 0.],\n",
              "       [1., 0.],\n",
              "       [1., 0.]], dtype=float32)"
            ]
          },
          "metadata": {
            "tags": []
          },
          "execution_count": 26
        }
      ]
    },
    {
      "cell_type": "markdown",
      "metadata": {
        "id": "xBfurHePbpod"
      },
      "source": [
        "# LSTM NN"
      ]
    },
    {
      "cell_type": "markdown",
      "metadata": {
        "id": "H65kuvi-IeI3"
      },
      "source": [
        "# Network Definition\n",
        "\n",
        "\n",
        "\n",
        "\n",
        "\n"
      ]
    },
    {
      "cell_type": "code",
      "metadata": {
        "id": "wQoIhs4BbxcL"
      },
      "source": [
        "#reference for understanding LSTM return sequence parameter\n",
        "#https://www.dlology.com/blog/how-to-use-return_state-or-return_sequences-in-keras/\n",
        "\n",
        "def network(X_train,y_train,X_test,y_test):\n",
        "    \n",
        "\n",
        "    im_shape=(X_train.shape[1],1)\n",
        "    inputs_lstm=Input(shape=(im_shape), name='inputs_lstm')\n",
        "    lstm_1=LSTM(units=64, return_sequences=True, input_shape=im_shape)(inputs_lstm)\n",
        "    #conv1_1=BatchNormalization()(conv1_1)\n",
        "    #pool1=MaxPool1D(pool_size=(3), strides=(2), padding=\"same\")(conv1_1)\n",
        "    lstm_2=LSTM(units=64, return_sequences=True)(lstm_1)\n",
        "    #conv2_1=BatchNormalization()(conv2_1)\n",
        "    #pool2=MaxPool1D(pool_size=(2), strides=(2), padding=\"same\")(conv2_1)\n",
        "    #conv3_1=Convolution1D(64, (3), activation='relu', input_shape=im_shape)(pool2)\n",
        "    #conv3_1=BatchNormalization()(conv3_1)\n",
        "    #pool3=MaxPool1D(pool_size=(2), strides=(2), padding=\"same\")(conv3_1)\n",
        "    flatten=Flatten()(lstm_2)\n",
        "    #dense_end1 = Dense(64, activation='relu')(flatten)\n",
        "    dense_end2 = Dense(32, activation='relu')(flatten)\n",
        "    main_output = Dense(2, activation='softmax', name='main_output')(dense_end2)\n",
        "    \n",
        "    \n",
        "    model = Model(inputs= inputs_lstm, outputs=main_output)\n",
        "    model.compile(optimizer='adam', loss='categorical_crossentropy',metrics = ['accuracy'])\n",
        "    \n",
        "    \n",
        "    callbacks = [EarlyStopping(monitor='val_loss', patience=10),\n",
        "             ModelCheckpoint(filepath='best_model.h5', monitor='val_loss', save_best_only=True)]\n",
        "\n",
        "    history=model.fit(X_train, y_train, epochs=40,callbacks=callbacks, batch_size=32,validation_data=(X_test,y_test))\n",
        "    model.load_weights('best_model.h5')\n",
        "    return(model,history)"
      ],
      "execution_count": null,
      "outputs": []
    },
    {
      "cell_type": "code",
      "metadata": {
        "colab": {
          "base_uri": "https://localhost:8080/"
        },
        "id": "kHHK7WIvbxWu",
        "outputId": "73486946-71e8-4548-e4db-a2ccee888c3d"
      },
      "source": [
        "model,history=network(X_train,y_train_cat,X_val,y_val_cat)"
      ],
      "execution_count": null,
      "outputs": [
        {
          "output_type": "stream",
          "text": [
            "Epoch 1/40\n",
            "525/525 [==============================] - 41s 15ms/step - loss: 0.4783 - accuracy: 0.7696 - val_loss: 0.2771 - val_accuracy: 0.8667\n",
            "Epoch 2/40\n",
            "525/525 [==============================] - 8s 15ms/step - loss: 0.2367 - accuracy: 0.9031 - val_loss: 0.2340 - val_accuracy: 0.8983\n",
            "Epoch 3/40\n",
            "525/525 [==============================] - 7s 14ms/step - loss: 0.1733 - accuracy: 0.9350 - val_loss: 0.1710 - val_accuracy: 0.9292\n",
            "Epoch 4/40\n",
            "525/525 [==============================] - 7s 14ms/step - loss: 0.1238 - accuracy: 0.9520 - val_loss: 0.1365 - val_accuracy: 0.9546\n",
            "Epoch 5/40\n",
            "525/525 [==============================] - 7s 14ms/step - loss: 0.0893 - accuracy: 0.9666 - val_loss: 0.1221 - val_accuracy: 0.9546\n",
            "Epoch 6/40\n",
            "525/525 [==============================] - 7s 14ms/step - loss: 0.0667 - accuracy: 0.9746 - val_loss: 0.1034 - val_accuracy: 0.9643\n",
            "Epoch 7/40\n",
            "525/525 [==============================] - 8s 15ms/step - loss: 0.0546 - accuracy: 0.9807 - val_loss: 0.0971 - val_accuracy: 0.9656\n",
            "Epoch 8/40\n",
            "525/525 [==============================] - 8s 15ms/step - loss: 0.0400 - accuracy: 0.9865 - val_loss: 0.0768 - val_accuracy: 0.9759\n",
            "Epoch 9/40\n",
            "525/525 [==============================] - 7s 14ms/step - loss: 0.0375 - accuracy: 0.9866 - val_loss: 0.0920 - val_accuracy: 0.9739\n",
            "Epoch 10/40\n",
            "525/525 [==============================] - 7s 14ms/step - loss: 0.0390 - accuracy: 0.9879 - val_loss: 0.0994 - val_accuracy: 0.9698\n",
            "Epoch 11/40\n",
            "525/525 [==============================] - 7s 14ms/step - loss: 0.0269 - accuracy: 0.9894 - val_loss: 0.0980 - val_accuracy: 0.9725\n",
            "Epoch 12/40\n",
            "525/525 [==============================] - 7s 14ms/step - loss: 0.0269 - accuracy: 0.9911 - val_loss: 0.0909 - val_accuracy: 0.9739\n",
            "Epoch 13/40\n",
            "525/525 [==============================] - 7s 14ms/step - loss: 0.0315 - accuracy: 0.9893 - val_loss: 0.0726 - val_accuracy: 0.9794\n",
            "Epoch 14/40\n",
            "525/525 [==============================] - 7s 14ms/step - loss: 0.0204 - accuracy: 0.9933 - val_loss: 0.0707 - val_accuracy: 0.9794\n",
            "Epoch 15/40\n",
            "525/525 [==============================] - 7s 14ms/step - loss: 0.0170 - accuracy: 0.9939 - val_loss: 0.0968 - val_accuracy: 0.9780\n",
            "Epoch 16/40\n",
            "525/525 [==============================] - 7s 14ms/step - loss: 0.0194 - accuracy: 0.9946 - val_loss: 0.0714 - val_accuracy: 0.9794\n",
            "Epoch 17/40\n",
            "525/525 [==============================] - 7s 14ms/step - loss: 0.0132 - accuracy: 0.9959 - val_loss: 0.0669 - val_accuracy: 0.9869\n",
            "Epoch 18/40\n",
            "525/525 [==============================] - 7s 14ms/step - loss: 0.0078 - accuracy: 0.9975 - val_loss: 0.1119 - val_accuracy: 0.9711\n",
            "Epoch 19/40\n",
            "525/525 [==============================] - 8s 14ms/step - loss: 0.0222 - accuracy: 0.9930 - val_loss: 0.0690 - val_accuracy: 0.9835\n",
            "Epoch 20/40\n",
            "525/525 [==============================] - 7s 14ms/step - loss: 0.0126 - accuracy: 0.9961 - val_loss: 0.0705 - val_accuracy: 0.9814\n",
            "Epoch 21/40\n",
            "525/525 [==============================] - 8s 14ms/step - loss: 0.0100 - accuracy: 0.9968 - val_loss: 0.0601 - val_accuracy: 0.9814\n",
            "Epoch 22/40\n",
            "525/525 [==============================] - 7s 14ms/step - loss: 0.0081 - accuracy: 0.9974 - val_loss: 0.0736 - val_accuracy: 0.9801\n",
            "Epoch 23/40\n",
            "525/525 [==============================] - 7s 14ms/step - loss: 0.0080 - accuracy: 0.9969 - val_loss: 0.0530 - val_accuracy: 0.9890\n",
            "Epoch 24/40\n",
            "525/525 [==============================] - 7s 14ms/step - loss: 0.0071 - accuracy: 0.9978 - val_loss: 0.0844 - val_accuracy: 0.9753\n",
            "Epoch 25/40\n",
            "525/525 [==============================] - 8s 15ms/step - loss: 0.0284 - accuracy: 0.9903 - val_loss: 0.0635 - val_accuracy: 0.9828\n",
            "Epoch 26/40\n",
            "525/525 [==============================] - 7s 14ms/step - loss: 0.0085 - accuracy: 0.9976 - val_loss: 0.0579 - val_accuracy: 0.9849\n",
            "Epoch 27/40\n",
            "525/525 [==============================] - 7s 14ms/step - loss: 0.0133 - accuracy: 0.9956 - val_loss: 0.0794 - val_accuracy: 0.9828\n",
            "Epoch 28/40\n",
            "525/525 [==============================] - 7s 14ms/step - loss: 0.0091 - accuracy: 0.9971 - val_loss: 0.0654 - val_accuracy: 0.9863\n",
            "Epoch 29/40\n",
            "525/525 [==============================] - 7s 14ms/step - loss: 0.0025 - accuracy: 0.9996 - val_loss: 0.0676 - val_accuracy: 0.9890\n",
            "Epoch 30/40\n",
            "525/525 [==============================] - 7s 14ms/step - loss: 6.9227e-04 - accuracy: 0.9998 - val_loss: 0.0790 - val_accuracy: 0.9835\n",
            "Epoch 31/40\n",
            "525/525 [==============================] - 7s 14ms/step - loss: 0.0222 - accuracy: 0.9922 - val_loss: 0.0893 - val_accuracy: 0.9808\n",
            "Epoch 32/40\n",
            "525/525 [==============================] - 8s 14ms/step - loss: 0.0169 - accuracy: 0.9947 - val_loss: 0.0564 - val_accuracy: 0.9904\n",
            "Epoch 33/40\n",
            "525/525 [==============================] - 7s 14ms/step - loss: 0.0014 - accuracy: 0.9998 - val_loss: 0.0524 - val_accuracy: 0.9890\n",
            "Epoch 34/40\n",
            "525/525 [==============================] - 7s 14ms/step - loss: 0.0026 - accuracy: 0.9994 - val_loss: 0.0731 - val_accuracy: 0.9842\n",
            "Epoch 35/40\n",
            "525/525 [==============================] - 8s 14ms/step - loss: 0.0112 - accuracy: 0.9969 - val_loss: 0.0708 - val_accuracy: 0.9835\n",
            "Epoch 36/40\n",
            "525/525 [==============================] - 8s 15ms/step - loss: 0.0055 - accuracy: 0.9979 - val_loss: 0.1239 - val_accuracy: 0.9725\n",
            "Epoch 37/40\n",
            "525/525 [==============================] - 7s 14ms/step - loss: 0.0166 - accuracy: 0.9943 - val_loss: 0.0469 - val_accuracy: 0.9904\n",
            "Epoch 38/40\n",
            "525/525 [==============================] - 7s 14ms/step - loss: 5.0410e-04 - accuracy: 1.0000 - val_loss: 0.0786 - val_accuracy: 0.9842\n",
            "Epoch 39/40\n",
            "525/525 [==============================] - 7s 14ms/step - loss: 0.0112 - accuracy: 0.9962 - val_loss: 0.0569 - val_accuracy: 0.9897\n",
            "Epoch 40/40\n",
            "525/525 [==============================] - 8s 15ms/step - loss: 0.0010 - accuracy: 0.9998 - val_loss: 0.0462 - val_accuracy: 0.9904\n"
          ],
          "name": "stdout"
        }
      ]
    },
    {
      "cell_type": "code",
      "metadata": {
        "id": "s-oHg2tVIY9V"
      },
      "source": [
        ""
      ],
      "execution_count": null,
      "outputs": []
    },
    {
      "cell_type": "markdown",
      "metadata": {
        "id": "jfSluSUPIzso"
      },
      "source": [
        "# Model Evaluation"
      ]
    },
    {
      "cell_type": "code",
      "metadata": {
        "id": "RddXdQu1bxZh"
      },
      "source": [
        "def evaluate_model(history,X_test,y_test,model):\n",
        "    scores = model.evaluate((X_test),y_test, verbose=0)\n",
        "    print(\"Accuracy: %.2f%%\" % (scores[1]*100))\n",
        "    \n",
        "    print(history)\n",
        "    fig1, ax_acc = plt.subplots()\n",
        "    plt.plot(history.history['accuracy'])\n",
        "    plt.plot(history.history['val_accuracy'])\n",
        "    plt.xlabel('Epoch')\n",
        "    plt.ylabel('Accuracy')\n",
        "    plt.title('Model - Accuracy')\n",
        "    plt.legend(['Training', 'Validation'], loc='lower right')\n",
        "    plt.show()\n",
        "    \n",
        "    fig2, ax_loss = plt.subplots()\n",
        "    plt.xlabel('Epoch')\n",
        "    plt.ylabel('Loss')\n",
        "    plt.title('Model- Loss')\n",
        "    plt.legend(['Training', 'Validation'], loc='upper right')\n",
        "    plt.plot(history.history['loss'])\n",
        "    plt.plot(history.history['val_loss'])\n",
        "    plt.show()\n",
        "\n",
        "    #Luis: Changed from strings to integer\n",
        "    target_names=[0, 1]\n",
        "    \n",
        "    #y_true=[]\n",
        "    #for element in y_test:\n",
        "    #    y_true.append(np.argmax(element))\n",
        "    #prediction_proba=model.predict(X_test)\n",
        "    #prediction=np.argmax(prediction_proba,axis=1)\n",
        "    #cnf_matrix = confusion_matrix(y_true, prediction)\n",
        "    "
      ],
      "execution_count": null,
      "outputs": []
    },
    {
      "cell_type": "code",
      "metadata": {
        "colab": {
          "base_uri": "https://localhost:8080/",
          "height": 610
        },
        "id": "KTCBKPsLbxT_",
        "outputId": "40929094-9381-4a31-8d24-dbb44ad2edd0"
      },
      "source": [
        "evaluate_model(history,X_val,y_val_cat,model)"
      ],
      "execution_count": null,
      "outputs": [
        {
          "output_type": "stream",
          "text": [
            "Accuracy: 99.04%\n",
            "<tensorflow.python.keras.callbacks.History object at 0x7f7eb14a5850>\n"
          ],
          "name": "stdout"
        },
        {
          "output_type": "display_data",
          "data": {
            "image/png": "[encoded data removed]",
            "text/plain": [
              "<Figure size 432x288 with 1 Axes>"
            ]
          },
          "metadata": {
            "tags": [],
            "needs_background": "light"
          }
        },
        {
          "output_type": "display_data",
          "data": {
            "image/png": "[encoded data removed]",
            "text/plain": [
              "<Figure size 432x288 with 1 Axes>"
            ]
          },
          "metadata": {
            "tags": [],
            "needs_background": "light"
          }
        }
      ]
    },
    {
      "cell_type": "code",
      "metadata": {
        "colab": {
          "base_uri": "https://localhost:8080/"
        },
        "id": "Tsm5skKlNOpL",
        "outputId": "b5295763-a529-4c34-f97a-01043167f7de"
      },
      "source": [
        "y_pred=model.predict(X_test_new)\n",
        "y_pred"
      ],
      "execution_count": null,
      "outputs": [
        {
          "output_type": "execute_result",
          "data": {
            "text/plain": [
              "array([[1.0000000e+00, 5.2995767e-12],\n",
              "       [5.3149446e-19, 1.0000000e+00],\n",
              "       [7.6663848e-05, 9.9992335e-01],\n",
              "       ...,\n",
              "       [9.9857950e-01, 1.4205478e-03],\n",
              "       [2.6711871e-07, 9.9999976e-01],\n",
              "       [5.9812779e-32, 1.0000000e+00]], dtype=float32)"
            ]
          },
          "metadata": {
            "tags": []
          },
          "execution_count": 31
        }
      ]
    },
    {
      "cell_type": "code",
      "metadata": {
        "colab": {
          "base_uri": "https://localhost:8080/"
        },
        "id": "wIsLMU-TkK0p",
        "outputId": "4a338405-fcb1-47b7-f41b-482903a5c713"
      },
      "source": [
        "y_test_cat"
      ],
      "execution_count": null,
      "outputs": [
        {
          "output_type": "execute_result",
          "data": {
            "text/plain": [
              "array([[1., 0.],\n",
              "       [0., 1.],\n",
              "       [0., 1.],\n",
              "       ...,\n",
              "       [1., 0.],\n",
              "       [0., 1.],\n",
              "       [0., 1.]], dtype=float32)"
            ]
          },
          "metadata": {
            "tags": []
          },
          "execution_count": 32
        }
      ]
    },
    {
      "cell_type": "code",
      "metadata": {
        "colab": {
          "base_uri": "https://localhost:8080/"
        },
        "id": "CS6uUUGGyEyE",
        "outputId": "328e866e-97cc-4dbe-d4c2-c243833b312b"
      },
      "source": [
        "y_check = y_test_cat.argmax(axis=1)\n",
        "np.count_nonzero(y_check == 1)"
      ],
      "execution_count": null,
      "outputs": [
        {
          "output_type": "execute_result",
          "data": {
            "text/plain": [
              "1051"
            ]
          },
          "metadata": {
            "tags": []
          },
          "execution_count": 33
        }
      ]
    },
    {
      "cell_type": "code",
      "metadata": {
        "id": "-U_Sb3RYbxQ5"
      },
      "source": [
        "#\n",
        "import itertools\n",
        "def plot_confusion_matrix(cm, classes,\n",
        "                          normalize=False,\n",
        "                          title='Confusion matrix',\n",
        "                          cmap=plt.cm.Blues):\n",
        "    \"\"\"\n",
        "    This function prints and plots the confusion matrix.\n",
        "    Normalization can be applied by setting `normalize=True`.\n",
        "    \"\"\"\n",
        "    if normalize:\n",
        "        cm = cm.astype('float') / cm.sum(axis=1)[:, np.newaxis]\n",
        "        print(\"Normalized confusion matrix\")\n",
        "    else:\n",
        "        print('Confusion matrix, without normalization')\n",
        "\n",
        "    plt.imshow(cm, interpolation='nearest', cmap=cmap)\n",
        "    plt.title(title)\n",
        "    plt.colorbar()\n",
        "    tick_marks = np.arange(len(classes))\n",
        "    plt.xticks(tick_marks, classes, rotation=0)\n",
        "    plt.yticks(tick_marks, classes, rotation=90)\n",
        "\n",
        "    fmt = '.2f' if normalize else 'd'\n",
        "    thresh = cm.max() / 2.\n",
        "    for i, j in itertools.product(range(cm.shape[0]), range(cm.shape[1])):\n",
        "        plt.text(j, i, format(cm[i, j], fmt),\n",
        "                 horizontalalignment=\"center\",\n",
        "                 color=\"white\" if cm[i, j] > thresh else \"black\")\n",
        "\n",
        "    plt.tight_layout()\n",
        "    plt.ylabel('True label')\n",
        "    plt.xlabel('Predicted label')"
      ],
      "execution_count": null,
      "outputs": []
    },
    {
      "cell_type": "code",
      "metadata": {
        "id": "mIPGRA3dbxK7",
        "colab": {
          "base_uri": "https://localhost:8080/",
          "height": 387
        },
        "outputId": "8854d566-15e8-4b14-d260-e19534bcae76"
      },
      "source": [
        "# Compute confusion matrix\n",
        "cnf_matrix = confusion_matrix(y_test_cat.argmax(axis=1), y_pred.argmax(axis=1))\n",
        "np.set_printoptions(precision=2)\n",
        "\n",
        "# Plot non-normalized confusion matrix\n",
        "plt.figure(figsize=(5, 5))\n",
        "plot_confusion_matrix(cnf_matrix, classes=['Normal', 'MI'],normalize=True,\n",
        "                      title='Confusion matrix, with normalization')\n",
        "plt.show()"
      ],
      "execution_count": null,
      "outputs": [
        {
          "output_type": "stream",
          "text": [
            "Normalized confusion matrix\n"
          ],
          "name": "stdout"
        },
        {
          "output_type": "display_data",
          "data": {
            "image/png": "[encoded data removed]",
            "text/plain": [
              "<Figure size 360x360 with 2 Axes>"
            ]
          },
          "metadata": {
            "tags": [],
            "needs_background": "light"
          }
        }
      ]
    },
    {
      "cell_type": "code",
      "metadata": {
        "id": "5qJeekiKbxH0",
        "colab": {
          "base_uri": "https://localhost:8080/"
        },
        "outputId": "f81d7b02-3538-4d11-f3c0-42aec9eed1ee"
      },
      "source": [
        "target_names = ['Normal', 'MI']\n",
        "print(classification_report(y_test_cat.argmax(axis=1), y_pred.argmax(axis=1),target_names=target_names))"
      ],
      "execution_count": null,
      "outputs": [
        {
          "output_type": "stream",
          "text": [
            "              precision    recall  f1-score   support\n",
            "\n",
            "      Normal       0.96      0.97      0.97       405\n",
            "          MI       0.99      0.99      0.99      1051\n",
            "\n",
            "    accuracy                           0.98      1456\n",
            "   macro avg       0.98      0.98      0.98      1456\n",
            "weighted avg       0.98      0.98      0.98      1456\n",
            "\n"
          ],
          "name": "stdout"
        }
      ]
    },
    {
      "cell_type": "code",
      "metadata": {
        "id": "G6Ck03QIbxEY"
      },
      "source": [
        ""
      ],
      "execution_count": null,
      "outputs": []
    },
    {
      "cell_type": "code",
      "metadata": {
        "id": "doDB1q0AX2vy"
      },
      "source": [
        "LSTM_Metric = [0.99, 0.99, 0.99, 0.99]\n",
        "CNN_Metric = [0.98, 0.99, 0.99, 0.99]\n",
        "XGB_Metric = [0.98, 0.98, 0.99, 0.99]\n",
        "index = ['LSTM', 'CNN', 'XGBoost']"
      ],
      "execution_count": null,
      "outputs": []
    },
    {
      "cell_type": "code",
      "metadata": {
        "id": "yGSIcEXuX2sG"
      },
      "source": [
        "df_metric = pd.DataFrame((LSTM_Metric,CNN_Metric,XGB_Metric), index=index, \n",
        "                         columns=['Accuracy', 'Precision','Recall','f1-Score'])\n"
      ],
      "execution_count": null,
      "outputs": []
    },
    {
      "cell_type": "code",
      "metadata": {
        "id": "jjzoZs1IX2oP"
      },
      "source": [
        "df_F1 = df_metric[['f1-Score']].reset_index().rename(columns={'index': 'Model'}, inplace=False)"
      ],
      "execution_count": null,
      "outputs": []
    },
    {
      "cell_type": "code",
      "metadata": {
        "id": "fGcbfLs_X2VV",
        "colab": {
          "base_uri": "https://localhost:8080/",
          "height": 143
        },
        "outputId": "759af8eb-4079-4db8-d124-6701ec0b7c53"
      },
      "source": [
        "df_F1"
      ],
      "execution_count": null,
      "outputs": [
        {
          "output_type": "execute_result",
          "data": {
            "text/html": [
              "<div>\n",
              "<style scoped>\n",
              "    .dataframe tbody tr th:only-of-type {\n",
              "        vertical-align: middle;\n",
              "    }\n",
              "\n",
              "    .dataframe tbody tr th {\n",
              "        vertical-align: top;\n",
              "    }\n",
              "\n",
              "    .dataframe thead th {\n",
              "        text-align: right;\n",
              "    }\n",
              "</style>\n",
              "<table border=\"1\" class=\"dataframe\">\n",
              "  <thead>\n",
              "    <tr style=\"text-align: right;\">\n",
              "      <th></th>\n",
              "      <th>Model</th>\n",
              "      <th>f1-Score</th>\n",
              "    </tr>\n",
              "  </thead>\n",
              "  <tbody>\n",
              "    <tr>\n",
              "      <th>0</th>\n",
              "      <td>LSTM</td>\n",
              "      <td>0.99</td>\n",
              "    </tr>\n",
              "    <tr>\n",
              "      <th>1</th>\n",
              "      <td>CNN</td>\n",
              "      <td>0.99</td>\n",
              "    </tr>\n",
              "    <tr>\n",
              "      <th>2</th>\n",
              "      <td>XGBoost</td>\n",
              "      <td>0.99</td>\n",
              "    </tr>\n",
              "  </tbody>\n",
              "</table>\n",
              "</div>"
            ],
            "text/plain": [
              "     Model  f1-Score\n",
              "0     LSTM      0.99\n",
              "1      CNN      0.99\n",
              "2  XGBoost      0.99"
            ]
          },
          "metadata": {
            "tags": []
          },
          "execution_count": 69
        }
      ]
    },
    {
      "cell_type": "code",
      "metadata": {
        "id": "wYdXppFPQW4M"
      },
      "source": [
        ""
      ],
      "execution_count": null,
      "outputs": []
    },
    {
      "cell_type": "code",
      "metadata": {
        "id": "e1nmSpRKwc2r"
      },
      "source": [
        ""
      ],
      "execution_count": null,
      "outputs": []
    },
    {
      "cell_type": "markdown",
      "metadata": {
        "id": "G7heMaFowU6m"
      },
      "source": [
        "# Clean LSTM Model"
      ]
    },
    {
      "cell_type": "code",
      "metadata": {
        "id": "SrGj5DWiwYo8"
      },
      "source": [
        "def network(X_train,y_train,X_test,y_test):\n",
        "    \n",
        "\n",
        "    im_shape=(X_train.shape[1],1)\n",
        "    inputs_lstm=Input(shape=(im_shape), name='inputs_lstm')\n",
        "    lstm_1=LSTM(units=64, return_sequences=True, input_shape=im_shape)(inputs_lstm)\n",
        "    lstm_2=LSTM(units=64, return_sequences=True)(lstm_1)\n",
        "    flatten=Flatten()(lstm_2)\n",
        "    dense_end2 = Dense(32, activation='relu')(flatten)\n",
        "    main_output = Dense(2, activation='softmax', name='main_output')(dense_end2)\n",
        "    \n",
        "    \n",
        "    model = Model(inputs= inputs_lstm, outputs=main_output)\n",
        "    model.compile(optimizer='adam', loss='categorical_crossentropy',metrics = ['accuracy'])\n",
        "    \n",
        "    \n",
        "    callbacks = [EarlyStopping(monitor='val_loss', patience=10),\n",
        "             ModelCheckpoint(filepath='best_model.h5', monitor='val_loss', save_best_only=True)]\n",
        "\n",
        "    history=model.fit(X_train, y_train,\n",
        "                      epochs=40,\n",
        "                      callbacks=callbacks, \n",
        "                      batch_size=32,\n",
        "                      validation_data=(X_test,y_test))\n",
        "    model.load_weights('best_model.h5')\n",
        "    return(model,history)"
      ],
      "execution_count": null,
      "outputs": []
    }
  ]
}