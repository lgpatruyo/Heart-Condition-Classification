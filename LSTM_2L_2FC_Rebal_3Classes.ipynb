{
  "nbformat": 4,
  "nbformat_minor": 0,
  "metadata": {
    "colab": {
      "name": "LSTM_2L_2FC_Rebal_3Classes",
      "provenance": [],
      "collapsed_sections": [],
      "toc_visible": true,
      "mount_file_id": "1VpNB7mk9SvGIDsP5aHX01eohsa2cVgWe",
      "authorship_tag": "ABX9TyM7/B5+OKdF9U+byz8ORYsC",
      "include_colab_link": true
    },
    "kernelspec": {
      "name": "python3",
      "display_name": "Python 3"
    }
  },
  "cells": [
    {
      "cell_type": "markdown",
      "metadata": {
        "id": "view-in-github",
        "colab_type": "text"
      },
      "source": [
        "<a href=\"https://colab.research.google.com/github/lgpatruyo/Heart-Condition-Classification/blob/main/LSTM_2L_2FC_Rebal_3Classes.ipynb\" target=\"_parent\"><img src=\"https://colab.research.google.com/assets/colab-badge.svg\" alt=\"Open In Colab\"/></a>"
      ]
    },
    {
      "cell_type": "code",
      "metadata": {
        "colab": {
          "base_uri": "https://localhost:8080/"
        },
        "id": "uSCwZ7ejf4MQ",
        "outputId": "c700f658-0664-487d-8f7a-2468aaec8c2f"
      },
      "source": [
        "from google.colab import drive\n",
        "drive.mount('/content/drive')"
      ],
      "execution_count": null,
      "outputs": [
        {
          "output_type": "stream",
          "text": [
            "Drive already mounted at /content/drive; to attempt to forcibly remount, call drive.mount(\"/content/drive\", force_remount=True).\n"
          ],
          "name": "stdout"
        }
      ]
    },
    {
      "cell_type": "code",
      "metadata": {
        "id": "WUzkDbd-Ydr6"
      },
      "source": [
        ""
      ],
      "execution_count": null,
      "outputs": []
    },
    {
      "cell_type": "markdown",
      "metadata": {
        "id": "mOzsosXnagSl"
      },
      "source": [
        "# Modules"
      ]
    },
    {
      "cell_type": "code",
      "metadata": {
        "id": "N4PKyiR5EPf0"
      },
      "source": [
        "from keras.layers import Dense, Convolution1D, MaxPool1D, Flatten, Dropout, LSTM\n",
        "from keras.layers import Input\n",
        "from keras.models import Model\n",
        "from keras.layers.normalization import BatchNormalization\n",
        "import keras\n",
        "from keras.callbacks import EarlyStopping, ModelCheckpoint\n",
        "from keras.utils.np_utils import to_categorical"
      ],
      "execution_count": null,
      "outputs": []
    },
    {
      "cell_type": "code",
      "metadata": {
        "id": "1xIIfdtAgwkD"
      },
      "source": [
        "# Modules\n",
        "import pandas as pd\n",
        "import numpy as np\n",
        "from sklearn.model_selection import train_test_split\n",
        "# Importing metrics\n",
        "from sklearn.metrics import mean_squared_error\n",
        "from sklearn.metrics import accuracy_score\n",
        "from sklearn.metrics import confusion_matrix\n",
        "from sklearn.metrics import plot_confusion_matrix\n",
        "from sklearn.metrics import classification_report\n",
        "from sklearn.preprocessing import MinMaxScaler\n",
        "\n",
        "import plotly.express as px\n",
        "import matplotlib.pyplot as plt\n",
        "%matplotlib inline\n"
      ],
      "execution_count": null,
      "outputs": []
    },
    {
      "cell_type": "code",
      "metadata": {
        "id": "bx1pxY1nXi1a"
      },
      "source": [
        ""
      ],
      "execution_count": null,
      "outputs": []
    },
    {
      "cell_type": "markdown",
      "metadata": {
        "id": "z7t-QewPXjOT"
      },
      "source": [
        "# Collecting MIT Dataset"
      ]
    },
    {
      "cell_type": "code",
      "metadata": {
        "id": "YEDjrCm-XtF6"
      },
      "source": [
        "# IMPORTING MIT TRAINING DATA FROM MY DRIVE\n",
        "df_MIT_Train = pd.read_csv('/content/drive/MyDrive/Colab Notebooks/Final_Project/Data/mitbih_train.csv', header=None)"
      ],
      "execution_count": null,
      "outputs": []
    },
    {
      "cell_type": "code",
      "metadata": {
        "colab": {
          "base_uri": "https://localhost:8080/"
        },
        "id": "T19SEYz6XtDG",
        "outputId": "8fc40cf6-7c20-4bc6-e670-4ca5b29705ee"
      },
      "source": [
        "df_MIT_Train[187].value_counts()"
      ],
      "execution_count": null,
      "outputs": [
        {
          "output_type": "execute_result",
          "data": {
            "text/plain": [
              "0.0    72471\n",
              "4.0     6431\n",
              "2.0     5788\n",
              "1.0     2223\n",
              "3.0      641\n",
              "Name: 187, dtype: int64"
            ]
          },
          "metadata": {
            "tags": []
          },
          "execution_count": 4
        }
      ]
    },
    {
      "cell_type": "code",
      "metadata": {
        "colab": {
          "base_uri": "https://localhost:8080/"
        },
        "id": "yHntqabXZEoP",
        "outputId": "40b75179-1cf1-4eef-b978-c7bbed40ad79"
      },
      "source": [
        "df_MIT_Train_VE = df_MIT_Train[df_MIT_Train[187]==2].reset_index().drop(['index'], axis=1)\n",
        "df_MIT_Train_VE.index"
      ],
      "execution_count": null,
      "outputs": [
        {
          "output_type": "execute_result",
          "data": {
            "text/plain": [
              "RangeIndex(start=0, stop=5788, step=1)"
            ]
          },
          "metadata": {
            "tags": []
          },
          "execution_count": 5
        }
      ]
    },
    {
      "cell_type": "code",
      "metadata": {
        "colab": {
          "base_uri": "https://localhost:8080/",
          "height": 255
        },
        "id": "qfw-FLddaEmu",
        "outputId": "83b35e11-a44b-456e-c919-9baa86029649"
      },
      "source": [
        "df_MIT_Train_VE.head()"
      ],
      "execution_count": null,
      "outputs": [
        {
          "output_type": "execute_result",
          "data": {
            "text/html": [
              "<div>\n",
              "<style scoped>\n",
              "    .dataframe tbody tr th:only-of-type {\n",
              "        vertical-align: middle;\n",
              "    }\n",
              "\n",
              "    .dataframe tbody tr th {\n",
              "        vertical-align: top;\n",
              "    }\n",
              "\n",
              "    .dataframe thead th {\n",
              "        text-align: right;\n",
              "    }\n",
              "</style>\n",
              "<table border=\"1\" class=\"dataframe\">\n",
              "  <thead>\n",
              "    <tr style=\"text-align: right;\">\n",
              "      <th></th>\n",
              "      <th>0</th>\n",
              "      <th>1</th>\n",
              "      <th>2</th>\n",
              "      <th>3</th>\n",
              "      <th>4</th>\n",
              "      <th>5</th>\n",
              "      <th>6</th>\n",
              "      <th>7</th>\n",
              "      <th>8</th>\n",
              "      <th>9</th>\n",
              "      <th>10</th>\n",
              "      <th>11</th>\n",
              "      <th>12</th>\n",
              "      <th>13</th>\n",
              "      <th>14</th>\n",
              "      <th>15</th>\n",
              "      <th>16</th>\n",
              "      <th>17</th>\n",
              "      <th>18</th>\n",
              "      <th>19</th>\n",
              "      <th>20</th>\n",
              "      <th>21</th>\n",
              "      <th>22</th>\n",
              "      <th>23</th>\n",
              "      <th>24</th>\n",
              "      <th>25</th>\n",
              "      <th>26</th>\n",
              "      <th>27</th>\n",
              "      <th>28</th>\n",
              "      <th>29</th>\n",
              "      <th>30</th>\n",
              "      <th>31</th>\n",
              "      <th>32</th>\n",
              "      <th>33</th>\n",
              "      <th>34</th>\n",
              "      <th>35</th>\n",
              "      <th>36</th>\n",
              "      <th>37</th>\n",
              "      <th>38</th>\n",
              "      <th>39</th>\n",
              "      <th>...</th>\n",
              "      <th>148</th>\n",
              "      <th>149</th>\n",
              "      <th>150</th>\n",
              "      <th>151</th>\n",
              "      <th>152</th>\n",
              "      <th>153</th>\n",
              "      <th>154</th>\n",
              "      <th>155</th>\n",
              "      <th>156</th>\n",
              "      <th>157</th>\n",
              "      <th>158</th>\n",
              "      <th>159</th>\n",
              "      <th>160</th>\n",
              "      <th>161</th>\n",
              "      <th>162</th>\n",
              "      <th>163</th>\n",
              "      <th>164</th>\n",
              "      <th>165</th>\n",
              "      <th>166</th>\n",
              "      <th>167</th>\n",
              "      <th>168</th>\n",
              "      <th>169</th>\n",
              "      <th>170</th>\n",
              "      <th>171</th>\n",
              "      <th>172</th>\n",
              "      <th>173</th>\n",
              "      <th>174</th>\n",
              "      <th>175</th>\n",
              "      <th>176</th>\n",
              "      <th>177</th>\n",
              "      <th>178</th>\n",
              "      <th>179</th>\n",
              "      <th>180</th>\n",
              "      <th>181</th>\n",
              "      <th>182</th>\n",
              "      <th>183</th>\n",
              "      <th>184</th>\n",
              "      <th>185</th>\n",
              "      <th>186</th>\n",
              "      <th>187</th>\n",
              "    </tr>\n",
              "  </thead>\n",
              "  <tbody>\n",
              "    <tr>\n",
              "      <th>0</th>\n",
              "      <td>0.000000</td>\n",
              "      <td>0.009756</td>\n",
              "      <td>0.074390</td>\n",
              "      <td>0.162195</td>\n",
              "      <td>0.240244</td>\n",
              "      <td>0.291463</td>\n",
              "      <td>0.370732</td>\n",
              "      <td>0.442683</td>\n",
              "      <td>0.498780</td>\n",
              "      <td>0.560976</td>\n",
              "      <td>0.612195</td>\n",
              "      <td>0.612195</td>\n",
              "      <td>0.606098</td>\n",
              "      <td>0.614634</td>\n",
              "      <td>0.615854</td>\n",
              "      <td>0.631707</td>\n",
              "      <td>0.641463</td>\n",
              "      <td>0.632927</td>\n",
              "      <td>0.648780</td>\n",
              "      <td>0.667073</td>\n",
              "      <td>0.691463</td>\n",
              "      <td>0.682927</td>\n",
              "      <td>0.712195</td>\n",
              "      <td>0.730488</td>\n",
              "      <td>0.735366</td>\n",
              "      <td>0.731707</td>\n",
              "      <td>0.741463</td>\n",
              "      <td>0.732927</td>\n",
              "      <td>0.724390</td>\n",
              "      <td>0.690244</td>\n",
              "      <td>0.663415</td>\n",
              "      <td>0.653659</td>\n",
              "      <td>0.600000</td>\n",
              "      <td>0.569512</td>\n",
              "      <td>0.553659</td>\n",
              "      <td>0.530488</td>\n",
              "      <td>0.518293</td>\n",
              "      <td>0.503659</td>\n",
              "      <td>0.486585</td>\n",
              "      <td>0.496341</td>\n",
              "      <td>...</td>\n",
              "      <td>0.0</td>\n",
              "      <td>0.0</td>\n",
              "      <td>0.0</td>\n",
              "      <td>0.0</td>\n",
              "      <td>0.0</td>\n",
              "      <td>0.0</td>\n",
              "      <td>0.0</td>\n",
              "      <td>0.0</td>\n",
              "      <td>0.0</td>\n",
              "      <td>0.0</td>\n",
              "      <td>0.0</td>\n",
              "      <td>0.0</td>\n",
              "      <td>0.0</td>\n",
              "      <td>0.0</td>\n",
              "      <td>0.0</td>\n",
              "      <td>0.0</td>\n",
              "      <td>0.0</td>\n",
              "      <td>0.0</td>\n",
              "      <td>0.0</td>\n",
              "      <td>0.0</td>\n",
              "      <td>0.0</td>\n",
              "      <td>0.0</td>\n",
              "      <td>0.0</td>\n",
              "      <td>0.0</td>\n",
              "      <td>0.0</td>\n",
              "      <td>0.0</td>\n",
              "      <td>0.0</td>\n",
              "      <td>0.0</td>\n",
              "      <td>0.0</td>\n",
              "      <td>0.0</td>\n",
              "      <td>0.0</td>\n",
              "      <td>0.0</td>\n",
              "      <td>0.0</td>\n",
              "      <td>0.0</td>\n",
              "      <td>0.0</td>\n",
              "      <td>0.0</td>\n",
              "      <td>0.0</td>\n",
              "      <td>0.0</td>\n",
              "      <td>0.0</td>\n",
              "      <td>2.0</td>\n",
              "    </tr>\n",
              "    <tr>\n",
              "      <th>1</th>\n",
              "      <td>1.000000</td>\n",
              "      <td>0.865672</td>\n",
              "      <td>0.660448</td>\n",
              "      <td>0.458955</td>\n",
              "      <td>0.242537</td>\n",
              "      <td>0.126866</td>\n",
              "      <td>0.164179</td>\n",
              "      <td>0.242537</td>\n",
              "      <td>0.298507</td>\n",
              "      <td>0.350746</td>\n",
              "      <td>0.373134</td>\n",
              "      <td>0.440298</td>\n",
              "      <td>0.447761</td>\n",
              "      <td>0.444030</td>\n",
              "      <td>0.425373</td>\n",
              "      <td>0.410448</td>\n",
              "      <td>0.414179</td>\n",
              "      <td>0.399254</td>\n",
              "      <td>0.406716</td>\n",
              "      <td>0.406716</td>\n",
              "      <td>0.395522</td>\n",
              "      <td>0.388060</td>\n",
              "      <td>0.399254</td>\n",
              "      <td>0.414179</td>\n",
              "      <td>0.425373</td>\n",
              "      <td>0.425373</td>\n",
              "      <td>0.451493</td>\n",
              "      <td>0.496269</td>\n",
              "      <td>0.537313</td>\n",
              "      <td>0.544776</td>\n",
              "      <td>0.611940</td>\n",
              "      <td>0.664179</td>\n",
              "      <td>0.701493</td>\n",
              "      <td>0.727612</td>\n",
              "      <td>0.750000</td>\n",
              "      <td>0.761194</td>\n",
              "      <td>0.746269</td>\n",
              "      <td>0.712687</td>\n",
              "      <td>0.697761</td>\n",
              "      <td>0.690298</td>\n",
              "      <td>...</td>\n",
              "      <td>0.0</td>\n",
              "      <td>0.0</td>\n",
              "      <td>0.0</td>\n",
              "      <td>0.0</td>\n",
              "      <td>0.0</td>\n",
              "      <td>0.0</td>\n",
              "      <td>0.0</td>\n",
              "      <td>0.0</td>\n",
              "      <td>0.0</td>\n",
              "      <td>0.0</td>\n",
              "      <td>0.0</td>\n",
              "      <td>0.0</td>\n",
              "      <td>0.0</td>\n",
              "      <td>0.0</td>\n",
              "      <td>0.0</td>\n",
              "      <td>0.0</td>\n",
              "      <td>0.0</td>\n",
              "      <td>0.0</td>\n",
              "      <td>0.0</td>\n",
              "      <td>0.0</td>\n",
              "      <td>0.0</td>\n",
              "      <td>0.0</td>\n",
              "      <td>0.0</td>\n",
              "      <td>0.0</td>\n",
              "      <td>0.0</td>\n",
              "      <td>0.0</td>\n",
              "      <td>0.0</td>\n",
              "      <td>0.0</td>\n",
              "      <td>0.0</td>\n",
              "      <td>0.0</td>\n",
              "      <td>0.0</td>\n",
              "      <td>0.0</td>\n",
              "      <td>0.0</td>\n",
              "      <td>0.0</td>\n",
              "      <td>0.0</td>\n",
              "      <td>0.0</td>\n",
              "      <td>0.0</td>\n",
              "      <td>0.0</td>\n",
              "      <td>0.0</td>\n",
              "      <td>2.0</td>\n",
              "    </tr>\n",
              "    <tr>\n",
              "      <th>2</th>\n",
              "      <td>0.556728</td>\n",
              "      <td>0.530343</td>\n",
              "      <td>0.440633</td>\n",
              "      <td>0.290237</td>\n",
              "      <td>0.171504</td>\n",
              "      <td>0.055409</td>\n",
              "      <td>0.005277</td>\n",
              "      <td>0.042216</td>\n",
              "      <td>0.000000</td>\n",
              "      <td>0.013193</td>\n",
              "      <td>0.044855</td>\n",
              "      <td>0.126649</td>\n",
              "      <td>0.213720</td>\n",
              "      <td>0.242744</td>\n",
              "      <td>0.253298</td>\n",
              "      <td>0.313984</td>\n",
              "      <td>0.361478</td>\n",
              "      <td>0.393140</td>\n",
              "      <td>0.456464</td>\n",
              "      <td>0.569921</td>\n",
              "      <td>0.604222</td>\n",
              "      <td>0.606860</td>\n",
              "      <td>0.612137</td>\n",
              "      <td>0.635884</td>\n",
              "      <td>0.641161</td>\n",
              "      <td>0.630607</td>\n",
              "      <td>0.656992</td>\n",
              "      <td>0.675462</td>\n",
              "      <td>0.678100</td>\n",
              "      <td>0.683377</td>\n",
              "      <td>0.688654</td>\n",
              "      <td>0.709763</td>\n",
              "      <td>0.725594</td>\n",
              "      <td>0.741425</td>\n",
              "      <td>0.762533</td>\n",
              "      <td>0.778364</td>\n",
              "      <td>0.786280</td>\n",
              "      <td>0.738786</td>\n",
              "      <td>0.717678</td>\n",
              "      <td>0.746702</td>\n",
              "      <td>...</td>\n",
              "      <td>0.0</td>\n",
              "      <td>0.0</td>\n",
              "      <td>0.0</td>\n",
              "      <td>0.0</td>\n",
              "      <td>0.0</td>\n",
              "      <td>0.0</td>\n",
              "      <td>0.0</td>\n",
              "      <td>0.0</td>\n",
              "      <td>0.0</td>\n",
              "      <td>0.0</td>\n",
              "      <td>0.0</td>\n",
              "      <td>0.0</td>\n",
              "      <td>0.0</td>\n",
              "      <td>0.0</td>\n",
              "      <td>0.0</td>\n",
              "      <td>0.0</td>\n",
              "      <td>0.0</td>\n",
              "      <td>0.0</td>\n",
              "      <td>0.0</td>\n",
              "      <td>0.0</td>\n",
              "      <td>0.0</td>\n",
              "      <td>0.0</td>\n",
              "      <td>0.0</td>\n",
              "      <td>0.0</td>\n",
              "      <td>0.0</td>\n",
              "      <td>0.0</td>\n",
              "      <td>0.0</td>\n",
              "      <td>0.0</td>\n",
              "      <td>0.0</td>\n",
              "      <td>0.0</td>\n",
              "      <td>0.0</td>\n",
              "      <td>0.0</td>\n",
              "      <td>0.0</td>\n",
              "      <td>0.0</td>\n",
              "      <td>0.0</td>\n",
              "      <td>0.0</td>\n",
              "      <td>0.0</td>\n",
              "      <td>0.0</td>\n",
              "      <td>0.0</td>\n",
              "      <td>2.0</td>\n",
              "    </tr>\n",
              "    <tr>\n",
              "      <th>3</th>\n",
              "      <td>1.000000</td>\n",
              "      <td>0.968031</td>\n",
              "      <td>0.782609</td>\n",
              "      <td>0.512788</td>\n",
              "      <td>0.418159</td>\n",
              "      <td>0.381074</td>\n",
              "      <td>0.347826</td>\n",
              "      <td>0.320972</td>\n",
              "      <td>0.312020</td>\n",
              "      <td>0.295396</td>\n",
              "      <td>0.291560</td>\n",
              "      <td>0.281330</td>\n",
              "      <td>0.271100</td>\n",
              "      <td>0.268542</td>\n",
              "      <td>0.260870</td>\n",
              "      <td>0.248082</td>\n",
              "      <td>0.235294</td>\n",
              "      <td>0.227621</td>\n",
              "      <td>0.216113</td>\n",
              "      <td>0.202046</td>\n",
              "      <td>0.182864</td>\n",
              "      <td>0.159847</td>\n",
              "      <td>0.144501</td>\n",
              "      <td>0.125320</td>\n",
              "      <td>0.103581</td>\n",
              "      <td>0.083120</td>\n",
              "      <td>0.060102</td>\n",
              "      <td>0.044757</td>\n",
              "      <td>0.033248</td>\n",
              "      <td>0.016624</td>\n",
              "      <td>0.006394</td>\n",
              "      <td>0.003836</td>\n",
              "      <td>0.000000</td>\n",
              "      <td>0.008951</td>\n",
              "      <td>0.015345</td>\n",
              "      <td>0.034527</td>\n",
              "      <td>0.048593</td>\n",
              "      <td>0.066496</td>\n",
              "      <td>0.094629</td>\n",
              "      <td>0.122762</td>\n",
              "      <td>...</td>\n",
              "      <td>0.0</td>\n",
              "      <td>0.0</td>\n",
              "      <td>0.0</td>\n",
              "      <td>0.0</td>\n",
              "      <td>0.0</td>\n",
              "      <td>0.0</td>\n",
              "      <td>0.0</td>\n",
              "      <td>0.0</td>\n",
              "      <td>0.0</td>\n",
              "      <td>0.0</td>\n",
              "      <td>0.0</td>\n",
              "      <td>0.0</td>\n",
              "      <td>0.0</td>\n",
              "      <td>0.0</td>\n",
              "      <td>0.0</td>\n",
              "      <td>0.0</td>\n",
              "      <td>0.0</td>\n",
              "      <td>0.0</td>\n",
              "      <td>0.0</td>\n",
              "      <td>0.0</td>\n",
              "      <td>0.0</td>\n",
              "      <td>0.0</td>\n",
              "      <td>0.0</td>\n",
              "      <td>0.0</td>\n",
              "      <td>0.0</td>\n",
              "      <td>0.0</td>\n",
              "      <td>0.0</td>\n",
              "      <td>0.0</td>\n",
              "      <td>0.0</td>\n",
              "      <td>0.0</td>\n",
              "      <td>0.0</td>\n",
              "      <td>0.0</td>\n",
              "      <td>0.0</td>\n",
              "      <td>0.0</td>\n",
              "      <td>0.0</td>\n",
              "      <td>0.0</td>\n",
              "      <td>0.0</td>\n",
              "      <td>0.0</td>\n",
              "      <td>0.0</td>\n",
              "      <td>2.0</td>\n",
              "    </tr>\n",
              "    <tr>\n",
              "      <th>4</th>\n",
              "      <td>0.000000</td>\n",
              "      <td>0.037681</td>\n",
              "      <td>0.101449</td>\n",
              "      <td>0.215942</td>\n",
              "      <td>0.236232</td>\n",
              "      <td>0.349275</td>\n",
              "      <td>0.389855</td>\n",
              "      <td>0.485507</td>\n",
              "      <td>0.539130</td>\n",
              "      <td>0.601449</td>\n",
              "      <td>0.611594</td>\n",
              "      <td>0.652174</td>\n",
              "      <td>0.686957</td>\n",
              "      <td>0.707246</td>\n",
              "      <td>0.711594</td>\n",
              "      <td>0.747826</td>\n",
              "      <td>0.786957</td>\n",
              "      <td>0.784058</td>\n",
              "      <td>0.814493</td>\n",
              "      <td>0.853623</td>\n",
              "      <td>0.866667</td>\n",
              "      <td>0.871014</td>\n",
              "      <td>0.907246</td>\n",
              "      <td>0.943478</td>\n",
              "      <td>0.924638</td>\n",
              "      <td>1.000000</td>\n",
              "      <td>0.946377</td>\n",
              "      <td>0.979710</td>\n",
              "      <td>0.875362</td>\n",
              "      <td>0.886957</td>\n",
              "      <td>0.810145</td>\n",
              "      <td>0.782609</td>\n",
              "      <td>0.728985</td>\n",
              "      <td>0.697101</td>\n",
              "      <td>0.666667</td>\n",
              "      <td>0.637681</td>\n",
              "      <td>0.639130</td>\n",
              "      <td>0.647826</td>\n",
              "      <td>0.582609</td>\n",
              "      <td>0.636232</td>\n",
              "      <td>...</td>\n",
              "      <td>0.0</td>\n",
              "      <td>0.0</td>\n",
              "      <td>0.0</td>\n",
              "      <td>0.0</td>\n",
              "      <td>0.0</td>\n",
              "      <td>0.0</td>\n",
              "      <td>0.0</td>\n",
              "      <td>0.0</td>\n",
              "      <td>0.0</td>\n",
              "      <td>0.0</td>\n",
              "      <td>0.0</td>\n",
              "      <td>0.0</td>\n",
              "      <td>0.0</td>\n",
              "      <td>0.0</td>\n",
              "      <td>0.0</td>\n",
              "      <td>0.0</td>\n",
              "      <td>0.0</td>\n",
              "      <td>0.0</td>\n",
              "      <td>0.0</td>\n",
              "      <td>0.0</td>\n",
              "      <td>0.0</td>\n",
              "      <td>0.0</td>\n",
              "      <td>0.0</td>\n",
              "      <td>0.0</td>\n",
              "      <td>0.0</td>\n",
              "      <td>0.0</td>\n",
              "      <td>0.0</td>\n",
              "      <td>0.0</td>\n",
              "      <td>0.0</td>\n",
              "      <td>0.0</td>\n",
              "      <td>0.0</td>\n",
              "      <td>0.0</td>\n",
              "      <td>0.0</td>\n",
              "      <td>0.0</td>\n",
              "      <td>0.0</td>\n",
              "      <td>0.0</td>\n",
              "      <td>0.0</td>\n",
              "      <td>0.0</td>\n",
              "      <td>0.0</td>\n",
              "      <td>2.0</td>\n",
              "    </tr>\n",
              "  </tbody>\n",
              "</table>\n",
              "<p>5 rows × 188 columns</p>\n",
              "</div>"
            ],
            "text/plain": [
              "        0         1         2         3         4    ...  183  184  185  186  187\n",
              "0  0.000000  0.009756  0.074390  0.162195  0.240244  ...  0.0  0.0  0.0  0.0  2.0\n",
              "1  1.000000  0.865672  0.660448  0.458955  0.242537  ...  0.0  0.0  0.0  0.0  2.0\n",
              "2  0.556728  0.530343  0.440633  0.290237  0.171504  ...  0.0  0.0  0.0  0.0  2.0\n",
              "3  1.000000  0.968031  0.782609  0.512788  0.418159  ...  0.0  0.0  0.0  0.0  2.0\n",
              "4  0.000000  0.037681  0.101449  0.215942  0.236232  ...  0.0  0.0  0.0  0.0  2.0\n",
              "\n",
              "[5 rows x 188 columns]"
            ]
          },
          "metadata": {
            "tags": []
          },
          "execution_count": 6
        }
      ]
    },
    {
      "cell_type": "code",
      "metadata": {
        "colab": {
          "base_uri": "https://localhost:8080/",
          "height": 283
        },
        "id": "E1tM_7YEXs_9",
        "outputId": "153024bd-4b50-4ae1-e441-833599ce96db"
      },
      "source": [
        "#MIT ECG\n",
        "plt.plot(df_MIT_Train_VE.iloc[100,:187])"
      ],
      "execution_count": null,
      "outputs": [
        {
          "output_type": "execute_result",
          "data": {
            "text/plain": [
              "[<matplotlib.lines.Line2D at 0x7fd16d4677d0>]"
            ]
          },
          "metadata": {
            "tags": []
          },
          "execution_count": 7
        },
        {
          "output_type": "display_data",
          "data": {
            "image/png": "[encoded data removed]",
            "text/plain": [
              "<Figure size 432x288 with 1 Axes>"
            ]
          },
          "metadata": {
            "tags": [],
            "needs_background": "light"
          }
        }
      ]
    },
    {
      "cell_type": "code",
      "metadata": {
        "colab": {
          "base_uri": "https://localhost:8080/"
        },
        "id": "KvKUKkBcXs7g",
        "outputId": "0f20d9a5-7706-4fd5-d868-2c6317adf347"
      },
      "source": [
        "df_MIT_Train_VE.shape"
      ],
      "execution_count": null,
      "outputs": [
        {
          "output_type": "execute_result",
          "data": {
            "text/plain": [
              "(5788, 188)"
            ]
          },
          "metadata": {
            "tags": []
          },
          "execution_count": 8
        }
      ]
    },
    {
      "cell_type": "markdown",
      "metadata": {
        "id": "VcV6nVuvacg3"
      },
      "source": [
        "# Collecting PTB Dataset"
      ]
    },
    {
      "cell_type": "code",
      "metadata": {
        "id": "q6VA2M8pQMVY"
      },
      "source": [
        ""
      ],
      "execution_count": null,
      "outputs": []
    },
    {
      "cell_type": "code",
      "metadata": {
        "id": "ow0bzciYLW0j"
      },
      "source": [
        "# IMPORTING DATA WITH NO HEART CONDITION (NORMAL) FROM MY DRIVE\n",
        "df_normal = pd.read_csv('/content/drive/MyDrive/Colab Notebooks/Final_Project/Data/ptbdb_normal.csv', header=None)"
      ],
      "execution_count": null,
      "outputs": []
    },
    {
      "cell_type": "code",
      "metadata": {
        "id": "CPGFxLDGN9xV"
      },
      "source": [
        "# IMPORTING DATA WITH HEART CONDITION (ABNORMAL) FROM MY DRIVE\n",
        "df_abnormal = pd.read_csv('/content/drive/MyDrive/Colab Notebooks/Final_Project/Data/ptbdb_abnormal.csv', header=None)"
      ],
      "execution_count": null,
      "outputs": []
    },
    {
      "cell_type": "code",
      "metadata": {
        "colab": {
          "base_uri": "https://localhost:8080/",
          "height": 161
        },
        "id": "1iHKH0hJROKR",
        "outputId": "87e88c3f-e02c-4e81-c882-d185eb327320"
      },
      "source": [
        "df_abnormal.head(2)"
      ],
      "execution_count": null,
      "outputs": [
        {
          "output_type": "execute_result",
          "data": {
            "text/html": [
              "<div>\n",
              "<style scoped>\n",
              "    .dataframe tbody tr th:only-of-type {\n",
              "        vertical-align: middle;\n",
              "    }\n",
              "\n",
              "    .dataframe tbody tr th {\n",
              "        vertical-align: top;\n",
              "    }\n",
              "\n",
              "    .dataframe thead th {\n",
              "        text-align: right;\n",
              "    }\n",
              "</style>\n",
              "<table border=\"1\" class=\"dataframe\">\n",
              "  <thead>\n",
              "    <tr style=\"text-align: right;\">\n",
              "      <th></th>\n",
              "      <th>0</th>\n",
              "      <th>1</th>\n",
              "      <th>2</th>\n",
              "      <th>3</th>\n",
              "      <th>4</th>\n",
              "      <th>5</th>\n",
              "      <th>6</th>\n",
              "      <th>7</th>\n",
              "      <th>8</th>\n",
              "      <th>9</th>\n",
              "      <th>10</th>\n",
              "      <th>11</th>\n",
              "      <th>12</th>\n",
              "      <th>13</th>\n",
              "      <th>14</th>\n",
              "      <th>15</th>\n",
              "      <th>16</th>\n",
              "      <th>17</th>\n",
              "      <th>18</th>\n",
              "      <th>19</th>\n",
              "      <th>20</th>\n",
              "      <th>21</th>\n",
              "      <th>22</th>\n",
              "      <th>23</th>\n",
              "      <th>24</th>\n",
              "      <th>25</th>\n",
              "      <th>26</th>\n",
              "      <th>27</th>\n",
              "      <th>28</th>\n",
              "      <th>29</th>\n",
              "      <th>30</th>\n",
              "      <th>31</th>\n",
              "      <th>32</th>\n",
              "      <th>33</th>\n",
              "      <th>34</th>\n",
              "      <th>35</th>\n",
              "      <th>36</th>\n",
              "      <th>37</th>\n",
              "      <th>38</th>\n",
              "      <th>39</th>\n",
              "      <th>...</th>\n",
              "      <th>148</th>\n",
              "      <th>149</th>\n",
              "      <th>150</th>\n",
              "      <th>151</th>\n",
              "      <th>152</th>\n",
              "      <th>153</th>\n",
              "      <th>154</th>\n",
              "      <th>155</th>\n",
              "      <th>156</th>\n",
              "      <th>157</th>\n",
              "      <th>158</th>\n",
              "      <th>159</th>\n",
              "      <th>160</th>\n",
              "      <th>161</th>\n",
              "      <th>162</th>\n",
              "      <th>163</th>\n",
              "      <th>164</th>\n",
              "      <th>165</th>\n",
              "      <th>166</th>\n",
              "      <th>167</th>\n",
              "      <th>168</th>\n",
              "      <th>169</th>\n",
              "      <th>170</th>\n",
              "      <th>171</th>\n",
              "      <th>172</th>\n",
              "      <th>173</th>\n",
              "      <th>174</th>\n",
              "      <th>175</th>\n",
              "      <th>176</th>\n",
              "      <th>177</th>\n",
              "      <th>178</th>\n",
              "      <th>179</th>\n",
              "      <th>180</th>\n",
              "      <th>181</th>\n",
              "      <th>182</th>\n",
              "      <th>183</th>\n",
              "      <th>184</th>\n",
              "      <th>185</th>\n",
              "      <th>186</th>\n",
              "      <th>187</th>\n",
              "    </tr>\n",
              "  </thead>\n",
              "  <tbody>\n",
              "    <tr>\n",
              "      <th>0</th>\n",
              "      <td>0.932233</td>\n",
              "      <td>0.869679</td>\n",
              "      <td>0.886186</td>\n",
              "      <td>0.929626</td>\n",
              "      <td>0.908775</td>\n",
              "      <td>0.933970</td>\n",
              "      <td>0.801043</td>\n",
              "      <td>0.749783</td>\n",
              "      <td>0.687229</td>\n",
              "      <td>0.635100</td>\n",
              "      <td>0.649870</td>\n",
              "      <td>0.635100</td>\n",
              "      <td>0.655083</td>\n",
              "      <td>0.664639</td>\n",
              "      <td>0.633362</td>\n",
              "      <td>0.746308</td>\n",
              "      <td>0.871416</td>\n",
              "      <td>0.938314</td>\n",
              "      <td>1.000000</td>\n",
              "      <td>0.948740</td>\n",
              "      <td>0.396177</td>\n",
              "      <td>0.000000</td>\n",
              "      <td>0.039096</td>\n",
              "      <td>0.128584</td>\n",
              "      <td>0.305821</td>\n",
              "      <td>0.640313</td>\n",
              "      <td>0.617724</td>\n",
              "      <td>0.537793</td>\n",
              "      <td>0.352737</td>\n",
              "      <td>0.220678</td>\n",
              "      <td>0.256299</td>\n",
              "      <td>0.357950</td>\n",
              "      <td>0.482189</td>\n",
              "      <td>0.570808</td>\n",
              "      <td>0.577758</td>\n",
              "      <td>0.620330</td>\n",
              "      <td>0.622068</td>\n",
              "      <td>0.618593</td>\n",
              "      <td>0.626412</td>\n",
              "      <td>0.612511</td>\n",
              "      <td>...</td>\n",
              "      <td>0.0</td>\n",
              "      <td>0.0</td>\n",
              "      <td>0.0</td>\n",
              "      <td>0.0</td>\n",
              "      <td>0.0</td>\n",
              "      <td>0.0</td>\n",
              "      <td>0.0</td>\n",
              "      <td>0.0</td>\n",
              "      <td>0.0</td>\n",
              "      <td>0.0</td>\n",
              "      <td>0.0</td>\n",
              "      <td>0.0</td>\n",
              "      <td>0.0</td>\n",
              "      <td>0.0</td>\n",
              "      <td>0.0</td>\n",
              "      <td>0.0</td>\n",
              "      <td>0.0</td>\n",
              "      <td>0.0</td>\n",
              "      <td>0.0</td>\n",
              "      <td>0.0</td>\n",
              "      <td>0.0</td>\n",
              "      <td>0.0</td>\n",
              "      <td>0.0</td>\n",
              "      <td>0.0</td>\n",
              "      <td>0.0</td>\n",
              "      <td>0.0</td>\n",
              "      <td>0.0</td>\n",
              "      <td>0.0</td>\n",
              "      <td>0.0</td>\n",
              "      <td>0.0</td>\n",
              "      <td>0.0</td>\n",
              "      <td>0.0</td>\n",
              "      <td>0.0</td>\n",
              "      <td>0.0</td>\n",
              "      <td>0.0</td>\n",
              "      <td>0.0</td>\n",
              "      <td>0.0</td>\n",
              "      <td>0.0</td>\n",
              "      <td>0.0</td>\n",
              "      <td>1.0</td>\n",
              "    </tr>\n",
              "    <tr>\n",
              "      <th>1</th>\n",
              "      <td>1.000000</td>\n",
              "      <td>0.606941</td>\n",
              "      <td>0.384181</td>\n",
              "      <td>0.254237</td>\n",
              "      <td>0.223567</td>\n",
              "      <td>0.276836</td>\n",
              "      <td>0.253430</td>\n",
              "      <td>0.184826</td>\n",
              "      <td>0.153349</td>\n",
              "      <td>0.121872</td>\n",
              "      <td>0.125101</td>\n",
              "      <td>0.129136</td>\n",
              "      <td>0.137207</td>\n",
              "      <td>0.137207</td>\n",
              "      <td>0.132365</td>\n",
              "      <td>0.126715</td>\n",
              "      <td>0.158192</td>\n",
              "      <td>0.152542</td>\n",
              "      <td>0.132365</td>\n",
              "      <td>0.168684</td>\n",
              "      <td>0.156578</td>\n",
              "      <td>0.183212</td>\n",
              "      <td>0.191283</td>\n",
              "      <td>0.204197</td>\n",
              "      <td>0.230024</td>\n",
              "      <td>0.244552</td>\n",
              "      <td>0.285714</td>\n",
              "      <td>0.307506</td>\n",
              "      <td>0.321227</td>\n",
              "      <td>0.327684</td>\n",
              "      <td>0.351897</td>\n",
              "      <td>0.373688</td>\n",
              "      <td>0.397094</td>\n",
              "      <td>0.363196</td>\n",
              "      <td>0.340597</td>\n",
              "      <td>0.307506</td>\n",
              "      <td>0.258273</td>\n",
              "      <td>0.197740</td>\n",
              "      <td>0.199354</td>\n",
              "      <td>0.173527</td>\n",
              "      <td>...</td>\n",
              "      <td>0.0</td>\n",
              "      <td>0.0</td>\n",
              "      <td>0.0</td>\n",
              "      <td>0.0</td>\n",
              "      <td>0.0</td>\n",
              "      <td>0.0</td>\n",
              "      <td>0.0</td>\n",
              "      <td>0.0</td>\n",
              "      <td>0.0</td>\n",
              "      <td>0.0</td>\n",
              "      <td>0.0</td>\n",
              "      <td>0.0</td>\n",
              "      <td>0.0</td>\n",
              "      <td>0.0</td>\n",
              "      <td>0.0</td>\n",
              "      <td>0.0</td>\n",
              "      <td>0.0</td>\n",
              "      <td>0.0</td>\n",
              "      <td>0.0</td>\n",
              "      <td>0.0</td>\n",
              "      <td>0.0</td>\n",
              "      <td>0.0</td>\n",
              "      <td>0.0</td>\n",
              "      <td>0.0</td>\n",
              "      <td>0.0</td>\n",
              "      <td>0.0</td>\n",
              "      <td>0.0</td>\n",
              "      <td>0.0</td>\n",
              "      <td>0.0</td>\n",
              "      <td>0.0</td>\n",
              "      <td>0.0</td>\n",
              "      <td>0.0</td>\n",
              "      <td>0.0</td>\n",
              "      <td>0.0</td>\n",
              "      <td>0.0</td>\n",
              "      <td>0.0</td>\n",
              "      <td>0.0</td>\n",
              "      <td>0.0</td>\n",
              "      <td>0.0</td>\n",
              "      <td>1.0</td>\n",
              "    </tr>\n",
              "  </tbody>\n",
              "</table>\n",
              "<p>2 rows × 188 columns</p>\n",
              "</div>"
            ],
            "text/plain": [
              "        0         1         2         3         4    ...  183  184  185  186  187\n",
              "0  0.932233  0.869679  0.886186  0.929626  0.908775  ...  0.0  0.0  0.0  0.0  1.0\n",
              "1  1.000000  0.606941  0.384181  0.254237  0.223567  ...  0.0  0.0  0.0  0.0  1.0\n",
              "\n",
              "[2 rows x 188 columns]"
            ]
          },
          "metadata": {
            "tags": []
          },
          "execution_count": 11
        }
      ]
    },
    {
      "cell_type": "code",
      "metadata": {
        "id": "HPrNBuUCPCl4"
      },
      "source": [
        "df = pd.concat([df_normal, df_abnormal], axis=0, ignore_index=True)"
      ],
      "execution_count": null,
      "outputs": []
    },
    {
      "cell_type": "code",
      "metadata": {
        "id": "lnHCm5VBTjv7"
      },
      "source": [
        "X_data = df.loc[:,:186]\n",
        "y_data = df.loc[:,187]"
      ],
      "execution_count": null,
      "outputs": []
    },
    {
      "cell_type": "code",
      "metadata": {
        "id": "w5_HICGchVOj",
        "colab": {
          "base_uri": "https://localhost:8080/",
          "height": 161
        },
        "outputId": "6ad9f700-ad7a-4656-cd6a-fa0ce62cc542"
      },
      "source": [
        "X_data.head(2)"
      ],
      "execution_count": null,
      "outputs": [
        {
          "output_type": "execute_result",
          "data": {
            "text/html": [
              "<div>\n",
              "<style scoped>\n",
              "    .dataframe tbody tr th:only-of-type {\n",
              "        vertical-align: middle;\n",
              "    }\n",
              "\n",
              "    .dataframe tbody tr th {\n",
              "        vertical-align: top;\n",
              "    }\n",
              "\n",
              "    .dataframe thead th {\n",
              "        text-align: right;\n",
              "    }\n",
              "</style>\n",
              "<table border=\"1\" class=\"dataframe\">\n",
              "  <thead>\n",
              "    <tr style=\"text-align: right;\">\n",
              "      <th></th>\n",
              "      <th>0</th>\n",
              "      <th>1</th>\n",
              "      <th>2</th>\n",
              "      <th>3</th>\n",
              "      <th>4</th>\n",
              "      <th>5</th>\n",
              "      <th>6</th>\n",
              "      <th>7</th>\n",
              "      <th>8</th>\n",
              "      <th>9</th>\n",
              "      <th>10</th>\n",
              "      <th>11</th>\n",
              "      <th>12</th>\n",
              "      <th>13</th>\n",
              "      <th>14</th>\n",
              "      <th>15</th>\n",
              "      <th>16</th>\n",
              "      <th>17</th>\n",
              "      <th>18</th>\n",
              "      <th>19</th>\n",
              "      <th>20</th>\n",
              "      <th>21</th>\n",
              "      <th>22</th>\n",
              "      <th>23</th>\n",
              "      <th>24</th>\n",
              "      <th>25</th>\n",
              "      <th>26</th>\n",
              "      <th>27</th>\n",
              "      <th>28</th>\n",
              "      <th>29</th>\n",
              "      <th>30</th>\n",
              "      <th>31</th>\n",
              "      <th>32</th>\n",
              "      <th>33</th>\n",
              "      <th>34</th>\n",
              "      <th>35</th>\n",
              "      <th>36</th>\n",
              "      <th>37</th>\n",
              "      <th>38</th>\n",
              "      <th>39</th>\n",
              "      <th>...</th>\n",
              "      <th>147</th>\n",
              "      <th>148</th>\n",
              "      <th>149</th>\n",
              "      <th>150</th>\n",
              "      <th>151</th>\n",
              "      <th>152</th>\n",
              "      <th>153</th>\n",
              "      <th>154</th>\n",
              "      <th>155</th>\n",
              "      <th>156</th>\n",
              "      <th>157</th>\n",
              "      <th>158</th>\n",
              "      <th>159</th>\n",
              "      <th>160</th>\n",
              "      <th>161</th>\n",
              "      <th>162</th>\n",
              "      <th>163</th>\n",
              "      <th>164</th>\n",
              "      <th>165</th>\n",
              "      <th>166</th>\n",
              "      <th>167</th>\n",
              "      <th>168</th>\n",
              "      <th>169</th>\n",
              "      <th>170</th>\n",
              "      <th>171</th>\n",
              "      <th>172</th>\n",
              "      <th>173</th>\n",
              "      <th>174</th>\n",
              "      <th>175</th>\n",
              "      <th>176</th>\n",
              "      <th>177</th>\n",
              "      <th>178</th>\n",
              "      <th>179</th>\n",
              "      <th>180</th>\n",
              "      <th>181</th>\n",
              "      <th>182</th>\n",
              "      <th>183</th>\n",
              "      <th>184</th>\n",
              "      <th>185</th>\n",
              "      <th>186</th>\n",
              "    </tr>\n",
              "  </thead>\n",
              "  <tbody>\n",
              "    <tr>\n",
              "      <th>0</th>\n",
              "      <td>1.0</td>\n",
              "      <td>0.900324</td>\n",
              "      <td>0.358590</td>\n",
              "      <td>0.051459</td>\n",
              "      <td>0.046596</td>\n",
              "      <td>0.126823</td>\n",
              "      <td>0.133306</td>\n",
              "      <td>0.119125</td>\n",
              "      <td>0.110616</td>\n",
              "      <td>0.113047</td>\n",
              "      <td>0.106564</td>\n",
              "      <td>0.106969</td>\n",
              "      <td>0.115883</td>\n",
              "      <td>0.122366</td>\n",
              "      <td>0.122366</td>\n",
              "      <td>0.11953</td>\n",
              "      <td>0.115883</td>\n",
              "      <td>0.122366</td>\n",
              "      <td>0.126013</td>\n",
              "      <td>0.133712</td>\n",
              "      <td>0.134927</td>\n",
              "      <td>0.142626</td>\n",
              "      <td>0.151135</td>\n",
              "      <td>0.158428</td>\n",
              "      <td>0.163695</td>\n",
              "      <td>0.173825</td>\n",
              "      <td>0.188817</td>\n",
              "      <td>0.207861</td>\n",
              "      <td>0.230956</td>\n",
              "      <td>0.258509</td>\n",
              "      <td>0.294571</td>\n",
              "      <td>0.325770</td>\n",
              "      <td>0.362642</td>\n",
              "      <td>0.398298</td>\n",
              "      <td>0.429498</td>\n",
              "      <td>0.449352</td>\n",
              "      <td>0.450972</td>\n",
              "      <td>0.418963</td>\n",
              "      <td>0.372771</td>\n",
              "      <td>0.310373</td>\n",
              "      <td>...</td>\n",
              "      <td>0.0</td>\n",
              "      <td>0.0</td>\n",
              "      <td>0.0</td>\n",
              "      <td>0.0</td>\n",
              "      <td>0.0</td>\n",
              "      <td>0.0</td>\n",
              "      <td>0.0</td>\n",
              "      <td>0.0</td>\n",
              "      <td>0.0</td>\n",
              "      <td>0.0</td>\n",
              "      <td>0.0</td>\n",
              "      <td>0.0</td>\n",
              "      <td>0.0</td>\n",
              "      <td>0.0</td>\n",
              "      <td>0.0</td>\n",
              "      <td>0.0</td>\n",
              "      <td>0.0</td>\n",
              "      <td>0.0</td>\n",
              "      <td>0.0</td>\n",
              "      <td>0.0</td>\n",
              "      <td>0.0</td>\n",
              "      <td>0.0</td>\n",
              "      <td>0.0</td>\n",
              "      <td>0.0</td>\n",
              "      <td>0.0</td>\n",
              "      <td>0.0</td>\n",
              "      <td>0.0</td>\n",
              "      <td>0.0</td>\n",
              "      <td>0.0</td>\n",
              "      <td>0.0</td>\n",
              "      <td>0.0</td>\n",
              "      <td>0.0</td>\n",
              "      <td>0.0</td>\n",
              "      <td>0.0</td>\n",
              "      <td>0.0</td>\n",
              "      <td>0.0</td>\n",
              "      <td>0.0</td>\n",
              "      <td>0.0</td>\n",
              "      <td>0.0</td>\n",
              "      <td>0.0</td>\n",
              "    </tr>\n",
              "    <tr>\n",
              "      <th>1</th>\n",
              "      <td>1.0</td>\n",
              "      <td>0.794681</td>\n",
              "      <td>0.375387</td>\n",
              "      <td>0.116883</td>\n",
              "      <td>0.000000</td>\n",
              "      <td>0.171923</td>\n",
              "      <td>0.283859</td>\n",
              "      <td>0.293754</td>\n",
              "      <td>0.325912</td>\n",
              "      <td>0.345083</td>\n",
              "      <td>0.361781</td>\n",
              "      <td>0.362400</td>\n",
              "      <td>0.366110</td>\n",
              "      <td>0.367965</td>\n",
              "      <td>0.374150</td>\n",
              "      <td>0.37786</td>\n",
              "      <td>0.382189</td>\n",
              "      <td>0.384663</td>\n",
              "      <td>0.398887</td>\n",
              "      <td>0.401361</td>\n",
              "      <td>0.418058</td>\n",
              "      <td>0.443414</td>\n",
              "      <td>0.457638</td>\n",
              "      <td>0.487941</td>\n",
              "      <td>0.520717</td>\n",
              "      <td>0.559678</td>\n",
              "      <td>0.604205</td>\n",
              "      <td>0.634508</td>\n",
              "      <td>0.653680</td>\n",
              "      <td>0.672851</td>\n",
              "      <td>0.678417</td>\n",
              "      <td>0.660482</td>\n",
              "      <td>0.621521</td>\n",
              "      <td>0.555968</td>\n",
              "      <td>0.482375</td>\n",
              "      <td>0.438466</td>\n",
              "      <td>0.378479</td>\n",
              "      <td>0.351268</td>\n",
              "      <td>0.319728</td>\n",
              "      <td>0.306741</td>\n",
              "      <td>...</td>\n",
              "      <td>0.0</td>\n",
              "      <td>0.0</td>\n",
              "      <td>0.0</td>\n",
              "      <td>0.0</td>\n",
              "      <td>0.0</td>\n",
              "      <td>0.0</td>\n",
              "      <td>0.0</td>\n",
              "      <td>0.0</td>\n",
              "      <td>0.0</td>\n",
              "      <td>0.0</td>\n",
              "      <td>0.0</td>\n",
              "      <td>0.0</td>\n",
              "      <td>0.0</td>\n",
              "      <td>0.0</td>\n",
              "      <td>0.0</td>\n",
              "      <td>0.0</td>\n",
              "      <td>0.0</td>\n",
              "      <td>0.0</td>\n",
              "      <td>0.0</td>\n",
              "      <td>0.0</td>\n",
              "      <td>0.0</td>\n",
              "      <td>0.0</td>\n",
              "      <td>0.0</td>\n",
              "      <td>0.0</td>\n",
              "      <td>0.0</td>\n",
              "      <td>0.0</td>\n",
              "      <td>0.0</td>\n",
              "      <td>0.0</td>\n",
              "      <td>0.0</td>\n",
              "      <td>0.0</td>\n",
              "      <td>0.0</td>\n",
              "      <td>0.0</td>\n",
              "      <td>0.0</td>\n",
              "      <td>0.0</td>\n",
              "      <td>0.0</td>\n",
              "      <td>0.0</td>\n",
              "      <td>0.0</td>\n",
              "      <td>0.0</td>\n",
              "      <td>0.0</td>\n",
              "      <td>0.0</td>\n",
              "    </tr>\n",
              "  </tbody>\n",
              "</table>\n",
              "<p>2 rows × 187 columns</p>\n",
              "</div>"
            ],
            "text/plain": [
              "   0         1         2         3         4    ...  182  183  184  185  186\n",
              "0  1.0  0.900324  0.358590  0.051459  0.046596  ...  0.0  0.0  0.0  0.0  0.0\n",
              "1  1.0  0.794681  0.375387  0.116883  0.000000  ...  0.0  0.0  0.0  0.0  0.0\n",
              "\n",
              "[2 rows x 187 columns]"
            ]
          },
          "metadata": {
            "tags": []
          },
          "execution_count": 14
        }
      ]
    },
    {
      "cell_type": "code",
      "metadata": {
        "id": "OelHzGKRtktL"
      },
      "source": [
        ""
      ],
      "execution_count": null,
      "outputs": []
    },
    {
      "cell_type": "markdown",
      "metadata": {
        "id": "JygEZoLBQZ2F"
      },
      "source": [
        "# Preliminary ECG Visuals (PTB Dataset)"
      ]
    },
    {
      "cell_type": "code",
      "metadata": {
        "colab": {
          "base_uri": "https://localhost:8080/",
          "height": 283
        },
        "id": "bJH6heD8QUzG",
        "outputId": "50fc7d3c-08ef-4cc2-c422-6f81521ddb38"
      },
      "source": [
        "#Normal ECG\n",
        "plt.plot(X_data.loc[100,:])"
      ],
      "execution_count": null,
      "outputs": [
        {
          "output_type": "execute_result",
          "data": {
            "text/plain": [
              "[<matplotlib.lines.Line2D at 0x7fd16cf35190>]"
            ]
          },
          "metadata": {
            "tags": []
          },
          "execution_count": 15
        },
        {
          "output_type": "display_data",
          "data": {
            "image/png": "[encoded data removed]",
            "text/plain": [
              "<Figure size 432x288 with 1 Axes>"
            ]
          },
          "metadata": {
            "tags": [],
            "needs_background": "light"
          }
        }
      ]
    },
    {
      "cell_type": "code",
      "metadata": {
        "colab": {
          "base_uri": "https://localhost:8080/",
          "height": 283
        },
        "id": "2aTzDvYnQWmn",
        "outputId": "b2270273-ac30-449b-f3ba-f58fab114ede"
      },
      "source": [
        "#Abnormal ECG\n",
        "plt.plot(X_data.loc[6000,:])"
      ],
      "execution_count": null,
      "outputs": [
        {
          "output_type": "execute_result",
          "data": {
            "text/plain": [
              "[<matplotlib.lines.Line2D at 0x7fd16cedb890>]"
            ]
          },
          "metadata": {
            "tags": []
          },
          "execution_count": 16
        },
        {
          "output_type": "display_data",
          "data": {
            "image/png": "[encoded data removed]",
            "text/plain": [
              "<Figure size 432x288 with 1 Axes>"
            ]
          },
          "metadata": {
            "tags": [],
            "needs_background": "light"
          }
        }
      ]
    },
    {
      "cell_type": "code",
      "metadata": {
        "colab": {
          "base_uri": "https://localhost:8080/"
        },
        "id": "u3sXD_e_X21r",
        "outputId": "232fdfbd-b9d5-4f73-b805-c3db69a7aa99"
      },
      "source": [
        "y_data.value_counts()"
      ],
      "execution_count": null,
      "outputs": [
        {
          "output_type": "execute_result",
          "data": {
            "text/plain": [
              "1.0    10506\n",
              "0.0     4046\n",
              "Name: 187, dtype: int64"
            ]
          },
          "metadata": {
            "tags": []
          },
          "execution_count": 17
        }
      ]
    },
    {
      "cell_type": "code",
      "metadata": {
        "id": "yrgkrGSchZh1"
      },
      "source": [
        ""
      ],
      "execution_count": null,
      "outputs": []
    },
    {
      "cell_type": "markdown",
      "metadata": {
        "id": "-VFkY4Uxtv_-"
      },
      "source": [
        "# Concat MIT VE CLASS TO PTB DATASET"
      ]
    },
    {
      "cell_type": "code",
      "metadata": {
        "id": "ZPPnPK-nt2OB"
      },
      "source": [
        "df_new = pd.concat([df, df_MIT_Train_VE], axis=0, ignore_index=True)"
      ],
      "execution_count": null,
      "outputs": []
    },
    {
      "cell_type": "code",
      "metadata": {
        "colab": {
          "base_uri": "https://localhost:8080/"
        },
        "id": "fisTpXl3t2LY",
        "outputId": "7c3f0eb7-0bc6-42da-91b3-5e3e3be73904"
      },
      "source": [
        "df_new.isnull().sum().any()"
      ],
      "execution_count": null,
      "outputs": [
        {
          "output_type": "execute_result",
          "data": {
            "text/plain": [
              "False"
            ]
          },
          "metadata": {
            "tags": []
          },
          "execution_count": 19
        }
      ]
    },
    {
      "cell_type": "code",
      "metadata": {
        "id": "IRX5af56t18J"
      },
      "source": [
        "X_data_new = df_new.iloc[:,:187]\n",
        "y_data_new = df_new.iloc[:,187]"
      ],
      "execution_count": null,
      "outputs": []
    },
    {
      "cell_type": "code",
      "metadata": {
        "id": "4HNpJMQ_w2sq"
      },
      "source": [
        ""
      ],
      "execution_count": null,
      "outputs": []
    },
    {
      "cell_type": "markdown",
      "metadata": {
        "id": "dsWSixt3EzEC"
      },
      "source": [
        "# Splitting Data & Setting \"y\" Categorical"
      ]
    },
    {
      "cell_type": "code",
      "metadata": {
        "id": "zhCQDxuAE3CW"
      },
      "source": [
        "dfX_train, dfX_test, y_train, y_test = train_test_split(X_data_new, y_data_new, shuffle=True, train_size=0.8, random_state = 42)"
      ],
      "execution_count": null,
      "outputs": []
    },
    {
      "cell_type": "code",
      "metadata": {
        "colab": {
          "base_uri": "https://localhost:8080/"
        },
        "id": "VHCq1NFTjxPC",
        "outputId": "061ae4f9-af05-4463-9cb5-07a3a296f277"
      },
      "source": [
        "y_train.value_counts()"
      ],
      "execution_count": null,
      "outputs": [
        {
          "output_type": "execute_result",
          "data": {
            "text/plain": [
              "1.0    8384\n",
              "2.0    4625\n",
              "0.0    3263\n",
              "Name: 187, dtype: int64"
            ]
          },
          "metadata": {
            "tags": []
          },
          "execution_count": 22
        }
      ]
    },
    {
      "cell_type": "code",
      "metadata": {
        "id": "FguFRcwtjxMI"
      },
      "source": [
        "#Preparing the train dataset including \"y\" before balancing the classes.\n",
        "df_train = pd.concat([dfX_train, pd.Series(y_train)], axis=1)"
      ],
      "execution_count": null,
      "outputs": []
    },
    {
      "cell_type": "code",
      "metadata": {
        "colab": {
          "base_uri": "https://localhost:8080/"
        },
        "id": "JTzQ7yw7jxJB",
        "outputId": "5b756873-9870-41ff-cc58-25e6ef97c9de"
      },
      "source": [
        "df_train[187].value_counts()"
      ],
      "execution_count": null,
      "outputs": [
        {
          "output_type": "execute_result",
          "data": {
            "text/plain": [
              "1.0    8384\n",
              "2.0    4625\n",
              "0.0    3263\n",
              "Name: 187, dtype: int64"
            ]
          },
          "metadata": {
            "tags": []
          },
          "execution_count": 24
        }
      ]
    },
    {
      "cell_type": "code",
      "metadata": {
        "colab": {
          "base_uri": "https://localhost:8080/"
        },
        "id": "b_LwULeqzQVq",
        "outputId": "ee26a574-29ab-4cd1-9e21-7f2fb23928b8"
      },
      "source": [
        "y_test.value_counts()"
      ],
      "execution_count": null,
      "outputs": [
        {
          "output_type": "execute_result",
          "data": {
            "text/plain": [
              "1.0    2122\n",
              "2.0    1163\n",
              "0.0     783\n",
              "Name: 187, dtype: int64"
            ]
          },
          "metadata": {
            "tags": []
          },
          "execution_count": 25
        }
      ]
    },
    {
      "cell_type": "markdown",
      "metadata": {
        "id": "ggPXBosvin42"
      },
      "source": [
        "# Balancing Classes in Train Set"
      ]
    },
    {
      "cell_type": "code",
      "metadata": {
        "id": "kjdg36t8X2zG"
      },
      "source": [
        "from sklearn.utils import resample\n",
        "\n",
        "df_0=(df_train[df_train[187]==0])\n",
        "df_2=(df_train[df_train[187]==2])\n",
        "df_1=(df_train[df_train[187]==1]).sample(n=8300,random_state=42)\n",
        "\n",
        "#resampling minority classes with replacement\n",
        "df_0_upsample=resample(df_0,replace=True,n_samples=8300,random_state=123)\n",
        "df_2_upsample=resample(df_2,replace=True,n_samples=8300,random_state=123)\n",
        "\n",
        "#balanced df\n",
        "df_train_balanced=pd.concat([df_0_upsample,df_1, df_2_upsample])\n",
        "\n",
        "#shuffling rows in balanced df\n",
        "df_train_shuffled=df_train_balanced.sample(frac=1).reset_index(drop=True)"
      ],
      "execution_count": null,
      "outputs": []
    },
    {
      "cell_type": "code",
      "metadata": {
        "colab": {
          "base_uri": "https://localhost:8080/"
        },
        "id": "J5mwq7pvjxGI",
        "outputId": "caa01c06-9f72-4b1a-f347-d7a2ed6547d0"
      },
      "source": [
        "df_train_shuffled[187].value_counts()"
      ],
      "execution_count": null,
      "outputs": [
        {
          "output_type": "execute_result",
          "data": {
            "text/plain": [
              "2.0    8300\n",
              "1.0    8300\n",
              "0.0    8300\n",
              "Name: 187, dtype: int64"
            ]
          },
          "metadata": {
            "tags": []
          },
          "execution_count": 27
        }
      ]
    },
    {
      "cell_type": "code",
      "metadata": {
        "id": "1CGyDW1Pjw_o"
      },
      "source": [
        "X_train_proc = df_train_shuffled.iloc[:,:187]\n",
        "y_train_proc = df_train_shuffled.iloc[:,187]"
      ],
      "execution_count": null,
      "outputs": []
    },
    {
      "cell_type": "code",
      "metadata": {
        "colab": {
          "base_uri": "https://localhost:8080/",
          "height": 161
        },
        "id": "yRMie12SozZy",
        "outputId": "ce22d7b7-8ec3-462b-b59c-114c3ef4472b"
      },
      "source": [
        "X_train_proc.head(2)"
      ],
      "execution_count": null,
      "outputs": [
        {
          "output_type": "execute_result",
          "data": {
            "text/html": [
              "<div>\n",
              "<style scoped>\n",
              "    .dataframe tbody tr th:only-of-type {\n",
              "        vertical-align: middle;\n",
              "    }\n",
              "\n",
              "    .dataframe tbody tr th {\n",
              "        vertical-align: top;\n",
              "    }\n",
              "\n",
              "    .dataframe thead th {\n",
              "        text-align: right;\n",
              "    }\n",
              "</style>\n",
              "<table border=\"1\" class=\"dataframe\">\n",
              "  <thead>\n",
              "    <tr style=\"text-align: right;\">\n",
              "      <th></th>\n",
              "      <th>0</th>\n",
              "      <th>1</th>\n",
              "      <th>2</th>\n",
              "      <th>3</th>\n",
              "      <th>4</th>\n",
              "      <th>5</th>\n",
              "      <th>6</th>\n",
              "      <th>7</th>\n",
              "      <th>8</th>\n",
              "      <th>9</th>\n",
              "      <th>10</th>\n",
              "      <th>11</th>\n",
              "      <th>12</th>\n",
              "      <th>13</th>\n",
              "      <th>14</th>\n",
              "      <th>15</th>\n",
              "      <th>16</th>\n",
              "      <th>17</th>\n",
              "      <th>18</th>\n",
              "      <th>19</th>\n",
              "      <th>20</th>\n",
              "      <th>21</th>\n",
              "      <th>22</th>\n",
              "      <th>23</th>\n",
              "      <th>24</th>\n",
              "      <th>25</th>\n",
              "      <th>26</th>\n",
              "      <th>27</th>\n",
              "      <th>28</th>\n",
              "      <th>29</th>\n",
              "      <th>30</th>\n",
              "      <th>31</th>\n",
              "      <th>32</th>\n",
              "      <th>33</th>\n",
              "      <th>34</th>\n",
              "      <th>35</th>\n",
              "      <th>36</th>\n",
              "      <th>37</th>\n",
              "      <th>38</th>\n",
              "      <th>39</th>\n",
              "      <th>...</th>\n",
              "      <th>147</th>\n",
              "      <th>148</th>\n",
              "      <th>149</th>\n",
              "      <th>150</th>\n",
              "      <th>151</th>\n",
              "      <th>152</th>\n",
              "      <th>153</th>\n",
              "      <th>154</th>\n",
              "      <th>155</th>\n",
              "      <th>156</th>\n",
              "      <th>157</th>\n",
              "      <th>158</th>\n",
              "      <th>159</th>\n",
              "      <th>160</th>\n",
              "      <th>161</th>\n",
              "      <th>162</th>\n",
              "      <th>163</th>\n",
              "      <th>164</th>\n",
              "      <th>165</th>\n",
              "      <th>166</th>\n",
              "      <th>167</th>\n",
              "      <th>168</th>\n",
              "      <th>169</th>\n",
              "      <th>170</th>\n",
              "      <th>171</th>\n",
              "      <th>172</th>\n",
              "      <th>173</th>\n",
              "      <th>174</th>\n",
              "      <th>175</th>\n",
              "      <th>176</th>\n",
              "      <th>177</th>\n",
              "      <th>178</th>\n",
              "      <th>179</th>\n",
              "      <th>180</th>\n",
              "      <th>181</th>\n",
              "      <th>182</th>\n",
              "      <th>183</th>\n",
              "      <th>184</th>\n",
              "      <th>185</th>\n",
              "      <th>186</th>\n",
              "    </tr>\n",
              "  </thead>\n",
              "  <tbody>\n",
              "    <tr>\n",
              "      <th>0</th>\n",
              "      <td>0.97884</td>\n",
              "      <td>0.742947</td>\n",
              "      <td>0.185345</td>\n",
              "      <td>0.007053</td>\n",
              "      <td>0.049373</td>\n",
              "      <td>0.127351</td>\n",
              "      <td>0.114028</td>\n",
              "      <td>0.110110</td>\n",
              "      <td>0.110110</td>\n",
              "      <td>0.105799</td>\n",
              "      <td>0.101881</td>\n",
              "      <td>0.098354</td>\n",
              "      <td>0.099138</td>\n",
              "      <td>0.102273</td>\n",
              "      <td>0.102665</td>\n",
              "      <td>0.104232</td>\n",
              "      <td>0.099138</td>\n",
              "      <td>0.104232</td>\n",
              "      <td>0.104624</td>\n",
              "      <td>0.105799</td>\n",
              "      <td>0.110893</td>\n",
              "      <td>0.119906</td>\n",
              "      <td>0.130878</td>\n",
              "      <td>0.139107</td>\n",
              "      <td>0.150862</td>\n",
              "      <td>0.161834</td>\n",
              "      <td>0.175940</td>\n",
              "      <td>0.199451</td>\n",
              "      <td>0.225313</td>\n",
              "      <td>0.252743</td>\n",
              "      <td>0.281740</td>\n",
              "      <td>0.313088</td>\n",
              "      <td>0.348354</td>\n",
              "      <td>0.382837</td>\n",
              "      <td>0.408699</td>\n",
              "      <td>0.429467</td>\n",
              "      <td>0.422022</td>\n",
              "      <td>0.382445</td>\n",
              "      <td>0.326411</td>\n",
              "      <td>0.259013</td>\n",
              "      <td>...</td>\n",
              "      <td>0.0</td>\n",
              "      <td>0.0</td>\n",
              "      <td>0.0</td>\n",
              "      <td>0.0</td>\n",
              "      <td>0.0</td>\n",
              "      <td>0.0</td>\n",
              "      <td>0.0</td>\n",
              "      <td>0.0</td>\n",
              "      <td>0.0</td>\n",
              "      <td>0.0</td>\n",
              "      <td>0.0</td>\n",
              "      <td>0.0</td>\n",
              "      <td>0.0</td>\n",
              "      <td>0.0</td>\n",
              "      <td>0.0</td>\n",
              "      <td>0.0</td>\n",
              "      <td>0.0</td>\n",
              "      <td>0.0</td>\n",
              "      <td>0.0</td>\n",
              "      <td>0.0</td>\n",
              "      <td>0.0</td>\n",
              "      <td>0.0</td>\n",
              "      <td>0.0</td>\n",
              "      <td>0.0</td>\n",
              "      <td>0.0</td>\n",
              "      <td>0.0</td>\n",
              "      <td>0.0</td>\n",
              "      <td>0.0</td>\n",
              "      <td>0.0</td>\n",
              "      <td>0.0</td>\n",
              "      <td>0.0</td>\n",
              "      <td>0.0</td>\n",
              "      <td>0.0</td>\n",
              "      <td>0.0</td>\n",
              "      <td>0.0</td>\n",
              "      <td>0.0</td>\n",
              "      <td>0.0</td>\n",
              "      <td>0.0</td>\n",
              "      <td>0.0</td>\n",
              "      <td>0.0</td>\n",
              "    </tr>\n",
              "    <tr>\n",
              "      <th>1</th>\n",
              "      <td>1.00000</td>\n",
              "      <td>0.476835</td>\n",
              "      <td>0.211689</td>\n",
              "      <td>0.000000</td>\n",
              "      <td>0.007840</td>\n",
              "      <td>0.210976</td>\n",
              "      <td>0.265146</td>\n",
              "      <td>0.279401</td>\n",
              "      <td>0.314326</td>\n",
              "      <td>0.335709</td>\n",
              "      <td>0.343550</td>\n",
              "      <td>0.351390</td>\n",
              "      <td>0.358517</td>\n",
              "      <td>0.358517</td>\n",
              "      <td>0.358517</td>\n",
              "      <td>0.369209</td>\n",
              "      <td>0.374198</td>\n",
              "      <td>0.388453</td>\n",
              "      <td>0.396294</td>\n",
              "      <td>0.415538</td>\n",
              "      <td>0.424091</td>\n",
              "      <td>0.451889</td>\n",
              "      <td>0.479686</td>\n",
              "      <td>0.501782</td>\n",
              "      <td>0.559515</td>\n",
              "      <td>0.597292</td>\n",
              "      <td>0.641483</td>\n",
              "      <td>0.675695</td>\n",
              "      <td>0.684961</td>\n",
              "      <td>0.692088</td>\n",
              "      <td>0.685674</td>\n",
              "      <td>0.647185</td>\n",
              "      <td>0.589451</td>\n",
              "      <td>0.513186</td>\n",
              "      <td>0.439059</td>\n",
              "      <td>0.382751</td>\n",
              "      <td>0.339986</td>\n",
              "      <td>0.317177</td>\n",
              "      <td>0.308624</td>\n",
              "      <td>0.289380</td>\n",
              "      <td>...</td>\n",
              "      <td>0.0</td>\n",
              "      <td>0.0</td>\n",
              "      <td>0.0</td>\n",
              "      <td>0.0</td>\n",
              "      <td>0.0</td>\n",
              "      <td>0.0</td>\n",
              "      <td>0.0</td>\n",
              "      <td>0.0</td>\n",
              "      <td>0.0</td>\n",
              "      <td>0.0</td>\n",
              "      <td>0.0</td>\n",
              "      <td>0.0</td>\n",
              "      <td>0.0</td>\n",
              "      <td>0.0</td>\n",
              "      <td>0.0</td>\n",
              "      <td>0.0</td>\n",
              "      <td>0.0</td>\n",
              "      <td>0.0</td>\n",
              "      <td>0.0</td>\n",
              "      <td>0.0</td>\n",
              "      <td>0.0</td>\n",
              "      <td>0.0</td>\n",
              "      <td>0.0</td>\n",
              "      <td>0.0</td>\n",
              "      <td>0.0</td>\n",
              "      <td>0.0</td>\n",
              "      <td>0.0</td>\n",
              "      <td>0.0</td>\n",
              "      <td>0.0</td>\n",
              "      <td>0.0</td>\n",
              "      <td>0.0</td>\n",
              "      <td>0.0</td>\n",
              "      <td>0.0</td>\n",
              "      <td>0.0</td>\n",
              "      <td>0.0</td>\n",
              "      <td>0.0</td>\n",
              "      <td>0.0</td>\n",
              "      <td>0.0</td>\n",
              "      <td>0.0</td>\n",
              "      <td>0.0</td>\n",
              "    </tr>\n",
              "  </tbody>\n",
              "</table>\n",
              "<p>2 rows × 187 columns</p>\n",
              "</div>"
            ],
            "text/plain": [
              "       0         1         2         3         4    ...  182  183  184  185  186\n",
              "0  0.97884  0.742947  0.185345  0.007053  0.049373  ...  0.0  0.0  0.0  0.0  0.0\n",
              "1  1.00000  0.476835  0.211689  0.000000  0.007840  ...  0.0  0.0  0.0  0.0  0.0\n",
              "\n",
              "[2 rows x 187 columns]"
            ]
          },
          "metadata": {
            "tags": []
          },
          "execution_count": 29
        }
      ]
    },
    {
      "cell_type": "markdown",
      "metadata": {
        "id": "3_1h4l6IxKFe"
      },
      "source": [
        "# Formatting Train and Test"
      ]
    },
    {
      "cell_type": "code",
      "metadata": {
        "id": "vjYZkZQgE28O"
      },
      "source": [
        "#X_train_proc comes from rebalancing classes in train_set above\n",
        "X_train = X_train_proc.iloc[:,:186].values\n",
        "\n",
        "#dfx_test comes from splitting train/test section\n",
        "X_test = dfX_test.iloc[:,:186].values\n",
        "\n",
        "#for i in range(len(X_train)):\n",
        "#    X_train[i,:186]= add_gaussian_noise(X_train[i,:186])\n",
        "\n",
        "# Changing the shape of X_train and X_test to3D arrays\n",
        "\n",
        "X_train = X_train.reshape(len(X_train), X_train.shape[1],1)\n",
        "X_test = X_test.reshape(len(X_test), X_test.shape[1],1)\n"
      ],
      "execution_count": null,
      "outputs": []
    },
    {
      "cell_type": "code",
      "metadata": {
        "colab": {
          "base_uri": "https://localhost:8080/"
        },
        "id": "XChjVa24jQJU",
        "outputId": "b5b69d5d-86c6-4171-89c2-397d66058737"
      },
      "source": [
        "X_train.shape"
      ],
      "execution_count": null,
      "outputs": [
        {
          "output_type": "execute_result",
          "data": {
            "text/plain": [
              "(24900, 186, 1)"
            ]
          },
          "metadata": {
            "tags": []
          },
          "execution_count": 31
        }
      ]
    },
    {
      "cell_type": "code",
      "metadata": {
        "id": "b9WXRUIedFmu"
      },
      "source": [
        "y_train_cat=to_categorical(y_train_proc)\n",
        "y_test_cat=to_categorical(y_test)"
      ],
      "execution_count": null,
      "outputs": []
    },
    {
      "cell_type": "code",
      "metadata": {
        "colab": {
          "base_uri": "https://localhost:8080/"
        },
        "id": "YlwcKz3Pkx_K",
        "outputId": "a6d40f52-c641-40fc-dc4e-e45eca757d6f"
      },
      "source": [
        "# classes are ordered by index value \n",
        "y_train_cat[:10]"
      ],
      "execution_count": null,
      "outputs": [
        {
          "output_type": "execute_result",
          "data": {
            "text/plain": [
              "array([[1., 0., 0.],\n",
              "       [1., 0., 0.],\n",
              "       [1., 0., 0.],\n",
              "       [1., 0., 0.],\n",
              "       [0., 1., 0.],\n",
              "       [1., 0., 0.],\n",
              "       [0., 0., 1.],\n",
              "       [1., 0., 0.],\n",
              "       [0., 1., 0.],\n",
              "       [1., 0., 0.]], dtype=float32)"
            ]
          },
          "metadata": {
            "tags": []
          },
          "execution_count": 34
        }
      ]
    },
    {
      "cell_type": "markdown",
      "metadata": {
        "id": "xBfurHePbpod"
      },
      "source": [
        "# LSTM NN"
      ]
    },
    {
      "cell_type": "markdown",
      "metadata": {
        "id": "H65kuvi-IeI3"
      },
      "source": [
        "# Network Definition\n",
        "\n",
        "\n",
        "\n",
        "\n",
        "\n"
      ]
    },
    {
      "cell_type": "code",
      "metadata": {
        "id": "wQoIhs4BbxcL"
      },
      "source": [
        "#reference for understanding LSTM return sequence parameter\n",
        "#https://www.dlology.com/blog/how-to-use-return_state-or-return_sequences-in-keras/\n",
        "\n",
        "def network(X_train,y_train,X_test,y_test):\n",
        "    \n",
        "\n",
        "    im_shape=(X_train.shape[1],1)\n",
        "    inputs_lstm=Input(shape=(im_shape), name='inputs_lstm')\n",
        "    lstm_1=LSTM(units=64, return_sequences=True, input_shape=im_shape)(inputs_lstm)\n",
        "    #conv1_1=BatchNormalization()(conv1_1)\n",
        "    #pool1=MaxPool1D(pool_size=(3), strides=(2), padding=\"same\")(conv1_1)\n",
        "    lstm_2=LSTM(units=64, return_sequences=True)(lstm_1)\n",
        "    #conv2_1=BatchNormalization()(conv2_1)\n",
        "    #pool2=MaxPool1D(pool_size=(2), strides=(2), padding=\"same\")(conv2_1)\n",
        "    #conv3_1=Convolution1D(64, (3), activation='relu', input_shape=im_shape)(pool2)\n",
        "    #conv3_1=BatchNormalization()(conv3_1)\n",
        "    #pool3=MaxPool1D(pool_size=(2), strides=(2), padding=\"same\")(conv3_1)\n",
        "    flatten=Flatten()(lstm_2)\n",
        "    #dense_end1 = Dense(64, activation='relu')(flatten)\n",
        "    dense_end2 = Dense(32, activation='relu')(flatten)\n",
        "    main_output = Dense(3, activation='softmax', name='main_output')(dense_end2)\n",
        "    \n",
        "    \n",
        "    model = Model(inputs= inputs_lstm, outputs=main_output)\n",
        "    model.compile(optimizer='adam', loss='categorical_crossentropy',metrics = ['accuracy'])\n",
        "    \n",
        "    \n",
        "    callbacks = [EarlyStopping(monitor='val_loss', patience=8),\n",
        "             ModelCheckpoint(filepath='best_model.h5', monitor='val_loss', save_best_only=True)]\n",
        "\n",
        "    history=model.fit(X_train, y_train, epochs=40,callbacks=callbacks, batch_size=32,validation_data=(X_test,y_test))\n",
        "    model.load_weights('best_model.h5')\n",
        "    return(model,history)"
      ],
      "execution_count": null,
      "outputs": []
    },
    {
      "cell_type": "code",
      "metadata": {
        "colab": {
          "base_uri": "https://localhost:8080/"
        },
        "id": "kHHK7WIvbxWu",
        "outputId": "84b95d43-e8d3-4aca-f720-5e9a6400df30"
      },
      "source": [
        "model,history=network(X_train,y_train_cat,X_test,y_test_cat)"
      ],
      "execution_count": null,
      "outputs": [
        {
          "output_type": "stream",
          "text": [
            "Epoch 1/40\n",
            "779/779 [==============================] - 46s 17ms/step - loss: 0.5467 - accuracy: 0.7653 - val_loss: 0.2823 - val_accuracy: 0.8837\n",
            "Epoch 2/40\n",
            "779/779 [==============================] - 12s 15ms/step - loss: 0.2219 - accuracy: 0.9117 - val_loss: 0.2060 - val_accuracy: 0.9179\n",
            "Epoch 3/40\n",
            "779/779 [==============================] - 11s 15ms/step - loss: 0.1404 - accuracy: 0.9476 - val_loss: 0.1330 - val_accuracy: 0.9594\n",
            "Epoch 4/40\n",
            "779/779 [==============================] - 12s 15ms/step - loss: 0.0996 - accuracy: 0.9633 - val_loss: 0.1748 - val_accuracy: 0.9457\n",
            "Epoch 5/40\n",
            "779/779 [==============================] - 12s 15ms/step - loss: 0.0908 - accuracy: 0.9668 - val_loss: 0.1254 - val_accuracy: 0.9612\n",
            "Epoch 6/40\n",
            "779/779 [==============================] - 12s 15ms/step - loss: 0.0615 - accuracy: 0.9769 - val_loss: 0.1035 - val_accuracy: 0.9705\n",
            "Epoch 7/40\n",
            "779/779 [==============================] - 12s 15ms/step - loss: 0.0542 - accuracy: 0.9805 - val_loss: 0.1265 - val_accuracy: 0.9685\n",
            "Epoch 8/40\n",
            "779/779 [==============================] - 12s 15ms/step - loss: 0.0463 - accuracy: 0.9837 - val_loss: 0.1077 - val_accuracy: 0.9722\n",
            "Epoch 9/40\n",
            "779/779 [==============================] - 12s 16ms/step - loss: 0.0417 - accuracy: 0.9854 - val_loss: 0.0978 - val_accuracy: 0.9781\n",
            "Epoch 10/40\n",
            "779/779 [==============================] - 12s 16ms/step - loss: 0.0292 - accuracy: 0.9900 - val_loss: 0.1224 - val_accuracy: 0.9715\n",
            "Epoch 11/40\n",
            "779/779 [==============================] - 12s 15ms/step - loss: 0.0320 - accuracy: 0.9895 - val_loss: 0.1333 - val_accuracy: 0.9661\n",
            "Epoch 12/40\n",
            "779/779 [==============================] - 12s 15ms/step - loss: 0.0243 - accuracy: 0.9921 - val_loss: 0.0949 - val_accuracy: 0.9742\n",
            "Epoch 13/40\n",
            "779/779 [==============================] - 12s 15ms/step - loss: 0.0177 - accuracy: 0.9935 - val_loss: 0.1145 - val_accuracy: 0.9737\n",
            "Epoch 14/40\n",
            "779/779 [==============================] - 12s 15ms/step - loss: 0.0231 - accuracy: 0.9925 - val_loss: 0.0971 - val_accuracy: 0.9754\n",
            "Epoch 15/40\n",
            "779/779 [==============================] - 12s 15ms/step - loss: 0.0167 - accuracy: 0.9944 - val_loss: 0.1026 - val_accuracy: 0.9801\n",
            "Epoch 16/40\n",
            "779/779 [==============================] - 12s 15ms/step - loss: 0.0136 - accuracy: 0.9954 - val_loss: 0.1152 - val_accuracy: 0.9722\n",
            "Epoch 17/40\n",
            "779/779 [==============================] - 11s 15ms/step - loss: 0.0202 - accuracy: 0.9928 - val_loss: 0.1139 - val_accuracy: 0.9764\n",
            "Epoch 18/40\n",
            "779/779 [==============================] - 12s 16ms/step - loss: 0.0182 - accuracy: 0.9952 - val_loss: 0.1032 - val_accuracy: 0.9794\n",
            "Epoch 19/40\n",
            "779/779 [==============================] - 11s 15ms/step - loss: 0.0136 - accuracy: 0.9959 - val_loss: 0.1359 - val_accuracy: 0.9730\n",
            "Epoch 20/40\n",
            "779/779 [==============================] - 12s 15ms/step - loss: 0.0113 - accuracy: 0.9972 - val_loss: 0.0921 - val_accuracy: 0.9821\n",
            "Epoch 21/40\n",
            "779/779 [==============================] - 11s 14ms/step - loss: 0.0118 - accuracy: 0.9963 - val_loss: 0.0887 - val_accuracy: 0.9794\n",
            "Epoch 22/40\n",
            "779/779 [==============================] - 12s 15ms/step - loss: 0.0094 - accuracy: 0.9974 - val_loss: 0.1257 - val_accuracy: 0.9735\n",
            "Epoch 23/40\n",
            "779/779 [==============================] - 12s 15ms/step - loss: 0.0066 - accuracy: 0.9976 - val_loss: 0.1796 - val_accuracy: 0.9648\n",
            "Epoch 24/40\n",
            "779/779 [==============================] - 11s 15ms/step - loss: 0.0313 - accuracy: 0.9910 - val_loss: 0.0813 - val_accuracy: 0.9813\n",
            "Epoch 25/40\n",
            "779/779 [==============================] - 12s 15ms/step - loss: 0.0070 - accuracy: 0.9977 - val_loss: 0.0999 - val_accuracy: 0.9798\n",
            "Epoch 26/40\n",
            "779/779 [==============================] - 11s 15ms/step - loss: 0.0148 - accuracy: 0.9953 - val_loss: 0.0854 - val_accuracy: 0.9860\n",
            "Epoch 27/40\n",
            "779/779 [==============================] - 11s 14ms/step - loss: 0.0114 - accuracy: 0.9970 - val_loss: 0.0932 - val_accuracy: 0.9801\n",
            "Epoch 28/40\n",
            "779/779 [==============================] - 12s 15ms/step - loss: 0.0087 - accuracy: 0.9970 - val_loss: 0.0908 - val_accuracy: 0.9867\n",
            "Epoch 29/40\n",
            "779/779 [==============================] - 12s 15ms/step - loss: 0.0047 - accuracy: 0.9987 - val_loss: 0.1027 - val_accuracy: 0.9865\n",
            "Epoch 30/40\n",
            "779/779 [==============================] - 11s 15ms/step - loss: 0.0170 - accuracy: 0.9946 - val_loss: 0.0834 - val_accuracy: 0.9875\n",
            "Epoch 31/40\n",
            "779/779 [==============================] - 12s 15ms/step - loss: 0.0033 - accuracy: 0.9990 - val_loss: 0.0835 - val_accuracy: 0.9875\n",
            "Epoch 32/40\n",
            "779/779 [==============================] - 12s 15ms/step - loss: 0.0098 - accuracy: 0.9975 - val_loss: 0.0799 - val_accuracy: 0.9892\n",
            "Epoch 33/40\n",
            "779/779 [==============================] - 12s 15ms/step - loss: 0.0092 - accuracy: 0.9977 - val_loss: 0.0775 - val_accuracy: 0.9880\n",
            "Epoch 34/40\n",
            "779/779 [==============================] - 12s 15ms/step - loss: 0.0011 - accuracy: 0.9998 - val_loss: 0.0897 - val_accuracy: 0.9892\n",
            "Epoch 35/40\n",
            "779/779 [==============================] - 12s 15ms/step - loss: 0.0132 - accuracy: 0.9964 - val_loss: 0.1171 - val_accuracy: 0.9806\n",
            "Epoch 36/40\n",
            "779/779 [==============================] - 12s 15ms/step - loss: 0.0093 - accuracy: 0.9964 - val_loss: 0.0865 - val_accuracy: 0.9865\n",
            "Epoch 37/40\n",
            "779/779 [==============================] - 12s 15ms/step - loss: 0.0063 - accuracy: 0.9980 - val_loss: 0.1641 - val_accuracy: 0.9698\n",
            "Epoch 38/40\n",
            "779/779 [==============================] - 12s 15ms/step - loss: 0.0090 - accuracy: 0.9980 - val_loss: 0.0938 - val_accuracy: 0.9838\n",
            "Epoch 39/40\n",
            "779/779 [==============================] - 12s 15ms/step - loss: 0.0042 - accuracy: 0.9989 - val_loss: 0.1064 - val_accuracy: 0.9860\n",
            "Epoch 40/40\n",
            "779/779 [==============================] - 12s 15ms/step - loss: 0.0127 - accuracy: 0.9965 - val_loss: 0.0831 - val_accuracy: 0.9855\n"
          ],
          "name": "stdout"
        }
      ]
    },
    {
      "cell_type": "code",
      "metadata": {
        "id": "s-oHg2tVIY9V"
      },
      "source": [
        ""
      ],
      "execution_count": null,
      "outputs": []
    },
    {
      "cell_type": "markdown",
      "metadata": {
        "id": "jfSluSUPIzso"
      },
      "source": [
        "# Model Evaluation"
      ]
    },
    {
      "cell_type": "code",
      "metadata": {
        "id": "RddXdQu1bxZh"
      },
      "source": [
        "def evaluate_model(history,X_test,y_test,model):\n",
        "    scores = model.evaluate((X_test),y_test, verbose=0)\n",
        "    print(\"Accuracy: %.2f%%\" % (scores[1]*100))\n",
        "    \n",
        "    print(history)\n",
        "    fig1, ax_acc = plt.subplots()\n",
        "    plt.plot(history.history['accuracy'])\n",
        "    plt.plot(history.history['val_accuracy'])\n",
        "    plt.xlabel('Epoch')\n",
        "    plt.ylabel('Accuracy')\n",
        "    plt.title('Model - Accuracy')\n",
        "    plt.legend(['Training', 'Validation'], loc='lower right')\n",
        "    plt.show()\n",
        "    \n",
        "    fig2, ax_loss = plt.subplots()\n",
        "    plt.xlabel('Epoch')\n",
        "    plt.ylabel('Loss')\n",
        "    plt.title('Model- Loss')\n",
        "    plt.legend(['Training', 'Validation'], loc='upper right')\n",
        "    plt.plot(history.history['loss'])\n",
        "    plt.plot(history.history['val_loss'])\n",
        "    plt.show()\n",
        "\n",
        "    #Luis: Changed from strings to integer\n",
        "    target_names=[0, 1]\n",
        "    \n",
        "    #y_true=[]\n",
        "    #for element in y_test:\n",
        "    #    y_true.append(np.argmax(element))\n",
        "    #prediction_proba=model.predict(X_test)\n",
        "    #prediction=np.argmax(prediction_proba,axis=1)\n",
        "    #cnf_matrix = confusion_matrix(y_true, prediction)\n",
        "    "
      ],
      "execution_count": null,
      "outputs": []
    },
    {
      "cell_type": "code",
      "metadata": {
        "colab": {
          "base_uri": "https://localhost:8080/",
          "height": 610
        },
        "id": "KTCBKPsLbxT_",
        "outputId": "284affb3-78c6-4388-d3dc-29a8aa0bf5b4"
      },
      "source": [
        "evaluate_model(history,X_test,y_test_cat,model)"
      ],
      "execution_count": null,
      "outputs": [
        {
          "output_type": "stream",
          "text": [
            "Accuracy: 98.80%\n",
            "<tensorflow.python.keras.callbacks.History object at 0x7fd16cd8c050>\n"
          ],
          "name": "stdout"
        },
        {
          "output_type": "display_data",
          "data": {
            "image/png": "[encoded data removed]",
            "text/plain": [
              "<Figure size 432x288 with 1 Axes>"
            ]
          },
          "metadata": {
            "tags": [],
            "needs_background": "light"
          }
        },
        {
          "output_type": "display_data",
          "data": {
            "image/png": "[encoded data removed]",
            "text/plain": [
              "<Figure size 432x288 with 1 Axes>"
            ]
          },
          "metadata": {
            "tags": [],
            "needs_background": "light"
          }
        }
      ]
    },
    {
      "cell_type": "code",
      "metadata": {
        "colab": {
          "base_uri": "https://localhost:8080/"
        },
        "id": "Tsm5skKlNOpL",
        "outputId": "b99fa09b-ca6e-42db-a275-571bf47cb4eb"
      },
      "source": [
        "y_pred=model.predict(X_test)\n",
        "y_pred"
      ],
      "execution_count": null,
      "outputs": [
        {
          "output_type": "execute_result",
          "data": {
            "text/plain": [
              "array([[5.9507026e-21, 9.9802619e-01, 1.9738099e-03],\n",
              "       [9.9999964e-01, 3.7676168e-07, 3.0381685e-12],\n",
              "       [1.0000000e+00, 2.0144185e-08, 4.2527023e-17],\n",
              "       ...,\n",
              "       [7.5935213e-20, 1.0000000e+00, 4.2160882e-11],\n",
              "       [6.6612651e-05, 9.9993336e-01, 1.6261012e-11],\n",
              "       [4.1334835e-23, 1.0000000e+00, 6.6895919e-11]], dtype=float32)"
            ]
          },
          "metadata": {
            "tags": []
          },
          "execution_count": 39
        }
      ]
    },
    {
      "cell_type": "code",
      "metadata": {
        "colab": {
          "base_uri": "https://localhost:8080/"
        },
        "id": "wIsLMU-TkK0p",
        "outputId": "21b99319-2e4b-4f96-bcad-6e136339e336"
      },
      "source": [
        "y_test_cat"
      ],
      "execution_count": null,
      "outputs": [
        {
          "output_type": "execute_result",
          "data": {
            "text/plain": [
              "array([[0., 1., 0.],\n",
              "       [1., 0., 0.],\n",
              "       [1., 0., 0.],\n",
              "       ...,\n",
              "       [0., 1., 0.],\n",
              "       [0., 1., 0.],\n",
              "       [0., 1., 0.]], dtype=float32)"
            ]
          },
          "metadata": {
            "tags": []
          },
          "execution_count": 40
        }
      ]
    },
    {
      "cell_type": "code",
      "metadata": {
        "colab": {
          "base_uri": "https://localhost:8080/"
        },
        "id": "CS6uUUGGyEyE",
        "outputId": "89d424ba-23ad-4fb5-f75c-f0355511c35e"
      },
      "source": [
        "y_check = y_test_cat.argmax(axis=1)\n",
        "np.count_nonzero(y_check == 1)"
      ],
      "execution_count": null,
      "outputs": [
        {
          "output_type": "execute_result",
          "data": {
            "text/plain": [
              "2122"
            ]
          },
          "metadata": {
            "tags": []
          },
          "execution_count": 41
        }
      ]
    },
    {
      "cell_type": "code",
      "metadata": {
        "id": "-U_Sb3RYbxQ5"
      },
      "source": [
        "#\n",
        "import itertools\n",
        "def plot_confusion_matrix(cm, classes,\n",
        "                          normalize=False,\n",
        "                          title='Confusion matrix',\n",
        "                          cmap=plt.cm.Blues):\n",
        "    \"\"\"\n",
        "    This function prints and plots the confusion matrix.\n",
        "    Normalization can be applied by setting `normalize=True`.\n",
        "    \"\"\"\n",
        "    if normalize:\n",
        "        cm = cm.astype('float') / cm.sum(axis=1)[:, np.newaxis]\n",
        "        print(\"Normalized confusion matrix\")\n",
        "    else:\n",
        "        print('Confusion matrix, without normalization')\n",
        "\n",
        "    plt.imshow(cm, interpolation='nearest', cmap=cmap)\n",
        "    plt.title(title)\n",
        "    plt.colorbar()\n",
        "    tick_marks = np.arange(len(classes))\n",
        "    plt.xticks(tick_marks, classes, rotation=45)\n",
        "    plt.yticks(tick_marks, classes)\n",
        "\n",
        "    fmt = '.2f' if normalize else 'd'\n",
        "    thresh = cm.max() / 2.\n",
        "    for i, j in itertools.product(range(cm.shape[0]), range(cm.shape[1])):\n",
        "        plt.text(j, i, format(cm[i, j], fmt),\n",
        "                 horizontalalignment=\"center\",\n",
        "                 color=\"white\" if cm[i, j] > thresh else \"black\")\n",
        "\n",
        "    plt.tight_layout()\n",
        "    plt.ylabel('True label')\n",
        "    plt.xlabel('Predicted label')"
      ],
      "execution_count": null,
      "outputs": []
    },
    {
      "cell_type": "code",
      "metadata": {
        "id": "mIPGRA3dbxK7",
        "colab": {
          "base_uri": "https://localhost:8080/",
          "height": 387
        },
        "outputId": "b05113e9-f850-40a8-89ce-7047312379be"
      },
      "source": [
        "# Compute confusion matrix\n",
        "cnf_matrix = confusion_matrix(y_test_cat.argmax(axis=1), y_pred.argmax(axis=1))\n",
        "np.set_printoptions(precision=2)\n",
        "\n",
        "# Plot non-normalized confusion matrix\n",
        "plt.figure(figsize=(5, 5))\n",
        "plot_confusion_matrix(cnf_matrix, classes=['No', 'MI', 'VE'],normalize=True,\n",
        "                      title='Confusion matrix, with normalization')\n",
        "plt.show()"
      ],
      "execution_count": null,
      "outputs": [
        {
          "output_type": "stream",
          "text": [
            "Normalized confusion matrix\n"
          ],
          "name": "stdout"
        },
        {
          "output_type": "display_data",
          "data": {
            "image/png": "[encoded data removed]",
            "text/plain": [
              "<Figure size 360x360 with 2 Axes>"
            ]
          },
          "metadata": {
            "tags": [],
            "needs_background": "light"
          }
        }
      ]
    },
    {
      "cell_type": "code",
      "metadata": {
        "id": "5qJeekiKbxH0",
        "colab": {
          "base_uri": "https://localhost:8080/"
        },
        "outputId": "f78ed6ea-ef4c-4b9b-e5f1-8a3f539b91ce"
      },
      "source": [
        "target_names = ['No', 'MI', 'VE']\n",
        "print(classification_report(y_test_cat.argmax(axis=1), y_pred.argmax(axis=1),target_names=target_names))"
      ],
      "execution_count": null,
      "outputs": [
        {
          "output_type": "stream",
          "text": [
            "              precision    recall  f1-score   support\n",
            "\n",
            "          No       0.99      0.98      0.99       783\n",
            "          MI       0.99      0.99      0.99      2122\n",
            "          VE       0.99      0.98      0.99      1163\n",
            "\n",
            "    accuracy                           0.99      4068\n",
            "   macro avg       0.99      0.99      0.99      4068\n",
            "weighted avg       0.99      0.99      0.99      4068\n",
            "\n"
          ],
          "name": "stdout"
        }
      ]
    },
    {
      "cell_type": "code",
      "metadata": {
        "id": "G6Ck03QIbxEY"
      },
      "source": [
        ""
      ],
      "execution_count": null,
      "outputs": []
    },
    {
      "cell_type": "code",
      "metadata": {
        "id": "doDB1q0AX2vy"
      },
      "source": [
        ""
      ],
      "execution_count": null,
      "outputs": []
    },
    {
      "cell_type": "code",
      "metadata": {
        "id": "yGSIcEXuX2sG"
      },
      "source": [
        ""
      ],
      "execution_count": null,
      "outputs": []
    },
    {
      "cell_type": "code",
      "metadata": {
        "id": "jjzoZs1IX2oP"
      },
      "source": [
        ""
      ],
      "execution_count": null,
      "outputs": []
    },
    {
      "cell_type": "code",
      "metadata": {
        "id": "fGcbfLs_X2VV"
      },
      "source": [
        ""
      ],
      "execution_count": null,
      "outputs": []
    },
    {
      "cell_type": "code",
      "metadata": {
        "id": "wYdXppFPQW4M"
      },
      "source": [
        ""
      ],
      "execution_count": null,
      "outputs": []
    }
  ]
}